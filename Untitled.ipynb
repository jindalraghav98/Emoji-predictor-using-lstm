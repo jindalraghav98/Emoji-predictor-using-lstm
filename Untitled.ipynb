{
 "cells": [
  {
   "cell_type": "code",
   "execution_count": 48,
   "metadata": {},
   "outputs": [
    {
     "name": "stdout",
     "output_type": "stream",
     "text": [
      "{':1st_place_medal:': '🥇', ':2nd_place_medal:': '🥈', ':3rd_place_medal:': '🥉', ':AB_button_(blood_type):': '🆎', ':ATM_sign:': '🏧', ':A_button_(blood_type):': '🅰', ':Afghanistan:': '🇦🇫', ':Albania:': '🇦🇱', ':Algeria:': '🇩🇿', ':American_Samoa:': '🇦🇸', ':Andorra:': '🇦🇩', ':Angola:': '🇦🇴', ':Anguilla:': '🇦🇮', ':Antarctica:': '🇦🇶', ':Antigua_&_Barbuda:': '🇦🇬', ':Aquarius:': '♒', ':Argentina:': '🇦🇷', ':Aries:': '♈', ':Armenia:': '🇦🇲', ':Aruba:': '🇦🇼', ':Ascension_Island:': '🇦🇨', ':Australia:': '🇦🇺', ':Austria:': '🇦🇹', ':Azerbaijan:': '🇦🇿', ':BACK_arrow:': '🔙', ':B_button_(blood_type):': '🅱', ':Bahamas:': '🇧🇸', ':Bahrain:': '🇧🇭', ':Bangladesh:': '🇧🇩', ':Barbados:': '🇧🇧', ':Belarus:': '🇧🇾', ':Belgium:': '🇧🇪', ':Belize:': '🇧🇿', ':Benin:': '🇧🇯', ':Bermuda:': '🇧🇲', ':Bhutan:': '🇧🇹', ':Bolivia:': '🇧🇴', ':Bosnia_&_Herzegovina:': '🇧🇦', ':Botswana:': '🇧🇼', ':Bouvet_Island:': '🇧🇻', ':Brazil:': '🇧🇷', ':British_Indian_Ocean_Territory:': '🇮🇴', ':British_Virgin_Islands:': '🇻🇬', ':Brunei:': '🇧🇳', ':Bulgaria:': '🇧🇬', ':Burkina_Faso:': '🇧🇫', ':Burundi:': '🇧🇮', ':CL_button:': '🆑', ':COOL_button:': '🆒', ':Cambodia:': '🇰🇭', ':Cameroon:': '🇨🇲', ':Canada:': '🇨🇦', ':Canary_Islands:': '🇮🇨', ':Cancer:': '♋', ':Cape_Verde:': '🇨🇻', ':Capricorn:': '♑', ':Caribbean_Netherlands:': '🇧🇶', ':Cayman_Islands:': '🇰🇾', ':Central_African_Republic:': '🇨🇫', ':Ceuta_&_Melilla:': '🇪🇦', ':Chad:': '🇹🇩', ':Chile:': '🇨🇱', ':China:': '🇨🇳', ':Christmas_Island:': '🇨🇽', ':Christmas_tree:': '🎄', ':Clipperton_Island:': '🇨🇵', ':Cocos_(Keeling)_Islands:': '🇨🇨', ':Colombia:': '🇨🇴', ':Comoros:': '🇰🇲', ':Congo_-_Brazzaville:': '🇨🇬', ':Congo_-_Kinshasa:': '🇨🇩', ':Cook_Islands:': '🇨🇰', ':Costa_Rica:': '🇨🇷', ':Croatia:': '🇭🇷', ':Cuba:': '🇨🇺', ':Curaçao:': '🇨🇼', ':Cyprus:': '🇨🇾', ':Czechia:': '🇨🇿', ':Côte_d’Ivoire:': '🇨🇮', ':Denmark:': '🇩🇰', ':Diego_Garcia:': '🇩🇬', ':Djibouti:': '🇩🇯', ':Dominica:': '🇩🇲', ':Dominican_Republic:': '🇩🇴', ':END_arrow:': '🔚', ':Ecuador:': '🇪🇨', ':Egypt:': '🇪🇬', ':El_Salvador:': '🇸🇻', ':England:': '🏴\\U000e0067\\U000e0062\\U000e0065\\U000e006e\\U000e0067\\U000e007f', ':Equatorial_Guinea:': '🇬🇶', ':Eritrea:': '🇪🇷', ':Estonia:': '🇪🇪', ':Ethiopia:': '🇪🇹', ':European_Union:': '🇪🇺', ':FREE_button:': '🆓', ':Falkland_Islands:': '🇫🇰', ':Faroe_Islands:': '🇫🇴', ':Fiji:': '🇫🇯', ':Finland:': '🇫🇮', ':France:': '🇫🇷', ':French_Guiana:': '🇬🇫', ':French_Polynesia:': '🇵🇫', ':French_Southern_Territories:': '🇹🇫', ':Gabon:': '🇬🇦', ':Gambia:': '🇬🇲', ':Gemini:': '♊', ':Georgia:': '🇬🇪', ':Germany:': '🇩🇪', ':Ghana:': '🇬🇭', ':Gibraltar:': '🇬🇮', ':Greece:': '🇬🇷', ':Greenland:': '🇬🇱', ':Grenada:': '🇬🇩', ':Guadeloupe:': '🇬🇵', ':Guam:': '🇬🇺', ':Guatemala:': '🇬🇹', ':Guernsey:': '🇬🇬', ':Guinea:': '🇬🇳', ':Guinea-Bissau:': '🇬🇼', ':Guyana:': '🇬🇾', ':Haiti:': '🇭🇹', ':Heard_&_McDonald_Islands:': '🇭🇲', ':Honduras:': '🇭🇳', ':Hong_Kong_SAR_China:': '🇭🇰', ':Hungary:': '🇭🇺', ':ID_button:': '🆔', ':Iceland:': '🇮🇸', ':India:': '🇮🇳', ':Indonesia:': '🇮🇩', ':Iran:': '🇮🇷', ':Iraq:': '🇮🇶', ':Ireland:': '🇮🇪', ':Isle_of_Man:': '🇮🇲', ':Israel:': '🇮🇱', ':Italy:': '🇮🇹', ':Jamaica:': '🇯🇲', ':Japan:': '🇯🇵', ':Japanese_acceptable_button:': '🉑', ':Japanese_application_button:': '🈸', ':Japanese_bargain_button:': '🉐', ':Japanese_castle:': '🏯', ':Japanese_congratulations_button:': '㊗', ':Japanese_discount_button:': '🈹', ':Japanese_dolls:': '🎎', ':Japanese_free_of_charge_button:': '🈚', ':Japanese_here_button:': '🈁', ':Japanese_monthly_amount_button:': '🈷', ':Japanese_no_vacancy_button:': '🈵', ':Japanese_not_free_of_charge_button:': '🈶', ':Japanese_open_for_business_button:': '🈺', ':Japanese_passing_grade_button:': '🈴', ':Japanese_post_office:': '🏣', ':Japanese_prohibited_button:': '🈲', ':Japanese_reserved_button:': '🈯', ':Japanese_secret_button:': '㊙', ':Japanese_service_charge_button:': '🈂', ':Japanese_symbol_for_beginner:': '🔰', ':Japanese_vacancy_button:': '🈳', ':Jersey:': '🇯🇪', ':Jordan:': '🇯🇴', ':Kazakhstan:': '🇰🇿', ':Kenya:': '🇰🇪', ':Kiribati:': '🇰🇮', ':Kosovo:': '🇽🇰', ':Kuwait:': '🇰🇼', ':Kyrgyzstan:': '🇰🇬', ':Laos:': '🇱🇦', ':Latvia:': '🇱🇻', ':Lebanon:': '🇱🇧', ':Leo:': '♌', ':Lesotho:': '🇱🇸', ':Liberia:': '🇱🇷', ':Libra:': '♎', ':Libya:': '🇱🇾', ':Liechtenstein:': '🇱🇮', ':Lithuania:': '🇱🇹', ':Luxembourg:': '🇱🇺', ':Macau_SAR_China:': '🇲🇴', ':Macedonia:': '🇲🇰', ':Madagascar:': '🇲🇬', ':Malawi:': '🇲🇼', ':Malaysia:': '🇲🇾', ':Maldives:': '🇲🇻', ':Mali:': '🇲🇱', ':Malta:': '🇲🇹', ':Marshall_Islands:': '🇲🇭', ':Martinique:': '🇲🇶', ':Mauritania:': '🇲🇷', ':Mauritius:': '🇲🇺', ':Mayotte:': '🇾🇹', ':Mexico:': '🇲🇽', ':Micronesia:': '🇫🇲', ':Moldova:': '🇲🇩', ':Monaco:': '🇲🇨', ':Mongolia:': '🇲🇳', ':Montenegro:': '🇲🇪', ':Montserrat:': '🇲🇸', ':Morocco:': '🇲🇦', ':Mozambique:': '🇲🇿', ':Mrs._Claus:': '🤶', ':Mrs._Claus_dark_skin_tone:': '🤶🏿', ':Mrs._Claus_light_skin_tone:': '🤶🏻', ':Mrs._Claus_medium-dark_skin_tone:': '🤶🏾', ':Mrs._Claus_medium-light_skin_tone:': '🤶🏼', ':Mrs._Claus_medium_skin_tone:': '🤶🏽', ':Myanmar_(Burma):': '🇲🇲', ':NEW_button:': '🆕', ':NG_button:': '🆖', ':Namibia:': '🇳🇦', ':Nauru:': '🇳🇷', ':Nepal:': '🇳🇵', ':Netherlands:': '🇳🇱', ':New_Caledonia:': '🇳🇨', ':New_Zealand:': '🇳🇿', ':Nicaragua:': '🇳🇮', ':Niger:': '🇳🇪', ':Nigeria:': '🇳🇬', ':Niue:': '🇳🇺', ':Norfolk_Island:': '🇳🇫', ':North_Korea:': '🇰🇵', ':Northern_Mariana_Islands:': '🇲🇵', ':Norway:': '🇳🇴', ':OK_button:': '🆗', ':OK_hand:': '👌', ':OK_hand_dark_skin_tone:': '👌🏿', ':OK_hand_light_skin_tone:': '👌🏻', ':OK_hand_medium-dark_skin_tone:': '👌🏾', ':OK_hand_medium-light_skin_tone:': '👌🏼', ':OK_hand_medium_skin_tone:': '👌🏽', ':ON!_arrow:': '🔛', ':O_button_(blood_type):': '🅾', ':Oman:': '🇴🇲', ':Ophiuchus:': '⛎', ':P_button:': '🅿', ':Pakistan:': '🇵🇰', ':Palau:': '🇵🇼', ':Palestinian_Territories:': '🇵🇸', ':Panama:': '🇵🇦', ':Papua_New_Guinea:': '🇵🇬', ':Paraguay:': '🇵🇾', ':Peru:': '🇵🇪', ':Philippines:': '🇵🇭', ':Pisces:': '♓', ':Pitcairn_Islands:': '🇵🇳', ':Poland:': '🇵🇱', ':Portugal:': '🇵🇹', ':Puerto_Rico:': '🇵🇷', ':Qatar:': '🇶🇦', ':Romania:': '🇷🇴', ':Russia:': '🇷🇺', ':Rwanda:': '🇷🇼', ':Réunion:': '🇷🇪', ':SOON_arrow:': '🔜', ':SOS_button:': '🆘', ':Sagittarius:': '♐', ':Samoa:': '🇼🇸', ':San_Marino:': '🇸🇲', ':Santa_Claus:': '🎅', ':Santa_Claus_dark_skin_tone:': '🎅🏿', ':Santa_Claus_light_skin_tone:': '🎅🏻', ':Santa_Claus_medium-dark_skin_tone:': '🎅🏾', ':Santa_Claus_medium-light_skin_tone:': '🎅🏼', ':Santa_Claus_medium_skin_tone:': '🎅🏽', ':Saudi_Arabia:': '🇸🇦', ':Scorpio:': '♏', ':Scotland:': '🏴\\U000e0067\\U000e0062\\U000e0073\\U000e0063\\U000e0074\\U000e007f', ':Senegal:': '🇸🇳', ':Serbia:': '🇷🇸', ':Seychelles:': '🇸🇨', ':Sierra_Leone:': '🇸🇱', ':Singapore:': '🇸🇬', ':Sint_Maarten:': '🇸🇽', ':Slovakia:': '🇸🇰', ':Slovenia:': '🇸🇮', ':Solomon_Islands:': '🇸🇧', ':Somalia:': '🇸🇴', ':South_Africa:': '🇿🇦', ':South_Georgia_&_South_Sandwich_Islands:': '🇬🇸', ':South_Korea:': '🇰🇷', ':South_Sudan:': '🇸🇸', ':Spain:': '🇪🇸', ':Sri_Lanka:': '🇱🇰', ':St._Barthélemy:': '🇧🇱', ':St._Helena:': '🇸🇭', ':St._Kitts_&_Nevis:': '🇰🇳', ':St._Lucia:': '🇱🇨', ':St._Martin:': '🇲🇫', ':St._Pierre_&_Miquelon:': '🇵🇲', ':St._Vincent_&_Grenadines:': '🇻🇨', ':Statue_of_Liberty:': '🗽', ':Sudan:': '🇸🇩', ':Suriname:': '🇸🇷', ':Svalbard_&_Jan_Mayen:': '🇸🇯', ':Swaziland:': '🇸🇿', ':Sweden:': '🇸🇪', ':Switzerland:': '🇨🇭', ':Syria:': '🇸🇾', ':São_Tomé_&_Príncipe:': '🇸🇹', ':T-Rex:': '🦖', ':TOP_arrow:': '🔝', ':Taiwan:': '🇹🇼', ':Tajikistan:': '🇹🇯', ':Tanzania:': '🇹🇿', ':Taurus:': '♉', ':Thailand:': '🇹🇭', ':Timor-Leste:': '🇹🇱', ':Togo:': '🇹🇬', ':Tokelau:': '🇹🇰', ':Tokyo_tower:': '🗼', ':Tonga:': '🇹🇴', ':Trinidad_&_Tobago:': '🇹🇹', ':Tristan_da_Cunha:': '🇹🇦', ':Tunisia:': '🇹🇳', ':Turkey:': '🇹🇷', ':Turkmenistan:': '🇹🇲', ':Turks_&_Caicos_Islands:': '🇹🇨', ':Tuvalu:': '🇹🇻', ':U.S._Outlying_Islands:': '🇺🇲', ':U.S._Virgin_Islands:': '🇻🇮', ':UP!_button:': '🆙', ':Uganda:': '🇺🇬', ':Ukraine:': '🇺🇦', ':United_Arab_Emirates:': '🇦🇪', ':United_Kingdom:': '🇬🇧', ':United_Nations:': '🇺🇳', ':United_States:': '🇺🇸', ':Uruguay:': '🇺🇾', ':Uzbekistan:': '🇺🇿', ':VS_button:': '🆚', ':Vanuatu:': '🇻🇺', ':Vatican_City:': '🇻🇦', ':Venezuela:': '🇻🇪', ':Vietnam:': '🇻🇳', ':Virgo:': '♍', ':Wales:': '🏴\\U000e0067\\U000e0062\\U000e0077\\U000e006c\\U000e0073\\U000e007f', ':Wallis_&_Futuna:': '🇼🇫', ':Western_Sahara:': '🇪🇭', ':Yemen:': '🇾🇪', ':Zambia:': '🇿🇲', ':Zimbabwe:': '🇿🇼', ':abacus:': '🧮', ':adhesive_bandage:': '\\U0001fa79', ':admission_tickets:': '🎟', ':adult:': '🧑', ':adult_dark_skin_tone:': '🧑🏿', ':adult_light_skin_tone:': '🧑🏻', ':adult_medium-dark_skin_tone:': '🧑🏾', ':adult_medium-light_skin_tone:': '🧑🏼', ':adult_medium_skin_tone:': '🧑🏽', ':aerial_tramway:': '🚡', ':airplane:': '✈', ':airplane_arrival:': '🛬', ':airplane_departure:': '🛫', ':alarm_clock:': '⏰', ':alembic:': '⚗', ':alien:': '👽', ':alien_monster:': '👾', ':ambulance:': '🚑', ':american_football:': '🏈', ':amphora:': '🏺', ':anchor:': '⚓', ':anger_symbol:': '💢', ':angry_face:': '😠', ':angry_face_with_horns:': '👿', ':anguished_face:': '😧', ':ant:': '🐜', ':antenna_bars:': '📶', ':anxious_face_with_sweat:': '😰', ':articulated_lorry:': '🚛', ':artist_palette:': '🎨', ':astonished_face:': '😲', ':atom_symbol:': '⚛', ':auto_rickshaw:': '\\U0001f6fa', ':automobile:': '🚗', ':avocado:': '🥑', ':axe:': '\\U0001fa93', ':baby:': '👶', ':baby_angel:': '👼', ':baby_angel_dark_skin_tone:': '👼🏿', ':baby_angel_light_skin_tone:': '👼🏻', ':baby_angel_medium-dark_skin_tone:': '👼🏾', ':baby_angel_medium-light_skin_tone:': '👼🏼', ':baby_angel_medium_skin_tone:': '👼🏽', ':baby_bottle:': '🍼', ':baby_chick:': '🐤', ':baby_dark_skin_tone:': '👶🏿', ':baby_light_skin_tone:': '👶🏻', ':baby_medium-dark_skin_tone:': '👶🏾', ':baby_medium-light_skin_tone:': '👶🏼', ':baby_medium_skin_tone:': '👶🏽', ':baby_symbol:': '🚼', ':backhand_index_pointing_down:': '👇', ':backhand_index_pointing_down_dark_skin_tone:': '👇🏿', ':backhand_index_pointing_down_light_skin_tone:': '👇🏻', ':backhand_index_pointing_down_medium-dark_skin_tone:': '👇🏾', ':backhand_index_pointing_down_medium-light_skin_tone:': '👇🏼', ':backhand_index_pointing_down_medium_skin_tone:': '👇🏽', ':backhand_index_pointing_left:': '👈', ':backhand_index_pointing_left_dark_skin_tone:': '👈🏿', ':backhand_index_pointing_left_light_skin_tone:': '👈🏻', ':backhand_index_pointing_left_medium-dark_skin_tone:': '👈🏾', ':backhand_index_pointing_left_medium-light_skin_tone:': '👈🏼', ':backhand_index_pointing_left_medium_skin_tone:': '👈🏽', ':backhand_index_pointing_right:': '👉', ':backhand_index_pointing_right_dark_skin_tone:': '👉🏿', ':backhand_index_pointing_right_light_skin_tone:': '👉🏻', ':backhand_index_pointing_right_medium-dark_skin_tone:': '👉🏾', ':backhand_index_pointing_right_medium-light_skin_tone:': '👉🏼', ':backhand_index_pointing_right_medium_skin_tone:': '👉🏽', ':backhand_index_pointing_up:': '👆', ':backhand_index_pointing_up_dark_skin_tone:': '👆🏿', ':backhand_index_pointing_up_light_skin_tone:': '👆🏻', ':backhand_index_pointing_up_medium-dark_skin_tone:': '👆🏾', ':backhand_index_pointing_up_medium-light_skin_tone:': '👆🏼', ':backhand_index_pointing_up_medium_skin_tone:': '👆🏽', ':bacon:': '🥓', ':badger:': '🦡', ':badminton:': '🏸', ':bagel:': '🥯', ':baggage_claim:': '🛄', ':baguette_bread:': '🥖', ':balance_scale:': '⚖', ':bald:': '🦲', ':bald_man:': '👨\\u200d🦲', ':bald_woman:': '👩\\u200d🦲', ':ballet_shoes:': '\\U0001fa70', ':balloon:': '🎈', ':ballot_box_with_ballot:': '🗳', ':ballot_box_with_check:': '☑', ':banana:': '🍌', ':banjo:': '\\U0001fa95', ':bank:': '🏦', ':bar_chart:': '📊', ':barber_pole:': '💈', ':baseball:': '⚾', ':basket:': '🧺', ':basketball:': '🏀', ':bat:': '🦇', ':bathtub:': '🛁', ':battery:': '🔋', ':beach_with_umbrella:': '🏖', ':beaming_face_with_smiling_eyes:': '😁', ':bear_face:': '🐻', ':bearded_person:': '🧔', ':bearded_person_dark_skin_tone:': '🧔🏿', ':bearded_person_light_skin_tone:': '🧔🏻', ':bearded_person_medium-dark_skin_tone:': '🧔🏾', ':bearded_person_medium-light_skin_tone:': '🧔🏼', ':bearded_person_medium_skin_tone:': '🧔🏽', ':beating_heart:': '💓', ':bed:': '🛏', ':beer_mug:': '🍺', ':bell:': '🔔', ':bell_with_slash:': '🔕', ':bellhop_bell:': '🛎', ':bento_box:': '🍱', ':beverage_box:': '\\U0001f9c3', ':bicycle:': '🚲', ':bikini:': '👙', ':billed_cap:': '🧢', ':biohazard:': '☣', ':bird:': '🐦', ':birthday_cake:': '🎂', ':black_circle:': '⚫', ':black_flag:': '🏴', ':black_heart:': '🖤', ':black_large_square:': '⬛', ':black_medium-small_square:': '◾', ':black_medium_square:': '◼', ':black_nib:': '✒', ':black_small_square:': '▪', ':black_square_button:': '🔲', ':blond-haired_man:': '👱\\u200d♂️', ':blond-haired_man_dark_skin_tone:': '👱🏿\\u200d♂️', ':blond-haired_man_light_skin_tone:': '👱🏻\\u200d♂️', ':blond-haired_man_medium-dark_skin_tone:': '👱🏾\\u200d♂️', ':blond-haired_man_medium-light_skin_tone:': '👱🏼\\u200d♂️', ':blond-haired_man_medium_skin_tone:': '👱🏽\\u200d♂️', ':blond-haired_person:': '👱', ':blond-haired_person_dark_skin_tone:': '👱🏿', ':blond-haired_person_light_skin_tone:': '👱🏻', ':blond-haired_person_medium-dark_skin_tone:': '👱🏾', ':blond-haired_person_medium-light_skin_tone:': '👱🏼', ':blond-haired_person_medium_skin_tone:': '👱🏽', ':blond-haired_woman:': '👱\\u200d♀️', ':blond-haired_woman_dark_skin_tone:': '👱🏿\\u200d♀️', ':blond-haired_woman_light_skin_tone:': '👱🏻\\u200d♀️', ':blond-haired_woman_medium-dark_skin_tone:': '👱🏾\\u200d♀️', ':blond-haired_woman_medium-light_skin_tone:': '👱🏼\\u200d♀️', ':blond-haired_woman_medium_skin_tone:': '👱🏽\\u200d♀️', ':blossom:': '🌼', ':blowfish:': '🐡', ':blue_book:': '📘', ':blue_circle:': '🔵', ':blue_heart:': '💙', ':blue_square:': '\\U0001f7e6', ':boar:': '🐗', ':bomb:': '💣', ':bone:': '🦴', ':bookmark:': '🔖', ':bookmark_tabs:': '📑', ':books:': '📚', ':bottle_with_popping_cork:': '🍾', ':bouquet:': '💐', ':bow_and_arrow:': '🏹', ':bowl_with_spoon:': '🥣', ':bowling:': '🎳', ':boxing_glove:': '🥊', ':boy:': '👦', ':boy_dark_skin_tone:': '👦🏿', ':boy_light_skin_tone:': '👦🏻', ':boy_medium-dark_skin_tone:': '👦🏾', ':boy_medium-light_skin_tone:': '👦🏼', ':boy_medium_skin_tone:': '👦🏽', ':brain:': '🧠', ':bread:': '🍞', ':breast-feeding:': '🤱', ':breast-feeding_dark_skin_tone:': '🤱🏿', ':breast-feeding_light_skin_tone:': '🤱🏻', ':breast-feeding_medium-dark_skin_tone:': '🤱🏾', ':breast-feeding_medium-light_skin_tone:': '🤱🏼', ':breast-feeding_medium_skin_tone:': '🤱🏽', ':brick:': '🧱', ':bride_with_veil:': '👰', ':bride_with_veil_dark_skin_tone:': '👰🏿', ':bride_with_veil_light_skin_tone:': '👰🏻', ':bride_with_veil_medium-dark_skin_tone:': '👰🏾', ':bride_with_veil_medium-light_skin_tone:': '👰🏼', ':bride_with_veil_medium_skin_tone:': '👰🏽', ':bridge_at_night:': '🌉', ':briefcase:': '💼', ':briefs:': '\\U0001fa72', ':bright_button:': '🔆', ':broccoli:': '🥦', ':broken_heart:': '💔', ':broom:': '🧹', ':brown_circle:': '\\U0001f7e4', ':brown_heart:': '\\U0001f90e', ':brown_square:': '\\U0001f7eb', ':bug:': '🐛', ':building_construction:': '🏗', ':bullet_train:': '🚅', ':burrito:': '🌯', ':bus:': '🚌', ':bus_stop:': '🚏', ':bust_in_silhouette:': '👤', ':busts_in_silhouette:': '👥', ':butter:': '\\U0001f9c8', ':butterfly:': '🦋', ':cactus:': '🌵', ':calendar:': '📅', ':call_me_hand:': '🤙', ':call_me_hand_dark_skin_tone:': '🤙🏿', ':call_me_hand_light_skin_tone:': '🤙🏻', ':call_me_hand_medium-dark_skin_tone:': '🤙🏾', ':call_me_hand_medium-light_skin_tone:': '🤙🏼', ':call_me_hand_medium_skin_tone:': '🤙🏽', ':camel:': '🐪', ':camera:': '📷', ':camera_with_flash:': '📸', ':camping:': '🏕', ':candle:': '🕯', ':candy:': '🍬', ':canned_food:': '🥫', ':canoe:': '🛶', ':card_file_box:': '🗃', ':card_index:': '📇', ':card_index_dividers:': '🗂', ':carousel_horse:': '🎠', ':carp_streamer:': '🎏', ':carrot:': '🥕', ':castle:': '🏰', ':cat:': '🐈', ':cat_face:': '🐱', ':cat_face_with_tears_of_joy:': '😹', ':cat_face_with_wry_smile:': '😼', ':chains:': '⛓', ':chair:': '\\U0001fa91', ':chart_decreasing:': '📉', ':chart_increasing:': '📈', ':chart_increasing_with_yen:': '💹', ':cheese_wedge:': '🧀', ':chequered_flag:': '🏁', ':cherries:': '🍒', ':cherry_blossom:': '🌸', ':chess_pawn:': '♟', ':chestnut:': '🌰', ':chicken:': '🐔', ':child:': '🧒', ':child_dark_skin_tone:': '🧒🏿', ':child_light_skin_tone:': '🧒🏻', ':child_medium-dark_skin_tone:': '🧒🏾', ':child_medium-light_skin_tone:': '🧒🏼', ':child_medium_skin_tone:': '🧒🏽', ':children_crossing:': '🚸', ':chipmunk:': '🐿', ':chocolate_bar:': '🍫', ':chopsticks:': '🥢', ':church:': '⛪', ':cigarette:': '🚬', ':cinema:': '🎦', ':circled_M:': 'Ⓜ', ':circus_tent:': '🎪', ':cityscape:': '🏙', ':cityscape_at_dusk:': '🌆', ':clamp:': '🗜', ':clapper_board:': '🎬', ':clapping_hands:': '👏', ':clapping_hands_dark_skin_tone:': '👏🏿', ':clapping_hands_light_skin_tone:': '👏🏻', ':clapping_hands_medium-dark_skin_tone:': '👏🏾', ':clapping_hands_medium-light_skin_tone:': '👏🏼', ':clapping_hands_medium_skin_tone:': '👏🏽', ':classical_building:': '🏛', ':clinking_beer_mugs:': '🍻', ':clinking_glasses:': '🥂', ':clipboard:': '📋', ':clockwise_vertical_arrows:': '🔃', ':closed_book:': '📕', ':closed_mailbox_with_lowered_flag:': '📪', ':closed_mailbox_with_raised_flag:': '📫', ':closed_umbrella:': '🌂', ':cloud:': '☁', ':cloud_with_lightning:': '🌩', ':cloud_with_lightning_and_rain:': '⛈', ':cloud_with_rain:': '🌧', ':cloud_with_snow:': '🌨', ':clown_face:': '🤡', ':club_suit:': '♣', ':clutch_bag:': '👝', ':coat:': '🧥', ':cocktail_glass:': '🍸', ':coconut:': '🥥', ':coffin:': '⚰', ':cold_face:': '🥶', ':collision:': '💥', ':comet:': '☄', ':compass:': '🧭', ':computer_disk:': '💽', ':computer_mouse:': '🖱', ':confetti_ball:': '🎊', ':confounded_face:': '😖', ':confused_face:': '😕', ':construction:': '🚧', ':construction_worker:': '👷', ':construction_worker_dark_skin_tone:': '👷🏿', ':construction_worker_light_skin_tone:': '👷🏻', ':construction_worker_medium-dark_skin_tone:': '👷🏾', ':construction_worker_medium-light_skin_tone:': '👷🏼', ':construction_worker_medium_skin_tone:': '👷🏽', ':control_knobs:': '🎛', ':convenience_store:': '🏪', ':cooked_rice:': '🍚', ':cookie:': '🍪', ':cooking:': '🍳', ':copyright:': '©', ':couch_and_lamp:': '🛋', ':counterclockwise_arrows_button:': '🔄', ':couple_with_heart:': '💑', ':couple_with_heart_man_man:': '👨\\u200d❤️\\u200d👨', ':couple_with_heart_woman_man:': '👩\\u200d❤️\\u200d👨', ':couple_with_heart_woman_woman:': '👩\\u200d❤️\\u200d👩', ':cow:': '🐄', ':cow_face:': '🐮', ':cowboy_hat_face:': '🤠', ':crab:': '🦀', ':crayon:': '🖍', ':credit_card:': '💳', ':crescent_moon:': '🌙', ':cricket:': '🦗', ':cricket_game:': '🏏', ':crocodile:': '🐊', ':croissant:': '🥐', ':cross_mark:': '❌', ':cross_mark_button:': '❎', ':crossed_fingers:': '🤞', ':crossed_fingers_dark_skin_tone:': '🤞🏿', ':crossed_fingers_light_skin_tone:': '🤞🏻', ':crossed_fingers_medium-dark_skin_tone:': '🤞🏾', ':crossed_fingers_medium-light_skin_tone:': '🤞🏼', ':crossed_fingers_medium_skin_tone:': '🤞🏽', ':crossed_flags:': '🎌', ':crossed_swords:': '⚔', ':crown:': '👑', ':crying_cat_face:': '😿', ':crying_face:': '😢', ':crystal_ball:': '🔮', ':cucumber:': '🥒', ':cupcake:': '🧁', ':cup_with_straw:': '🥤', ':curling_stone:': '🥌', ':curly_hair:': '🦱', ':curly-haired_man:': '👨\\u200d🦱', ':curly-haired_woman:': '👩\\u200d🦱', ':curly_loop:': '➰', ':currency_exchange:': '💱', ':curry_rice:': '🍛', ':custard:': '🍮', ':customs:': '🛃', ':cut_of_meat:': '🥩', ':cyclone:': '🌀', ':dagger:': '🗡', ':dango:': '🍡', ':dashing_away:': '💨', ':deaf_person:': '\\U0001f9cf', ':deciduous_tree:': '🌳', ':deer:': '🦌', ':delivery_truck:': '🚚', ':department_store:': '🏬', ':derelict_house:': '🏚', ':desert:': '🏜', ':desert_island:': '🏝', ':desktop_computer:': '🖥', ':detective:': '🕵', ':detective_dark_skin_tone:': '🕵🏿', ':detective_light_skin_tone:': '🕵🏻', ':detective_medium-dark_skin_tone:': '🕵🏾', ':detective_medium-light_skin_tone:': '🕵🏼', ':detective_medium_skin_tone:': '🕵🏽', ':diamond_suit:': '♦', ':diamond_with_a_dot:': '💠', ':dim_button:': '🔅', ':direct_hit:': '🎯', ':disappointed_face:': '😞', ':diving_mask:': '\\U0001f93f', ':diya_lamp:': '\\U0001fa94', ':dizzy:': '💫', ':dizzy_face:': '😵', ':dna:': '🧬', ':dog:': '🐕', ':dog_face:': '🐶', ':dollar_banknote:': '💵', ':dolphin:': '🐬', ':door:': '🚪', ':dotted_six-pointed_star:': '🔯', ':double_curly_loop:': '➿', ':double_exclamation_mark:': '‼', ':doughnut:': '🍩', ':dove:': '🕊', ':down-left_arrow:': '↙', ':down-right_arrow:': '↘', ':down_arrow:': '⬇', ':downcast_face_with_sweat:': '😓', ':downwards_button:': '🔽', ':dragon:': '🐉', ':dragon_face:': '🐲', ':dress:': '👗', ':drooling_face:': '🤤', ':drop_of_blood:': '\\U0001fa78', ':droplet:': '💧', ':drum:': '🥁', ':duck:': '🦆', ':dumpling:': '🥟', ':dvd:': '📀', ':e-mail:': '📧', ':eagle:': '🦅', ':ear:': '👂', ':ear_dark_skin_tone:': '👂🏿', ':ear_light_skin_tone:': '👂🏻', ':ear_medium-dark_skin_tone:': '👂🏾', ':ear_medium-light_skin_tone:': '👂🏼', ':ear_medium_skin_tone:': '👂🏽', ':ear_of_corn:': '🌽', ':ear_with_hearing_aid:': '\\U0001f9bb', ':egg:': '🥚', ':eggplant:': '🍆', ':eight-pointed_star:': '✴', ':eight-spoked_asterisk:': '✳', ':eight-thirty:': '🕣', ':eight_o’clock:': '🕗', ':eject_button:': '⏏', ':electric_plug:': '🔌', ':elephant:': '🐘', ':eleven-thirty:': '🕦', ':eleven_o’clock:': '🕚', ':elf:': '🧝', ':elf_dark_skin_tone:': '🧝🏿', ':elf_light_skin_tone:': '🧝🏻', ':elf_medium-dark_skin_tone:': '🧝🏾', ':elf_medium-light_skin_tone:': '🧝🏼', ':elf_medium_skin_tone:': '🧝🏽', ':envelope:': '✉', ':envelope_with_arrow:': '📩', ':euro_banknote:': '💶', ':evergreen_tree:': '🌲', ':ewe:': '🐑', ':exclamation_mark:': '❗', ':exclamation_question_mark:': '⁉', ':exploding_head:': '🤯', ':expressionless_face:': '😑', ':eye:': '👁', ':eye_in_speech_bubble:': '👁️\\u200d🗨️', ':eyes:': '👀', ':face_blowing_a_kiss:': '😘', ':face_savoring_food:': '😋', ':face_screaming_in_fear:': '😱', ':face_vomiting:': '🤮', ':face_with_hand_over_mouth:': '🤭', ':face_with_head-bandage:': '🤕', ':face_with_medical_mask:': '😷', ':face_with_monocle:': '🧐', ':face_with_open_mouth:': '😮', ':face_with_raised_eyebrow:': '🤨', ':face_with_rolling_eyes:': '🙄', ':face_with_steam_from_nose:': '😤', ':face_with_symbols_on_mouth:': '🤬', ':face_with_tears_of_joy:': '😂', ':face_with_thermometer:': '🤒', ':face_with_tongue:': '😛', ':face_without_mouth:': '😶', ':factory:': '🏭', ':fairy:': '🧚', ':fairy_dark_skin_tone:': '🧚🏿', ':fairy_light_skin_tone:': '🧚🏻', ':fairy_medium-dark_skin_tone:': '🧚🏾', ':fairy_medium-light_skin_tone:': '🧚🏼', ':fairy_medium_skin_tone:': '🧚🏽', ':falafel:': '\\U0001f9c6', ':fallen_leaf:': '🍂', ':family:': '👪', ':family_man_boy:': '👨\\u200d👦', ':family_man_boy_boy:': '👨\\u200d👦\\u200d👦', ':family_man_girl:': '👨\\u200d👧', ':family_man_girl_boy:': '👨\\u200d👧\\u200d👦', ':family_man_girl_girl:': '👨\\u200d👧\\u200d👧', ':family_man_man_boy:': '👨\\u200d👨\\u200d👦', ':family_man_man_boy_boy:': '👨\\u200d👨\\u200d👦\\u200d👦', ':family_man_man_girl:': '👨\\u200d👨\\u200d👧', ':family_man_man_girl_boy:': '👨\\u200d👨\\u200d👧\\u200d👦', ':family_man_man_girl_girl:': '👨\\u200d👨\\u200d👧\\u200d👧', ':family_man_woman_boy:': '👨\\u200d👩\\u200d👦', ':family_man_woman_boy_boy:': '👨\\u200d👩\\u200d👦\\u200d👦', ':family_man_woman_girl:': '👨\\u200d👩\\u200d👧', ':family_man_woman_girl_boy:': '👨\\u200d👩\\u200d👧\\u200d👦', ':family_man_woman_girl_girl:': '👨\\u200d👩\\u200d👧\\u200d👧', ':family_woman_boy:': '👩\\u200d👦', ':family_woman_boy_boy:': '👩\\u200d👦\\u200d👦', ':family_woman_girl:': '👩\\u200d👧', ':family_woman_girl_boy:': '👩\\u200d👧\\u200d👦', ':family_woman_girl_girl:': '👩\\u200d👧\\u200d👧', ':family_woman_woman_boy:': '👩\\u200d👩\\u200d👦', ':family_woman_woman_boy_boy:': '👩\\u200d👩\\u200d👦\\u200d👦', ':family_woman_woman_girl:': '👩\\u200d👩\\u200d👧', ':family_woman_woman_girl_boy:': '👩\\u200d👩\\u200d👧\\u200d👦', ':family_woman_woman_girl_girl:': '👩\\u200d👩\\u200d👧\\u200d👧', ':fast-forward_button:': '⏩', ':fast_down_button:': '⏬', ':fast_reverse_button:': '⏪', ':fast_up_button:': '⏫', ':fax_machine:': '📠', ':fearful_face:': '😨', ':female_sign:': '♀', ':ferris_wheel:': '🎡', ':ferry:': '⛴', ':field_hockey:': '🏑', ':file_cabinet:': '🗄', ':file_folder:': '📁', ':film_frames:': '🎞', ':film_projector:': '📽', ':fire:': '🔥', ':fire_extinguisher:': '🧯', ':firecracker:': '🧨', ':fire_engine:': '🚒', ':fireworks:': '🎆', ':first_quarter_moon:': '🌓', ':first_quarter_moon_face:': '🌛', ':fish:': '🐟', ':fish_cake_with_swirl:': '🍥', ':fishing_pole:': '🎣', ':five-thirty:': '🕠', ':five_o’clock:': '🕔', ':flag_in_hole:': '⛳', ':flamingo:': '\\U0001f9a9', ':flashlight:': '🔦', ':flat_shoe:': '🥿', ':fleur-de-lis:': '⚜', ':flexed_biceps:': '💪', ':flexed_biceps_dark_skin_tone:': '💪🏿', ':flexed_biceps_light_skin_tone:': '💪🏻', ':flexed_biceps_medium-dark_skin_tone:': '💪🏾', ':flexed_biceps_medium-light_skin_tone:': '💪🏼', ':flexed_biceps_medium_skin_tone:': '💪🏽', ':floppy_disk:': '💾', ':flower_playing_cards:': '🎴', ':flushed_face:': '😳', ':flying_disc:': '🥏', ':flying_saucer:': '🛸', ':fog:': '🌫', ':foggy:': '🌁', ':folded_hands:': '🙏', ':folded_hands_dark_skin_tone:': '🙏🏿', ':folded_hands_light_skin_tone:': '🙏🏻', ':folded_hands_medium-dark_skin_tone:': '🙏🏾', ':folded_hands_medium-light_skin_tone:': '🙏🏼', ':folded_hands_medium_skin_tone:': '🙏🏽', ':foot:': '🦶', ':footprints:': '👣', ':fork_and_knife:': '🍴', ':fork_and_knife_with_plate:': '🍽', ':fortune_cookie:': '🥠', ':fountain:': '⛲', ':fountain_pen:': '🖋', ':four-thirty:': '🕟', ':four_leaf_clover:': '🍀', ':four_o’clock:': '🕓', ':fox_face:': '🦊', ':framed_picture:': '🖼', ':french_fries:': '🍟', ':fried_shrimp:': '🍤', ':frog_face:': '🐸', ':front-facing_baby_chick:': '🐥', ':frowning_face:': '☹', ':frowning_face_with_open_mouth:': '😦', ':fuel_pump:': '⛽', ':full_moon:': '🌕', ':full_moon_face:': '🌝', ':funeral_urn:': '⚱', ':game_die:': '🎲', ':garlic:': '\\U0001f9c4', ':gear:': '⚙', ':gem_stone:': '💎', ':genie:': '🧞', ':ghost:': '👻', ':giraffe:': '🦒', ':girl:': '👧', ':girl_dark_skin_tone:': '👧🏿', ':girl_light_skin_tone:': '👧🏻', ':girl_medium-dark_skin_tone:': '👧🏾', ':girl_medium-light_skin_tone:': '👧🏼', ':girl_medium_skin_tone:': '👧🏽', ':glass_of_milk:': '🥛', ':glasses:': '👓', ':globe_showing_Americas:': '🌎', ':globe_showing_Asia-Australia:': '🌏', ':globe_showing_Europe-Africa:': '🌍', ':globe_with_meridians:': '🌐', ':gloves:': '🧤', ':glowing_star:': '🌟', ':goal_net:': '🥅', ':goat:': '🐐', ':goblin:': '👺', ':goggles:': '🥽', ':gorilla:': '🦍', ':graduation_cap:': '🎓', ':grapes:': '🍇', ':green_apple:': '🍏', ':green_book:': '📗', ':green_circle:': '\\U0001f7e2', ':green_heart:': '💚', ':green_salad:': '🥗', ':green_square:': '\\U0001f7e9', ':grimacing_face:': '😬', ':grinning_cat_face:': '😺', ':grinning_cat_face_with_smiling_eyes:': '😸', ':grinning_face:': '😀', ':grinning_face_with_big_eyes:': '😃', ':grinning_face_with_smiling_eyes:': '😄', ':grinning_face_with_sweat:': '😅', ':grinning_squinting_face:': '😆', ':growing_heart:': '💗', ':guard:': '💂', ':guard_dark_skin_tone:': '💂🏿', ':guard_light_skin_tone:': '💂🏻', ':guard_medium-dark_skin_tone:': '💂🏾', ':guard_medium-light_skin_tone:': '💂🏼', ':guard_medium_skin_tone:': '💂🏽', ':guide_dog:': '\\U0001f9ae', ':guitar:': '🎸', ':hamburger:': '🍔', ':hammer:': '🔨', ':hammer_and_pick:': '⚒', ':hammer_and_wrench:': '🛠', ':hamster_face:': '🐹', ':hand_with_fingers_splayed:': '🖐', ':hand_with_fingers_splayed_dark_skin_tone:': '🖐🏿', ':hand_with_fingers_splayed_light_skin_tone:': '🖐🏻', ':hand_with_fingers_splayed_medium-dark_skin_tone:': '🖐🏾', ':hand_with_fingers_splayed_medium-light_skin_tone:': '🖐🏼', ':hand_with_fingers_splayed_medium_skin_tone:': '🖐🏽', ':handbag:': '👜', ':handshake:': '🤝', ':hatching_chick:': '🐣', ':headphone:': '🎧', ':hear-no-evil_monkey:': '🙉', ':heart_decoration:': '💟', ':heart_suit:': '♥', ':heart_with_arrow:': '💘', ':heart_with_ribbon:': '💝', ':heavy_check_mark:': '✔', ':heavy_division_sign:': '➗', ':heavy_dollar_sign:': '💲', ':heavy_heart_exclamation:': '❣', ':heavy_large_circle:': '⭕', ':heavy_minus_sign:': '➖', ':heavy_multiplication_x:': '✖', ':heavy_plus_sign:': '➕', ':hedgehog:': '🦔', ':helicopter:': '🚁', ':herb:': '🌿', ':hibiscus:': '🌺', ':high-heeled_shoe:': '👠', ':high-speed_train:': '🚄', ':high_voltage:': '⚡', ':hiking_boot:': '🥾', ':hindu_temple:': '\\U0001f6d5', ':hippopotamus:': '🦛', ':hole:': '🕳', ':honey_pot:': '🍯', ':honeybee:': '🐝', ':horizontal_traffic_light:': '🚥', ':horse:': '🐎', ':horse_face:': '🐴', ':horse_racing:': '🏇', ':horse_racing_dark_skin_tone:': '🏇🏿', ':horse_racing_light_skin_tone:': '🏇🏻', ':horse_racing_medium-dark_skin_tone:': '🏇🏾', ':horse_racing_medium-light_skin_tone:': '🏇🏼', ':horse_racing_medium_skin_tone:': '🏇🏽', ':hospital:': '🏥', ':hot_beverage:': '☕', ':hot_dog:': '🌭', ':hot_face:': '🥵', ':hot_pepper:': '🌶', ':hot_springs:': '♨', ':hotel:': '🏨', ':hourglass_done:': '⌛', ':hourglass_not_done:': '⏳', ':house:': '🏠', ':house_with_garden:': '🏡', ':houses:': '🏘', ':hugging_face:': '🤗', ':hundred_points:': '💯', ':hushed_face:': '😯', ':ice:': '\\U0001f9ca', ':ice_cream:': '🍨', ':ice_hockey:': '🏒', ':ice_skate:': '⛸', ':inbox_tray:': '📥', ':incoming_envelope:': '📨', ':index_pointing_up:': '☝', ':index_pointing_up_dark_skin_tone:': '☝🏿', ':index_pointing_up_light_skin_tone:': '☝🏻', ':index_pointing_up_medium-dark_skin_tone:': '☝🏾', ':index_pointing_up_medium-light_skin_tone:': '☝🏼', ':index_pointing_up_medium_skin_tone:': '☝🏽', ':infinity:': '♾', ':information:': 'ℹ', ':input_latin_letters:': '🔤', ':input_latin_lowercase:': '🔡', ':input_latin_uppercase:': '🔠', ':input_numbers:': '🔢', ':input_symbols:': '🔣', ':jack-o-lantern:': '🎃', ':jeans:': '👖', ':jigsaw:': '🧩', ':joker:': '🃏', ':joystick:': '🕹', ':kaaba:': '🕋', ':kangaroo:': '🦘', ':key:': '🔑', ':keyboard:': '⌨', ':keycap_#:': '#️⃣', ':keycap_*:': '*️⃣', ':keycap_0:': '0️⃣', ':keycap_1:': '1️⃣', ':keycap_10:': '🔟', ':keycap_2:': '2️⃣', ':keycap_3:': '3️⃣', ':keycap_4:': '4️⃣', ':keycap_5:': '5️⃣', ':keycap_6:': '6️⃣', ':keycap_7:': '7️⃣', ':keycap_8:': '8️⃣', ':keycap_9:': '9️⃣', ':kick_scooter:': '🛴', ':kimono:': '👘', ':kiss:': '💏', ':kiss_man_man:': '👨\\u200d❤️\\u200d💋\\u200d👨', ':kiss_mark:': '💋', ':kiss_woman_man:': '👩\\u200d❤️\\u200d💋\\u200d👨', ':kiss_woman_woman:': '👩\\u200d❤️\\u200d💋\\u200d👩', ':kissing_cat_face:': '😽', ':kissing_face:': '😗', ':kissing_face_with_closed_eyes:': '😚', ':kissing_face_with_smiling_eyes:': '😙', ':kitchen_knife:': '🔪', ':kite:': '\\U0001fa81', ':kiwi_fruit:': '🥝', ':koala:': '🐨', ':lab_coat:': '🥼', ':label:': '🏷', ':lacrosse:': '🥍', ':lady_beetle:': '🐞', ':laptop_computer:': '💻', ':large_blue_diamond:': '🔷', ':large_orange_diamond:': '🔶', ':last_quarter_moon:': '🌗', ':last_quarter_moon_face:': '🌜', ':last_track_button:': '⏮', ':latin_cross:': '✝', ':leaf_fluttering_in_wind:': '🍃', ':leafy_green:': '🥬', ':ledger:': '📒', ':left-facing_fist:': '🤛', ':left-facing_fist_dark_skin_tone:': '🤛🏿', ':left-facing_fist_light_skin_tone:': '🤛🏻', ':left-facing_fist_medium-dark_skin_tone:': '🤛🏾', ':left-facing_fist_medium-light_skin_tone:': '🤛🏼', ':left-facing_fist_medium_skin_tone:': '🤛🏽', ':left-right_arrow:': '↔', ':left_arrow:': '⬅', ':left_arrow_curving_right:': '↪', ':left_luggage:': '🛅', ':left_speech_bubble:': '🗨', ':leg:': '🦵', ':lemon:': '🍋', ':leopard:': '🐆', ':level_slider:': '🎚', ':light_bulb:': '💡', ':light_rail:': '🚈', ':link:': '🔗', ':linked_paperclips:': '🖇', ':lion_face:': '🦁', ':lipstick:': '💄', ':litter_in_bin_sign:': '🚮', ':lizard:': '🦎', ':llama:': '🦙', ':lobster:': '🦞', ':locked:': '🔒', ':locked_with_key:': '🔐', ':locked_with_pen:': '🔏', ':locomotive:': '🚂', ':lollipop:': '🍭', ':lotion_bottle:': '🧴', ':loudly_crying_face:': '😭', ':loudspeaker:': '📢', ':love-you_gesture:': '🤟', ':love-you_gesture_dark_skin_tone:': '🤟🏿', ':love-you_gesture_light_skin_tone:': '🤟🏻', ':love-you_gesture_medium-dark_skin_tone:': '🤟🏾', ':love-you_gesture_medium-light_skin_tone:': '🤟🏼', ':love-you_gesture_medium_skin_tone:': '🤟🏽', ':love_hotel:': '🏩', ':love_letter:': '💌', ':luggage:': '🧳', ':lying_face:': '🤥', ':mage:': '🧙', ':mage_dark_skin_tone:': '🧙🏿', ':mage_light_skin_tone:': '🧙🏻', ':mage_medium-dark_skin_tone:': '🧙🏾', ':mage_medium-light_skin_tone:': '🧙🏼', ':mage_medium_skin_tone:': '🧙🏽', ':magnet:': '🧲', ':magnifying_glass_tilted_left:': '🔍', ':magnifying_glass_tilted_right:': '🔎', ':mahjong_red_dragon:': '🀄', ':male_sign:': '♂', ':man:': '👨', ':man_and_woman_holding_hands:': '👫', ':man_artist:': '👨\\u200d🎨', ':man_artist_dark_skin_tone:': '👨🏿\\u200d🎨', ':man_artist_light_skin_tone:': '👨🏻\\u200d🎨', ':man_artist_medium-dark_skin_tone:': '👨🏾\\u200d🎨', ':man_artist_medium-light_skin_tone:': '👨🏼\\u200d🎨', ':man_artist_medium_skin_tone:': '👨🏽\\u200d🎨', ':man_astronaut:': '👨\\u200d🚀', ':man_astronaut_dark_skin_tone:': '👨🏿\\u200d🚀', ':man_astronaut_light_skin_tone:': '👨🏻\\u200d🚀', ':man_astronaut_medium-dark_skin_tone:': '👨🏾\\u200d🚀', ':man_astronaut_medium-light_skin_tone:': '👨🏼\\u200d🚀', ':man_astronaut_medium_skin_tone:': '👨🏽\\u200d🚀', ':man_biking:': '🚴\\u200d♂️', ':man_biking_dark_skin_tone:': '🚴🏿\\u200d♂️', ':man_biking_light_skin_tone:': '🚴🏻\\u200d♂️', ':man_biking_medium-dark_skin_tone:': '🚴🏾\\u200d♂️', ':man_biking_medium-light_skin_tone:': '🚴🏼\\u200d♂️', ':man_biking_medium_skin_tone:': '🚴🏽\\u200d♂️', ':man_bouncing_ball:': '⛹️\\u200d♂️', ':man_bouncing_ball_dark_skin_tone:': '⛹🏿\\u200d♂️', ':man_bouncing_ball_light_skin_tone:': '⛹🏻\\u200d♂️', ':man_bouncing_ball_medium-dark_skin_tone:': '⛹🏾\\u200d♂️', ':man_bouncing_ball_medium-light_skin_tone:': '⛹🏼\\u200d♂️', ':man_bouncing_ball_medium_skin_tone:': '⛹🏽\\u200d♂️', ':man_bowing:': '🙇\\u200d♂️', ':man_bowing_dark_skin_tone:': '🙇🏿\\u200d♂️', ':man_bowing_light_skin_tone:': '🙇🏻\\u200d♂️', ':man_bowing_medium-dark_skin_tone:': '🙇🏾\\u200d♂️', ':man_bowing_medium-light_skin_tone:': '🙇🏼\\u200d♂️', ':man_bowing_medium_skin_tone:': '🙇🏽\\u200d♂️', ':man_cartwheeling:': '🤸\\u200d♂️', ':man_cartwheeling_dark_skin_tone:': '🤸🏿\\u200d♂️', ':man_cartwheeling_light_skin_tone:': '🤸🏻\\u200d♂️', ':man_cartwheeling_medium-dark_skin_tone:': '🤸🏾\\u200d♂️', ':man_cartwheeling_medium-light_skin_tone:': '🤸🏼\\u200d♂️', ':man_cartwheeling_medium_skin_tone:': '🤸🏽\\u200d♂️', ':man_climbing:': '🧗\\u200d♂️', ':man_climbing_dark_skin_tone:': '🧗🏿\\u200d♂️', ':man_climbing_light_skin_tone:': '🧗🏻\\u200d♂️', ':man_climbing_medium-dark_skin_tone:': '🧗🏾\\u200d♂️', ':man_climbing_medium-light_skin_tone:': '🧗🏼\\u200d♂️', ':man_climbing_medium_skin_tone:': '🧗🏽\\u200d♂️', ':man_construction_worker:': '👷\\u200d♂️', ':man_construction_worker_dark_skin_tone:': '👷🏿\\u200d♂️', ':man_construction_worker_light_skin_tone:': '👷🏻\\u200d♂️', ':man_construction_worker_medium-dark_skin_tone:': '👷🏾\\u200d♂️', ':man_construction_worker_medium-light_skin_tone:': '👷🏼\\u200d♂️', ':man_construction_worker_medium_skin_tone:': '👷🏽\\u200d♂️', ':man_cook:': '👨\\u200d🍳', ':man_cook_dark_skin_tone:': '👨🏿\\u200d🍳', ':man_cook_light_skin_tone:': '👨🏻\\u200d🍳', ':man_cook_medium-dark_skin_tone:': '👨🏾\\u200d🍳', ':man_cook_medium-light_skin_tone:': '👨🏼\\u200d🍳', ':man_cook_medium_skin_tone:': '👨🏽\\u200d🍳', ':man_dancing:': '🕺', ':man_dancing_dark_skin_tone:': '🕺🏿', ':man_dancing_light_skin_tone:': '🕺🏻', ':man_dancing_medium-dark_skin_tone:': '🕺🏾', ':man_dancing_medium-light_skin_tone:': '🕺🏼', ':man_dancing_medium_skin_tone:': '🕺🏽', ':man_dark_skin_tone:': '👨🏿', ':man_detective:': '🕵️\\u200d♂️', ':man_detective_dark_skin_tone:': '🕵🏿\\u200d♂️', ':man_detective_light_skin_tone:': '🕵🏻\\u200d♂️', ':man_detective_medium-dark_skin_tone:': '🕵🏾\\u200d♂️', ':man_detective_medium-light_skin_tone:': '🕵🏼\\u200d♂️', ':man_detective_medium_skin_tone:': '🕵🏽\\u200d♂️', ':man_elf:': '🧝\\u200d♂️', ':man_elf_dark_skin_tone:': '🧝🏿\\u200d♂️', ':man_elf_light_skin_tone:': '🧝🏻\\u200d♂️', ':man_elf_medium-dark_skin_tone:': '🧝🏾\\u200d♂️', ':man_elf_medium-light_skin_tone:': '🧝🏼\\u200d♂️', ':man_elf_medium_skin_tone:': '🧝🏽\\u200d♂️', ':man_facepalming:': '🤦\\u200d♂️', ':man_facepalming_dark_skin_tone:': '🤦🏿\\u200d♂️', ':man_facepalming_light_skin_tone:': '🤦🏻\\u200d♂️', ':man_facepalming_medium-dark_skin_tone:': '🤦🏾\\u200d♂️', ':man_facepalming_medium-light_skin_tone:': '🤦🏼\\u200d♂️', ':man_facepalming_medium_skin_tone:': '🤦🏽\\u200d♂️', ':man_factory_worker:': '👨\\u200d🏭', ':man_factory_worker_dark_skin_tone:': '👨🏿\\u200d🏭', ':man_factory_worker_light_skin_tone:': '👨🏻\\u200d🏭', ':man_factory_worker_medium-dark_skin_tone:': '👨🏾\\u200d🏭', ':man_factory_worker_medium-light_skin_tone:': '👨🏼\\u200d🏭', ':man_factory_worker_medium_skin_tone:': '👨🏽\\u200d🏭', ':man_fairy:': '🧚\\u200d♂️', ':man_fairy_dark_skin_tone:': '🧚🏿\\u200d♂️', ':man_fairy_light_skin_tone:': '🧚🏻\\u200d♂️', ':man_fairy_medium-dark_skin_tone:': '🧚🏾\\u200d♂️', ':man_fairy_medium-light_skin_tone:': '🧚🏼\\u200d♂️', ':man_fairy_medium_skin_tone:': '🧚🏽\\u200d♂️', ':man_farmer:': '👨\\u200d🌾', ':man_farmer_dark_skin_tone:': '👨🏿\\u200d🌾', ':man_farmer_light_skin_tone:': '👨🏻\\u200d🌾', ':man_farmer_medium-dark_skin_tone:': '👨🏾\\u200d🌾', ':man_farmer_medium-light_skin_tone:': '👨🏼\\u200d🌾', ':man_farmer_medium_skin_tone:': '👨🏽\\u200d🌾', ':man_firefighter:': '👨\\u200d🚒', ':man_firefighter_dark_skin_tone:': '👨🏿\\u200d🚒', ':man_firefighter_light_skin_tone:': '👨🏻\\u200d🚒', ':man_firefighter_medium-dark_skin_tone:': '👨🏾\\u200d🚒', ':man_firefighter_medium-light_skin_tone:': '👨🏼\\u200d🚒', ':man_firefighter_medium_skin_tone:': '👨🏽\\u200d🚒', ':man_frowning:': '🙍\\u200d♂️', ':man_frowning_dark_skin_tone:': '🙍🏿\\u200d♂️', ':man_frowning_light_skin_tone:': '🙍🏻\\u200d♂️', ':man_frowning_medium-dark_skin_tone:': '🙍🏾\\u200d♂️', ':man_frowning_medium-light_skin_tone:': '🙍🏼\\u200d♂️', ':man_frowning_medium_skin_tone:': '🙍🏽\\u200d♂️', ':man_genie:': '🧞\\u200d♂️', ':man_gesturing_NO:': '🙅\\u200d♂️', ':man_gesturing_NO_dark_skin_tone:': '🙅🏿\\u200d♂️', ':man_gesturing_NO_light_skin_tone:': '🙅🏻\\u200d♂️', ':man_gesturing_NO_medium-dark_skin_tone:': '🙅🏾\\u200d♂️', ':man_gesturing_NO_medium-light_skin_tone:': '🙅🏼\\u200d♂️', ':man_gesturing_NO_medium_skin_tone:': '🙅🏽\\u200d♂️', ':man_gesturing_OK:': '🙆\\u200d♂️', ':man_gesturing_OK_dark_skin_tone:': '🙆🏿\\u200d♂️', ':man_gesturing_OK_light_skin_tone:': '🙆🏻\\u200d♂️', ':man_gesturing_OK_medium-dark_skin_tone:': '🙆🏾\\u200d♂️', ':man_gesturing_OK_medium-light_skin_tone:': '🙆🏼\\u200d♂️', ':man_gesturing_OK_medium_skin_tone:': '🙆🏽\\u200d♂️', ':man_getting_haircut:': '💇\\u200d♂️', ':man_getting_haircut_dark_skin_tone:': '💇🏿\\u200d♂️', ':man_getting_haircut_light_skin_tone:': '💇🏻\\u200d♂️', ':man_getting_haircut_medium-dark_skin_tone:': '💇🏾\\u200d♂️', ':man_getting_haircut_medium-light_skin_tone:': '💇🏼\\u200d♂️', ':man_getting_haircut_medium_skin_tone:': '💇🏽\\u200d♂️', ':man_getting_massage:': '💆\\u200d♂️', ':man_getting_massage_dark_skin_tone:': '💆🏿\\u200d♂️', ':man_getting_massage_light_skin_tone:': '💆🏻\\u200d♂️', ':man_getting_massage_medium-dark_skin_tone:': '💆🏾\\u200d♂️', ':man_getting_massage_medium-light_skin_tone:': '💆🏼\\u200d♂️', ':man_getting_massage_medium_skin_tone:': '💆🏽\\u200d♂️', ':man_golfing:': '🏌️\\u200d♂️', ':man_golfing_dark_skin_tone:': '🏌🏿\\u200d♂️', ':man_golfing_light_skin_tone:': '🏌🏻\\u200d♂️', ':man_golfing_medium-dark_skin_tone:': '🏌🏾\\u200d♂️', ':man_golfing_medium-light_skin_tone:': '🏌🏼\\u200d♂️', ':man_golfing_medium_skin_tone:': '🏌🏽\\u200d♂️', ':man_guard:': '💂\\u200d♂️', ':man_guard_dark_skin_tone:': '💂🏿\\u200d♂️', ':man_guard_light_skin_tone:': '💂🏻\\u200d♂️', ':man_guard_medium-dark_skin_tone:': '💂🏾\\u200d♂️', ':man_guard_medium-light_skin_tone:': '💂🏼\\u200d♂️', ':man_guard_medium_skin_tone:': '💂🏽\\u200d♂️', ':man_health_worker:': '👨\\u200d⚕️', ':man_health_worker_dark_skin_tone:': '👨🏿\\u200d⚕️', ':man_health_worker_light_skin_tone:': '👨🏻\\u200d⚕️', ':man_health_worker_medium-dark_skin_tone:': '👨🏾\\u200d⚕️', ':man_health_worker_medium-light_skin_tone:': '👨🏼\\u200d⚕️', ':man_health_worker_medium_skin_tone:': '👨🏽\\u200d⚕️', ':man_in_lotus_position:': '🧘\\u200d♂️', ':man_in_lotus_position_dark_skin_tone:': '🧘🏿\\u200d♂️', ':man_in_lotus_position_light_skin_tone:': '🧘🏻\\u200d♂️', ':man_in_lotus_position_medium-dark_skin_tone:': '🧘🏾\\u200d♂️', ':man_in_lotus_position_medium-light_skin_tone:': '🧘🏼\\u200d♂️', ':man_in_lotus_position_medium_skin_tone:': '🧘🏽\\u200d♂️', ':man_in_manual_wheelchair:': '👨\\u200d\\U0001f9bd', ':man_in_motorized_wheelchair:': '👨\\u200d\\U0001f9bc', ':man_in_steamy_room:': '🧖\\u200d♂️', ':man_in_steamy_room_dark_skin_tone:': '🧖🏿\\u200d♂️', ':man_in_steamy_room_light_skin_tone:': '🧖🏻\\u200d♂️', ':man_in_steamy_room_medium-dark_skin_tone:': '🧖🏾\\u200d♂️', ':man_in_steamy_room_medium-light_skin_tone:': '🧖🏼\\u200d♂️', ':man_in_steamy_room_medium_skin_tone:': '🧖🏽\\u200d♂️', ':man_in_suit_levitating:': '🕴', ':man_in_suit_levitating_dark_skin_tone:': '🕴🏿', ':man_in_suit_levitating_light_skin_tone:': '🕴🏻', ':man_in_suit_levitating_medium-dark_skin_tone:': '🕴🏾', ':man_in_suit_levitating_medium-light_skin_tone:': '🕴🏼', ':man_in_suit_levitating_medium_skin_tone:': '🕴🏽', ':man_in_tuxedo:': '🤵', ':man_in_tuxedo_dark_skin_tone:': '🤵🏿', ':man_in_tuxedo_light_skin_tone:': '🤵🏻', ':man_in_tuxedo_medium-dark_skin_tone:': '🤵🏾', ':man_in_tuxedo_medium-light_skin_tone:': '🤵🏼', ':man_in_tuxedo_medium_skin_tone:': '🤵🏽', ':man_judge:': '👨\\u200d⚖️', ':man_judge_dark_skin_tone:': '👨🏿\\u200d⚖️', ':man_judge_light_skin_tone:': '👨🏻\\u200d⚖️', ':man_judge_medium-dark_skin_tone:': '👨🏾\\u200d⚖️', ':man_judge_medium-light_skin_tone:': '👨🏼\\u200d⚖️', ':man_judge_medium_skin_tone:': '👨🏽\\u200d⚖️', ':man_juggling:': '🤹\\u200d♂️', ':man_juggling_dark_skin_tone:': '🤹🏿\\u200d♂️', ':man_juggling_light_skin_tone:': '🤹🏻\\u200d♂️', ':man_juggling_medium-dark_skin_tone:': '🤹🏾\\u200d♂️', ':man_juggling_medium-light_skin_tone:': '🤹🏼\\u200d♂️', ':man_juggling_medium_skin_tone:': '🤹🏽\\u200d♂️', ':man_lifting_weights:': '🏋️\\u200d♂️', ':man_lifting_weights_dark_skin_tone:': '🏋🏿\\u200d♂️', ':man_lifting_weights_light_skin_tone:': '🏋🏻\\u200d♂️', ':man_lifting_weights_medium-dark_skin_tone:': '🏋🏾\\u200d♂️', ':man_lifting_weights_medium-light_skin_tone:': '🏋🏼\\u200d♂️', ':man_lifting_weights_medium_skin_tone:': '🏋🏽\\u200d♂️', ':man_light_skin_tone:': '👨🏻', ':man_mage:': '🧙\\u200d♂️', ':man_mage_dark_skin_tone:': '🧙🏿\\u200d♂️', ':man_mage_light_skin_tone:': '🧙🏻\\u200d♂️', ':man_mage_medium-dark_skin_tone:': '🧙🏾\\u200d♂️', ':man_mage_medium-light_skin_tone:': '🧙🏼\\u200d♂️', ':man_mage_medium_skin_tone:': '🧙🏽\\u200d♂️', ':man_mechanic:': '👨\\u200d🔧', ':man_mechanic_dark_skin_tone:': '👨🏿\\u200d🔧', ':man_mechanic_light_skin_tone:': '👨🏻\\u200d🔧', ':man_mechanic_medium-dark_skin_tone:': '👨🏾\\u200d🔧', ':man_mechanic_medium-light_skin_tone:': '👨🏼\\u200d🔧', ':man_mechanic_medium_skin_tone:': '👨🏽\\u200d🔧', ':man_medium-dark_skin_tone:': '👨🏾', ':man_medium-light_skin_tone:': '👨🏼', ':man_medium_skin_tone:': '👨🏽', ':man_mountain_biking:': '🚵\\u200d♂️', ':man_mountain_biking_dark_skin_tone:': '🚵🏿\\u200d♂️', ':man_mountain_biking_light_skin_tone:': '🚵🏻\\u200d♂️', ':man_mountain_biking_medium-dark_skin_tone:': '🚵🏾\\u200d♂️', ':man_mountain_biking_medium-light_skin_tone:': '🚵🏼\\u200d♂️', ':man_mountain_biking_medium_skin_tone:': '🚵🏽\\u200d♂️', ':man_office_worker:': '👨\\u200d💼', ':man_office_worker_dark_skin_tone:': '👨🏿\\u200d💼', ':man_office_worker_light_skin_tone:': '👨🏻\\u200d💼', ':man_office_worker_medium-dark_skin_tone:': '👨🏾\\u200d💼', ':man_office_worker_medium-light_skin_tone:': '👨🏼\\u200d💼', ':man_office_worker_medium_skin_tone:': '👨🏽\\u200d💼', ':man_pilot:': '👨\\u200d✈️', ':man_pilot_dark_skin_tone:': '👨🏿\\u200d✈️', ':man_pilot_light_skin_tone:': '👨🏻\\u200d✈️', ':man_pilot_medium-dark_skin_tone:': '👨🏾\\u200d✈️', ':man_pilot_medium-light_skin_tone:': '👨🏼\\u200d✈️', ':man_pilot_medium_skin_tone:': '👨🏽\\u200d✈️', ':man_playing_handball:': '🤾\\u200d♂️', ':man_playing_handball_dark_skin_tone:': '🤾🏿\\u200d♂️', ':man_playing_handball_light_skin_tone:': '🤾🏻\\u200d♂️', ':man_playing_handball_medium-dark_skin_tone:': '🤾🏾\\u200d♂️', ':man_playing_handball_medium-light_skin_tone:': '🤾🏼\\u200d♂️', ':man_playing_handball_medium_skin_tone:': '🤾🏽\\u200d♂️', ':man_playing_water_polo:': '🤽\\u200d♂️', ':man_playing_water_polo_dark_skin_tone:': '🤽🏿\\u200d♂️', ':man_playing_water_polo_light_skin_tone:': '🤽🏻\\u200d♂️', ':man_playing_water_polo_medium-dark_skin_tone:': '🤽🏾\\u200d♂️', ':man_playing_water_polo_medium-light_skin_tone:': '🤽🏼\\u200d♂️', ':man_playing_water_polo_medium_skin_tone:': '🤽🏽\\u200d♂️', ':man_police_officer:': '👮\\u200d♂️', ':man_police_officer_dark_skin_tone:': '👮🏿\\u200d♂️', ':man_police_officer_light_skin_tone:': '👮🏻\\u200d♂️', ':man_police_officer_medium-dark_skin_tone:': '👮🏾\\u200d♂️', ':man_police_officer_medium-light_skin_tone:': '👮🏼\\u200d♂️', ':man_police_officer_medium_skin_tone:': '👮🏽\\u200d♂️', ':man_pouting:': '🙎\\u200d♂️', ':man_pouting_dark_skin_tone:': '🙎🏿\\u200d♂️', ':man_pouting_light_skin_tone:': '🙎🏻\\u200d♂️', ':man_pouting_medium-dark_skin_tone:': '🙎🏾\\u200d♂️', ':man_pouting_medium-light_skin_tone:': '🙎🏼\\u200d♂️', ':man_pouting_medium_skin_tone:': '🙎🏽\\u200d♂️', ':man_raising_hand:': '🙋\\u200d♂️', ':man_raising_hand_dark_skin_tone:': '🙋🏿\\u200d♂️', ':man_raising_hand_light_skin_tone:': '🙋🏻\\u200d♂️', ':man_raising_hand_medium-dark_skin_tone:': '🙋🏾\\u200d♂️', ':man_raising_hand_medium-light_skin_tone:': '🙋🏼\\u200d♂️', ':man_raising_hand_medium_skin_tone:': '🙋🏽\\u200d♂️', ':man_rowing_boat:': '🚣\\u200d♂️', ':man_rowing_boat_dark_skin_tone:': '🚣🏿\\u200d♂️', ':man_rowing_boat_light_skin_tone:': '🚣🏻\\u200d♂️', ':man_rowing_boat_medium-dark_skin_tone:': '🚣🏾\\u200d♂️', ':man_rowing_boat_medium-light_skin_tone:': '🚣🏼\\u200d♂️', ':man_rowing_boat_medium_skin_tone:': '🚣🏽\\u200d♂️', ':man_running:': '🏃\\u200d♂️', ':man_running_dark_skin_tone:': '🏃🏿\\u200d♂️', ':man_running_light_skin_tone:': '🏃🏻\\u200d♂️', ':man_running_medium-dark_skin_tone:': '🏃🏾\\u200d♂️', ':man_running_medium-light_skin_tone:': '🏃🏼\\u200d♂️', ':man_running_medium_skin_tone:': '🏃🏽\\u200d♂️', ':man_scientist:': '👨\\u200d🔬', ':man_scientist_dark_skin_tone:': '👨🏿\\u200d🔬', ':man_scientist_light_skin_tone:': '👨🏻\\u200d🔬', ':man_scientist_medium-dark_skin_tone:': '👨🏾\\u200d🔬', ':man_scientist_medium-light_skin_tone:': '👨🏼\\u200d🔬', ':man_scientist_medium_skin_tone:': '👨🏽\\u200d🔬', ':man_shrugging:': '🤷\\u200d♂️', ':man_shrugging_dark_skin_tone:': '🤷🏿\\u200d♂️', ':man_shrugging_light_skin_tone:': '🤷🏻\\u200d♂️', ':man_shrugging_medium-dark_skin_tone:': '🤷🏾\\u200d♂️', ':man_shrugging_medium-light_skin_tone:': '🤷🏼\\u200d♂️', ':man_shrugging_medium_skin_tone:': '🤷🏽\\u200d♂️', ':man_singer:': '👨\\u200d🎤', ':man_singer_dark_skin_tone:': '👨🏿\\u200d🎤', ':man_singer_light_skin_tone:': '👨🏻\\u200d🎤', ':man_singer_medium-dark_skin_tone:': '👨🏾\\u200d🎤', ':man_singer_medium-light_skin_tone:': '👨🏼\\u200d🎤', ':man_singer_medium_skin_tone:': '👨🏽\\u200d🎤', ':man_student:': '👨\\u200d🎓', ':man_student_dark_skin_tone:': '👨🏿\\u200d🎓', ':man_student_light_skin_tone:': '👨🏻\\u200d🎓', ':man_student_medium-dark_skin_tone:': '👨🏾\\u200d🎓', ':man_student_medium-light_skin_tone:': '👨🏼\\u200d🎓', ':man_student_medium_skin_tone:': '👨🏽\\u200d🎓', ':man_surfing:': '🏄\\u200d♂️', ':man_surfing_dark_skin_tone:': '🏄🏿\\u200d♂️', ':man_surfing_light_skin_tone:': '🏄🏻\\u200d♂️', ':man_surfing_medium-dark_skin_tone:': '🏄🏾\\u200d♂️', ':man_surfing_medium-light_skin_tone:': '🏄🏼\\u200d♂️', ':man_surfing_medium_skin_tone:': '🏄🏽\\u200d♂️', ':man_swimming:': '🏊\\u200d♂️', ':man_swimming_dark_skin_tone:': '🏊🏿\\u200d♂️', ':man_swimming_light_skin_tone:': '🏊🏻\\u200d♂️', ':man_swimming_medium-dark_skin_tone:': '🏊🏾\\u200d♂️', ':man_swimming_medium-light_skin_tone:': '🏊🏼\\u200d♂️', ':man_swimming_medium_skin_tone:': '🏊🏽\\u200d♂️', ':man_teacher:': '👨\\u200d🏫', ':man_teacher_dark_skin_tone:': '👨🏿\\u200d🏫', ':man_teacher_light_skin_tone:': '👨🏻\\u200d🏫', ':man_teacher_medium-dark_skin_tone:': '👨🏾\\u200d🏫', ':man_teacher_medium-light_skin_tone:': '👨🏼\\u200d🏫', ':man_teacher_medium_skin_tone:': '👨🏽\\u200d🏫', ':man_technologist:': '👨\\u200d💻', ':man_technologist_dark_skin_tone:': '👨🏿\\u200d💻', ':man_technologist_light_skin_tone:': '👨🏻\\u200d💻', ':man_technologist_medium-dark_skin_tone:': '👨🏾\\u200d💻', ':man_technologist_medium-light_skin_tone:': '👨🏼\\u200d💻', ':man_technologist_medium_skin_tone:': '👨🏽\\u200d💻', ':man_tipping_hand:': '💁\\u200d♂️', ':man_tipping_hand_dark_skin_tone:': '💁🏿\\u200d♂️', ':man_tipping_hand_light_skin_tone:': '💁🏻\\u200d♂️', ':man_tipping_hand_medium-dark_skin_tone:': '💁🏾\\u200d♂️', ':man_tipping_hand_medium-light_skin_tone:': '💁🏼\\u200d♂️', ':man_tipping_hand_medium_skin_tone:': '💁🏽\\u200d♂️', ':man_vampire:': '🧛\\u200d♂️', ':man_vampire_dark_skin_tone:': '🧛🏿\\u200d♂️', ':man_vampire_light_skin_tone:': '🧛🏻\\u200d♂️', ':man_vampire_medium-dark_skin_tone:': '🧛🏾\\u200d♂️', ':man_vampire_medium-light_skin_tone:': '🧛🏼\\u200d♂️', ':man_vampire_medium_skin_tone:': '🧛🏽\\u200d♂️', ':man_walking:': '🚶\\u200d♂️', ':man_walking_dark_skin_tone:': '🚶🏿\\u200d♂️', ':man_walking_light_skin_tone:': '🚶🏻\\u200d♂️', ':man_walking_medium-dark_skin_tone:': '🚶🏾\\u200d♂️', ':man_walking_medium-light_skin_tone:': '🚶🏼\\u200d♂️', ':man_walking_medium_skin_tone:': '🚶🏽\\u200d♂️', ':man_wearing_turban:': '👳\\u200d♂️', ':man_wearing_turban_dark_skin_tone:': '👳🏿\\u200d♂️', ':man_wearing_turban_light_skin_tone:': '👳🏻\\u200d♂️', ':man_wearing_turban_medium-dark_skin_tone:': '👳🏾\\u200d♂️', ':man_wearing_turban_medium-light_skin_tone:': '👳🏼\\u200d♂️', ':man_wearing_turban_medium_skin_tone:': '👳🏽\\u200d♂️', ':man_with_probing_cane:': '👨\\u200d\\U0001f9af', ':man_with_Chinese_cap:': '👲', ':man_with_Chinese_cap_dark_skin_tone:': '👲🏿', ':man_with_Chinese_cap_light_skin_tone:': '👲🏻', ':man_with_Chinese_cap_medium-dark_skin_tone:': '👲🏾', ':man_with_Chinese_cap_medium-light_skin_tone:': '👲🏼', ':man_with_Chinese_cap_medium_skin_tone:': '👲🏽', ':man_zombie:': '🧟\\u200d♂️', ':mango:': '🥭', ':mantelpiece_clock:': '🕰', ':manual_wheelchair:': '\\U0001f9bd', ':man’s_shoe:': '👞', ':map_of_Japan:': '🗾', ':maple_leaf:': '🍁', ':martial_arts_uniform:': '🥋', ':mate:': '\\U0001f9c9', ':meat_on_bone:': '🍖', ':mechanical_arm:': '\\U0001f9be', ':mechanical_leg:': '\\U0001f9bf', ':medical_symbol:': '⚕', ':megaphone:': '📣', ':melon:': '🍈', ':memo:': '📝', ':men_with_bunny_ears:': '👯\\u200d♂️', ':men_wrestling:': '🤼\\u200d♂️', ':menorah:': '🕎', ':men’s_room:': '🚹', ':mermaid:': '🧜\\u200d♀️', ':mermaid_dark_skin_tone:': '🧜🏿\\u200d♀️', ':mermaid_light_skin_tone:': '🧜🏻\\u200d♀️', ':mermaid_medium-dark_skin_tone:': '🧜🏾\\u200d♀️', ':mermaid_medium-light_skin_tone:': '🧜🏼\\u200d♀️', ':mermaid_medium_skin_tone:': '🧜🏽\\u200d♀️', ':merman:': '🧜\\u200d♂️', ':merman_dark_skin_tone:': '🧜🏿\\u200d♂️', ':merman_light_skin_tone:': '🧜🏻\\u200d♂️', ':merman_medium-dark_skin_tone:': '🧜🏾\\u200d♂️', ':merman_medium-light_skin_tone:': '🧜🏼\\u200d♂️', ':merman_medium_skin_tone:': '🧜🏽\\u200d♂️', ':merperson:': '🧜', ':merperson_dark_skin_tone:': '🧜🏿', ':merperson_light_skin_tone:': '🧜🏻', ':merperson_medium-dark_skin_tone:': '🧜🏾', ':merperson_medium-light_skin_tone:': '🧜🏼', ':merperson_medium_skin_tone:': '🧜🏽', ':metro:': '🚇', ':microbe:': '🦠', ':microphone:': '🎤', ':microscope:': '🔬', ':middle_finger:': '🖕', ':middle_finger_dark_skin_tone:': '🖕🏿', ':middle_finger_light_skin_tone:': '🖕🏻', ':middle_finger_medium-dark_skin_tone:': '🖕🏾', ':middle_finger_medium-light_skin_tone:': '🖕🏼', ':middle_finger_medium_skin_tone:': '🖕🏽', ':military_medal:': '🎖', ':milky_way:': '🌌', ':minibus:': '🚐', ':moai:': '🗿', ':mobile_phone:': '📱', ':mobile_phone_off:': '📴', ':mobile_phone_with_arrow:': '📲', ':money-mouth_face:': '🤑', ':money_bag:': '💰', ':money_with_wings:': '💸', ':monkey:': '🐒', ':monkey_face:': '🐵', ':monorail:': '🚝', ':moon_cake:': '🥮', ':moon_viewing_ceremony:': '🎑', ':mosque:': '🕌', ':mosquito:': '🦟', ':motor_boat:': '🛥', ':motor_scooter:': '🛵', ':motorcycle:': '🏍', ':motorized_wheelchair:': '\\U0001f9bc', ':motorway:': '🛣', ':mount_fuji:': '🗻', ':mountain:': '⛰', ':mountain_cableway:': '🚠', ':mountain_railway:': '🚞', ':mouse:': '🐁', ':mouse_face:': '🐭', ':mouth:': '👄', ':movie_camera:': '🎥', ':mushroom:': '🍄', ':musical_keyboard:': '🎹', ':musical_note:': '🎵', ':musical_notes:': '🎶', ':musical_score:': '🎼', ':muted_speaker:': '🔇', ':nail_polish:': '💅', ':nail_polish_dark_skin_tone:': '💅🏿', ':nail_polish_light_skin_tone:': '💅🏻', ':nail_polish_medium-dark_skin_tone:': '💅🏾', ':nail_polish_medium-light_skin_tone:': '💅🏼', ':nail_polish_medium_skin_tone:': '💅🏽', ':name_badge:': '📛', ':national_park:': '🏞', ':nauseated_face:': '🤢', ':nazar_amulet:': '🧿', ':necktie:': '👔', ':nerd_face:': '🤓', ':neutral_face:': '😐', ':new_moon:': '🌑', ':new_moon_face:': '🌚', ':newspaper:': '📰', ':next_track_button:': '⏭', ':night_with_stars:': '🌃', ':nine-thirty:': '🕤', ':nine_o’clock:': '🕘', ':no_bicycles:': '🚳', ':no_entry:': '⛔', ':no_littering:': '🚯', ':no_mobile_phones:': '📵', ':no_one_under_eighteen:': '🔞', ':no_pedestrians:': '🚷', ':no_smoking:': '🚭', ':non-potable_water:': '🚱', ':nose:': '👃', ':nose_dark_skin_tone:': '👃🏿', ':nose_light_skin_tone:': '👃🏻', ':nose_medium-dark_skin_tone:': '👃🏾', ':nose_medium-light_skin_tone:': '👃🏼', ':nose_medium_skin_tone:': '👃🏽', ':notebook:': '📓', ':notebook_with_decorative_cover:': '📔', ':nut_and_bolt:': '🔩', ':octopus:': '🐙', ':oden:': '🍢', ':office_building:': '🏢', ':ogre:': '👹', ':oil_drum:': '🛢', ':old_key:': '🗝', ':old_man:': '👴', ':old_man_dark_skin_tone:': '👴🏿', ':old_man_light_skin_tone:': '👴🏻', ':old_man_medium-dark_skin_tone:': '👴🏾', ':old_man_medium-light_skin_tone:': '👴🏼', ':old_man_medium_skin_tone:': '👴🏽', ':old_woman:': '👵', ':old_woman_dark_skin_tone:': '👵🏿', ':old_woman_light_skin_tone:': '👵🏻', ':old_woman_medium-dark_skin_tone:': '👵🏾', ':old_woman_medium-light_skin_tone:': '👵🏼', ':old_woman_medium_skin_tone:': '👵🏽', ':older_adult:': '🧓', ':older_adult_dark_skin_tone:': '🧓🏿', ':older_adult_light_skin_tone:': '🧓🏻', ':older_adult_medium-dark_skin_tone:': '🧓🏾', ':older_adult_medium-light_skin_tone:': '🧓🏼', ':older_adult_medium_skin_tone:': '🧓🏽', ':om:': '🕉', ':oncoming_automobile:': '🚘', ':oncoming_bus:': '🚍', ':oncoming_fist:': '👊', ':oncoming_fist_dark_skin_tone:': '👊🏿', ':oncoming_fist_light_skin_tone:': '👊🏻', ':oncoming_fist_medium-dark_skin_tone:': '👊🏾', ':oncoming_fist_medium-light_skin_tone:': '👊🏼', ':oncoming_fist_medium_skin_tone:': '👊🏽', ':oncoming_police_car:': '🚔', ':oncoming_taxi:': '🚖', ':one-piece_swimsuit:': '\\U0001fa71', ':one-thirty:': '🕜', ':one_o’clock:': '🕐', ':onion:': '\\U0001f9c5', ':open_book:': '📖', ':open_file_folder:': '📂', ':open_hands:': '👐', ':open_hands_dark_skin_tone:': '👐🏿', ':open_hands_light_skin_tone:': '👐🏻', ':open_hands_medium-dark_skin_tone:': '👐🏾', ':open_hands_medium-light_skin_tone:': '👐🏼', ':open_hands_medium_skin_tone:': '👐🏽', ':open_mailbox_with_lowered_flag:': '📭', ':open_mailbox_with_raised_flag:': '📬', ':optical_disk:': '💿', ':orange_book:': '📙', ':orange_circle:': '\\U0001f7e0', ':orange_heart:': '🧡', ':orange_square:': '\\U0001f7e7', ':orangutan:': '\\U0001f9a7', ':orthodox_cross:': '☦', ':otter:': '\\U0001f9a6', ':outbox_tray:': '📤', ':owl:': '🦉', ':ox:': '🐂', ':oyster:': '\\U0001f9aa', ':package:': '📦', ':page_facing_up:': '📄', ':page_with_curl:': '📃', ':pager:': '📟', ':paintbrush:': '🖌', ':palm_tree:': '🌴', ':palms_up_together:': '🤲', ':palms_up_together_dark_skin_tone:': '🤲🏿', ':palms_up_together_light_skin_tone:': '🤲🏻', ':palms_up_together_medium-dark_skin_tone:': '🤲🏾', ':palms_up_together_medium-light_skin_tone:': '🤲🏼', ':palms_up_together_medium_skin_tone:': '🤲🏽', ':pancakes:': '🥞', ':panda_face:': '🐼', ':paperclip:': '📎', ':parrot:': '🦜', ':part_alternation_mark:': '〽', ':party_popper:': '🎉', ':partying_face:': '🥳', ':passenger_ship:': '🛳', ':passport_control:': '🛂', ':pause_button:': '⏸', ':paw_prints:': '🐾', ':peace_symbol:': '☮', ':peach:': '🍑', ':peacock:': '🦚', ':peanuts:': '🥜', ':pear:': '🍐', ':pen:': '🖊', ':pencil:': '✏', ':penguin:': '🐧', ':pensive_face:': '😔', ':people_holding_hands:': '🧑\\u200d🤝\\u200d🧑', ':people_with_bunny_ears:': '👯', ':people_wrestling:': '🤼', ':performing_arts:': '🎭', ':persevering_face:': '😣', ':person_biking:': '🚴', ':person_biking_dark_skin_tone:': '🚴🏿', ':person_biking_light_skin_tone:': '🚴🏻', ':person_biking_medium-dark_skin_tone:': '🚴🏾', ':person_biking_medium-light_skin_tone:': '🚴🏼', ':person_biking_medium_skin_tone:': '🚴🏽', ':person_bouncing_ball:': '⛹', ':person_bouncing_ball_dark_skin_tone:': '⛹🏿', ':person_bouncing_ball_light_skin_tone:': '⛹🏻', ':person_bouncing_ball_medium-dark_skin_tone:': '⛹🏾', ':person_bouncing_ball_medium-light_skin_tone:': '⛹🏼', ':person_bouncing_ball_medium_skin_tone:': '⛹🏽', ':person_bowing:': '🙇', ':person_bowing_dark_skin_tone:': '🙇🏿', ':person_bowing_light_skin_tone:': '🙇🏻', ':person_bowing_medium-dark_skin_tone:': '🙇🏾', ':person_bowing_medium-light_skin_tone:': '🙇🏼', ':person_bowing_medium_skin_tone:': '🙇🏽', ':person_cartwheeling:': '🤸', ':person_cartwheeling_dark_skin_tone:': '🤸🏿', ':person_cartwheeling_light_skin_tone:': '🤸🏻', ':person_cartwheeling_medium-dark_skin_tone:': '🤸🏾', ':person_cartwheeling_medium-light_skin_tone:': '🤸🏼', ':person_cartwheeling_medium_skin_tone:': '🤸🏽', ':person_climbing:': '🧗', ':person_climbing_dark_skin_tone:': '🧗🏿', ':person_climbing_light_skin_tone:': '🧗🏻', ':person_climbing_medium-dark_skin_tone:': '🧗🏾', ':person_climbing_medium-light_skin_tone:': '🧗🏼', ':person_climbing_medium_skin_tone:': '🧗🏽', ':person_facepalming:': '🤦', ':person_facepalming_dark_skin_tone:': '🤦🏿', ':person_facepalming_light_skin_tone:': '🤦🏻', ':person_facepalming_medium-dark_skin_tone:': '🤦🏾', ':person_facepalming_medium-light_skin_tone:': '🤦🏼', ':person_facepalming_medium_skin_tone:': '🤦🏽', ':person_fencing:': '🤺', ':person_frowning:': '🙍', ':person_frowning_dark_skin_tone:': '🙍🏿', ':person_frowning_light_skin_tone:': '🙍🏻', ':person_frowning_medium-dark_skin_tone:': '🙍🏾', ':person_frowning_medium-light_skin_tone:': '🙍🏼', ':person_frowning_medium_skin_tone:': '🙍🏽', ':person_gesturing_NO:': '🙅', ':person_gesturing_NO_dark_skin_tone:': '🙅🏿', ':person_gesturing_NO_light_skin_tone:': '🙅🏻', ':person_gesturing_NO_medium-dark_skin_tone:': '🙅🏾', ':person_gesturing_NO_medium-light_skin_tone:': '🙅🏼', ':person_gesturing_NO_medium_skin_tone:': '🙅🏽', ':person_gesturing_OK:': '🙆', ':person_gesturing_OK_dark_skin_tone:': '🙆🏿', ':person_gesturing_OK_light_skin_tone:': '🙆🏻', ':person_gesturing_OK_medium-dark_skin_tone:': '🙆🏾', ':person_gesturing_OK_medium-light_skin_tone:': '🙆🏼', ':person_gesturing_OK_medium_skin_tone:': '🙆🏽', ':person_getting_haircut:': '💇', ':person_getting_haircut_dark_skin_tone:': '💇🏿', ':person_getting_haircut_light_skin_tone:': '💇🏻', ':person_getting_haircut_medium-dark_skin_tone:': '💇🏾', ':person_getting_haircut_medium-light_skin_tone:': '💇🏼', ':person_getting_haircut_medium_skin_tone:': '💇🏽', ':person_getting_massage:': '💆', ':person_getting_massage_dark_skin_tone:': '💆🏿', ':person_getting_massage_light_skin_tone:': '💆🏻', ':person_getting_massage_medium-dark_skin_tone:': '💆🏾', ':person_getting_massage_medium-light_skin_tone:': '💆🏼', ':person_getting_massage_medium_skin_tone:': '💆🏽', ':person_golfing:': '🏌', ':person_golfing_dark_skin_tone:': '🏌🏿', ':person_golfing_light_skin_tone:': '🏌🏻', ':person_golfing_medium-dark_skin_tone:': '🏌🏾', ':person_golfing_medium-light_skin_tone:': '🏌🏼', ':person_golfing_medium_skin_tone:': '🏌🏽', ':person_in_bed:': '🛌', ':person_in_bed_dark_skin_tone:': '🛌🏿', ':person_in_bed_light_skin_tone:': '🛌🏻', ':person_in_bed_medium-dark_skin_tone:': '🛌🏾', ':person_in_bed_medium-light_skin_tone:': '🛌🏼', ':person_in_bed_medium_skin_tone:': '🛌🏽', ':person_in_lotus_position:': '🧘', ':person_in_lotus_position_dark_skin_tone:': '🧘🏿', ':person_in_lotus_position_light_skin_tone:': '🧘🏻', ':person_in_lotus_position_medium-dark_skin_tone:': '🧘🏾', ':person_in_lotus_position_medium-light_skin_tone:': '🧘🏼', ':person_in_lotus_position_medium_skin_tone:': '🧘🏽', ':person_in_steamy_room:': '🧖', ':person_in_steamy_room_dark_skin_tone:': '🧖🏿', ':person_in_steamy_room_light_skin_tone:': '🧖🏻', ':person_in_steamy_room_medium-dark_skin_tone:': '🧖🏾', ':person_in_steamy_room_medium-light_skin_tone:': '🧖🏼', ':person_in_steamy_room_medium_skin_tone:': '🧖🏽', ':person_juggling:': '🤹', ':person_juggling_dark_skin_tone:': '🤹🏿', ':person_juggling_light_skin_tone:': '🤹🏻', ':person_juggling_medium-dark_skin_tone:': '🤹🏾', ':person_juggling_medium-light_skin_tone:': '🤹🏼', ':person_juggling_medium_skin_tone:': '🤹🏽', ':person_kneeling:': '\\U0001f9ce', ':person_lifting_weights:': '🏋', ':person_lifting_weights_dark_skin_tone:': '🏋🏿', ':person_lifting_weights_light_skin_tone:': '🏋🏻', ':person_lifting_weights_medium-dark_skin_tone:': '🏋🏾', ':person_lifting_weights_medium-light_skin_tone:': '🏋🏼', ':person_lifting_weights_medium_skin_tone:': '🏋🏽', ':person_mountain_biking:': '🚵', ':person_mountain_biking_dark_skin_tone:': '🚵🏿', ':person_mountain_biking_light_skin_tone:': '🚵🏻', ':person_mountain_biking_medium-dark_skin_tone:': '🚵🏾', ':person_mountain_biking_medium-light_skin_tone:': '🚵🏼', ':person_mountain_biking_medium_skin_tone:': '🚵🏽', ':person_playing_handball:': '🤾', ':person_playing_handball_dark_skin_tone:': '🤾🏿', ':person_playing_handball_light_skin_tone:': '🤾🏻', ':person_playing_handball_medium-dark_skin_tone:': '🤾🏾', ':person_playing_handball_medium-light_skin_tone:': '🤾🏼', ':person_playing_handball_medium_skin_tone:': '🤾🏽', ':person_playing_water_polo:': '🤽', ':person_playing_water_polo_dark_skin_tone:': '🤽🏿', ':person_playing_water_polo_light_skin_tone:': '🤽🏻', ':person_playing_water_polo_medium-dark_skin_tone:': '🤽🏾', ':person_playing_water_polo_medium-light_skin_tone:': '🤽🏼', ':person_playing_water_polo_medium_skin_tone:': '🤽🏽', ':person_pouting:': '🙎', ':person_pouting_dark_skin_tone:': '🙎🏿', ':person_pouting_light_skin_tone:': '🙎🏻', ':person_pouting_medium-dark_skin_tone:': '🙎🏾', ':person_pouting_medium-light_skin_tone:': '🙎🏼', ':person_pouting_medium_skin_tone:': '🙎🏽', ':person_raising_hand:': '🙋', ':person_raising_hand_dark_skin_tone:': '🙋🏿', ':person_raising_hand_light_skin_tone:': '🙋🏻', ':person_raising_hand_medium-dark_skin_tone:': '🙋🏾', ':person_raising_hand_medium-light_skin_tone:': '🙋🏼', ':person_raising_hand_medium_skin_tone:': '🙋🏽', ':person_rowing_boat:': '🚣', ':person_rowing_boat_dark_skin_tone:': '🚣🏿', ':person_rowing_boat_light_skin_tone:': '🚣🏻', ':person_rowing_boat_medium-dark_skin_tone:': '🚣🏾', ':person_rowing_boat_medium-light_skin_tone:': '🚣🏼', ':person_rowing_boat_medium_skin_tone:': '🚣🏽', ':person_running:': '🏃', ':person_running_dark_skin_tone:': '🏃🏿', ':person_running_light_skin_tone:': '🏃🏻', ':person_running_medium-dark_skin_tone:': '🏃🏾', ':person_running_medium-light_skin_tone:': '🏃🏼', ':person_running_medium_skin_tone:': '🏃🏽', ':person_shrugging:': '🤷', ':person_shrugging_dark_skin_tone:': '🤷🏿', ':person_shrugging_light_skin_tone:': '🤷🏻', ':person_shrugging_medium-dark_skin_tone:': '🤷🏾', ':person_shrugging_medium-light_skin_tone:': '🤷🏼', ':person_shrugging_medium_skin_tone:': '🤷🏽', ':person_standing:': '\\U0001f9cd', ':person_surfing:': '🏄', ':person_surfing_dark_skin_tone:': '🏄🏿', ':person_surfing_light_skin_tone:': '🏄🏻', ':person_surfing_medium-dark_skin_tone:': '🏄🏾', ':person_surfing_medium-light_skin_tone:': '🏄🏼', ':person_surfing_medium_skin_tone:': '🏄🏽', ':person_swimming:': '🏊', ':person_swimming_dark_skin_tone:': '🏊🏿', ':person_swimming_light_skin_tone:': '🏊🏻', ':person_swimming_medium-dark_skin_tone:': '🏊🏾', ':person_swimming_medium-light_skin_tone:': '🏊🏼', ':person_swimming_medium_skin_tone:': '🏊🏽', ':person_taking_bath:': '🛀', ':person_taking_bath_dark_skin_tone:': '🛀🏿', ':person_taking_bath_light_skin_tone:': '🛀🏻', ':person_taking_bath_medium-dark_skin_tone:': '🛀🏾', ':person_taking_bath_medium-light_skin_tone:': '🛀🏼', ':person_taking_bath_medium_skin_tone:': '🛀🏽', ':person_tipping_hand:': '💁', ':person_tipping_hand_dark_skin_tone:': '💁🏿', ':person_tipping_hand_light_skin_tone:': '💁🏻', ':person_tipping_hand_medium-dark_skin_tone:': '💁🏾', ':person_tipping_hand_medium-light_skin_tone:': '💁🏼', ':person_tipping_hand_medium_skin_tone:': '💁🏽', ':person_walking:': '🚶', ':person_walking_dark_skin_tone:': '🚶🏿', ':person_walking_light_skin_tone:': '🚶🏻', ':person_walking_medium-dark_skin_tone:': '🚶🏾', ':person_walking_medium-light_skin_tone:': '🚶🏼', ':person_walking_medium_skin_tone:': '🚶🏽', ':person_wearing_turban:': '👳', ':person_wearing_turban_dark_skin_tone:': '👳🏿', ':person_wearing_turban_light_skin_tone:': '👳🏻', ':person_wearing_turban_medium-dark_skin_tone:': '👳🏾', ':person_wearing_turban_medium-light_skin_tone:': '👳🏼', ':person_wearing_turban_medium_skin_tone:': '👳🏽', ':petri_dish:': '🧫', ':pick:': '⛏', ':pie:': '🥧', ':pig:': '🐖', ':pig_face:': '🐷', ':pig_nose:': '🐽', ':pile_of_poo:': '💩', ':pill:': '💊', ':pinching_hand:': '\\U0001f90f', ':pine_decoration:': '🎍', ':pineapple:': '🍍', ':ping_pong:': '🏓', ':pirate_flag:': '🏴\\u200d☠️', ':pistol:': '🔫', ':pizza:': '🍕', ':place_of_worship:': '🛐', ':play_button:': '▶', ':play_or_pause_button:': '⏯', ':pleading_face:': '🥺', ':police_car:': '🚓', ':police_car_light:': '🚨', ':police_officer:': '👮', ':police_officer_dark_skin_tone:': '👮🏿', ':police_officer_light_skin_tone:': '👮🏻', ':police_officer_medium-dark_skin_tone:': '👮🏾', ':police_officer_medium-light_skin_tone:': '👮🏼', ':police_officer_medium_skin_tone:': '👮🏽', ':poodle:': '🐩', ':pool_8_ball:': '🎱', ':popcorn:': '🍿', ':post_office:': '🏤', ':postal_horn:': '📯', ':postbox:': '📮', ':pot_of_food:': '🍲', ':potable_water:': '🚰', ':potato:': '🥔', ':poultry_leg:': '🍗', ':pound_banknote:': '💷', ':pouting_cat_face:': '😾', ':pouting_face:': '😡', ':prayer_beads:': '📿', ':pregnant_woman:': '🤰', ':pregnant_woman_dark_skin_tone:': '🤰🏿', ':pregnant_woman_light_skin_tone:': '🤰🏻', ':pregnant_woman_medium-dark_skin_tone:': '🤰🏾', ':pregnant_woman_medium-light_skin_tone:': '🤰🏼', ':pregnant_woman_medium_skin_tone:': '🤰🏽', ':pretzel:': '🥨', ':probing_cane:': '\\U0001f9af', ':prince:': '🤴', ':prince_dark_skin_tone:': '🤴🏿', ':prince_light_skin_tone:': '🤴🏻', ':prince_medium-dark_skin_tone:': '🤴🏾', ':prince_medium-light_skin_tone:': '🤴🏼', ':prince_medium_skin_tone:': '🤴🏽', ':princess:': '👸', ':princess_dark_skin_tone:': '👸🏿', ':princess_light_skin_tone:': '👸🏻', ':princess_medium-dark_skin_tone:': '👸🏾', ':princess_medium-light_skin_tone:': '👸🏼', ':princess_medium_skin_tone:': '👸🏽', ':printer:': '🖨', ':prohibited:': '🚫', ':purple_circle:': '\\U0001f7e3', ':purple_heart:': '💜', ':purple_square:': '\\U0001f7ea', ':purse:': '👛', ':pushpin:': '📌', ':question_mark:': '❓', ':rabbit:': '🐇', ':rabbit_face:': '🐰', ':raccoon:': '🦝', ':racing_car:': '🏎', ':radio:': '📻', ':radio_button:': '🔘', ':radioactive:': '☢', ':railway_car:': '🚃', ':railway_track:': '🛤', ':rainbow:': '🌈', ':rainbow_flag:': '🏳️\\u200d🌈', ':raised_back_of_hand:': '🤚', ':raised_back_of_hand_dark_skin_tone:': '🤚🏿', ':raised_back_of_hand_light_skin_tone:': '🤚🏻', ':raised_back_of_hand_medium-dark_skin_tone:': '🤚🏾', ':raised_back_of_hand_medium-light_skin_tone:': '🤚🏼', ':raised_back_of_hand_medium_skin_tone:': '🤚🏽', ':raised_fist:': '✊', ':raised_fist_dark_skin_tone:': '✊🏿', ':raised_fist_light_skin_tone:': '✊🏻', ':raised_fist_medium-dark_skin_tone:': '✊🏾', ':raised_fist_medium-light_skin_tone:': '✊🏼', ':raised_fist_medium_skin_tone:': '✊🏽', ':raised_hand:': '✋', ':raised_hand_dark_skin_tone:': '✋🏿', ':raised_hand_light_skin_tone:': '✋🏻', ':raised_hand_medium-dark_skin_tone:': '✋🏾', ':raised_hand_medium-light_skin_tone:': '✋🏼', ':raised_hand_medium_skin_tone:': '✋🏽', ':raising_hands:': '🙌', ':raising_hands_dark_skin_tone:': '🙌🏿', ':raising_hands_light_skin_tone:': '🙌🏻', ':raising_hands_medium-dark_skin_tone:': '🙌🏾', ':raising_hands_medium-light_skin_tone:': '🙌🏼', ':raising_hands_medium_skin_tone:': '🙌🏽', ':ram:': '🐏', ':rat:': '🐀', ':razor:': '\\U0001fa92', ':ringed_planet:': '\\U0001fa90', ':receipt:': '🧾', ':record_button:': '⏺', ':recycling_symbol:': '♻', ':red_apple:': '🍎', ':red_circle:': '🔴', ':red_envelope:': '🧧', ':red_hair:': '🦰', ':red-haired_man:': '👨\\u200d🦰', ':red-haired_woman:': '👩\\u200d🦰', ':red_heart:': '❤', ':red_paper_lantern:': '🏮', ':red_square:': '\\U0001f7e5', ':red_triangle_pointed_down:': '🔻', ':red_triangle_pointed_up:': '🔺', ':registered:': '®', ':relieved_face:': '😌', ':reminder_ribbon:': '🎗', ':repeat_button:': '🔁', ':repeat_single_button:': '🔂', ':rescue_worker’s_helmet:': '⛑', ':restroom:': '🚻', ':reverse_button:': '◀', ':revolving_hearts:': '💞', ':rhinoceros:': '🦏', ':ribbon:': '🎀', ':rice_ball:': '🍙', ':rice_cracker:': '🍘', ':right-facing_fist:': '🤜', ':right-facing_fist_dark_skin_tone:': '🤜🏿', ':right-facing_fist_light_skin_tone:': '🤜🏻', ':right-facing_fist_medium-dark_skin_tone:': '🤜🏾', ':right-facing_fist_medium-light_skin_tone:': '🤜🏼', ':right-facing_fist_medium_skin_tone:': '🤜🏽', ':right_anger_bubble:': '🗯', ':right_arrow:': '➡', ':right_arrow_curving_down:': '⤵', ':right_arrow_curving_left:': '↩', ':right_arrow_curving_up:': '⤴', ':ring:': '💍', ':roasted_sweet_potato:': '🍠', ':robot_face:': '🤖', ':rocket:': '🚀', ':roll_of_paper:': '🧻', ':rolled-up_newspaper:': '🗞', ':roller_coaster:': '🎢', ':rolling_on_the_floor_laughing:': '🤣', ':rooster:': '🐓', ':rose:': '🌹', ':rosette:': '🏵', ':round_pushpin:': '📍', ':rugby_football:': '🏉', ':running_shirt:': '🎽', ':running_shoe:': '👟', ':sad_but_relieved_face:': '😥', ':safety_pin:': '🧷', ':safety_vest:': '\\U0001f9ba', ':salt:': '🧂', ':sailboat:': '⛵', ':sake:': '🍶', ':sandwich:': '🥪', ':sari:': '\\U0001f97b', ':satellite:': '🛰', ':satellite_antenna:': '📡', ':sauropod:': '🦕', ':saxophone:': '🎷', ':scarf:': '🧣', ':school:': '🏫', ':school_backpack:': '🎒', ':scissors:': '✂', ':scorpion:': '🦂', ':scroll:': '📜', ':seat:': '💺', ':see-no-evil_monkey:': '🙈', ':seedling:': '🌱', ':selfie:': '🤳', ':selfie_dark_skin_tone:': '🤳🏿', ':selfie_light_skin_tone:': '🤳🏻', ':selfie_medium-dark_skin_tone:': '🤳🏾', ':selfie_medium-light_skin_tone:': '🤳🏼', ':selfie_medium_skin_tone:': '🤳🏽', ':service_dog:': '🐕\\u200d\\U0001f9ba', ':seven-thirty:': '🕢', ':seven_o’clock:': '🕖', ':shallow_pan_of_food:': '🥘', ':shamrock:': '☘', ':shark:': '🦈', ':shaved_ice:': '🍧', ':sheaf_of_rice:': '🌾', ':shield:': '🛡', ':shinto_shrine:': '⛩', ':ship:': '🚢', ':shooting_star:': '🌠', ':shopping_bags:': '🛍', ':shopping_cart:': '🛒', ':shortcake:': '🍰', ':shorts:': '\\U0001fa73', ':shower:': '🚿', ':shrimp:': '🦐', ':shuffle_tracks_button:': '🔀', ':shushing_face:': '🤫', ':sign_of_the_horns:': '🤘', ':sign_of_the_horns_dark_skin_tone:': '🤘🏿', ':sign_of_the_horns_light_skin_tone:': '🤘🏻', ':sign_of_the_horns_medium-dark_skin_tone:': '🤘🏾', ':sign_of_the_horns_medium-light_skin_tone:': '🤘🏼', ':sign_of_the_horns_medium_skin_tone:': '🤘🏽', ':six-thirty:': '🕡', ':six_o’clock:': '🕕', ':skateboard:': '🛹', ':skier:': '⛷', ':skis:': '🎿', ':skull:': '💀', ':skull_and_crossbones:': '☠', ':skunk:': '\\U0001f9a8', ':sled:': '🛷', ':sleeping_face:': '😴', ':sleepy_face:': '😪', ':slightly_frowning_face:': '🙁', ':slightly_smiling_face:': '🙂', ':slot_machine:': '🎰', ':sloth:': '\\U0001f9a5', ':small_airplane:': '🛩', ':small_blue_diamond:': '🔹', ':small_orange_diamond:': '🔸', ':smiling_cat_face_with_heart-eyes:': '😻', ':smiling_face:': '☺', ':smiling_face_with_halo:': '😇', ':smiling_face_with_3_hearts:': '🥰', ':smiling_face_with_heart-eyes:': '😍', ':smiling_face_with_horns:': '😈', ':smiling_face_with_smiling_eyes:': '😊', ':smiling_face_with_sunglasses:': '😎', ':smirking_face:': '😏', ':snail:': '🐌', ':snake:': '🐍', ':sneezing_face:': '🤧', ':snow-capped_mountain:': '🏔', ':snowboarder:': '🏂', ':snowboarder_dark_skin_tone:': '🏂🏿', ':snowboarder_light_skin_tone:': '🏂🏻', ':snowboarder_medium-dark_skin_tone:': '🏂🏾', ':snowboarder_medium-light_skin_tone:': '🏂🏼', ':snowboarder_medium_skin_tone:': '🏂🏽', ':snowflake:': '❄', ':snowman:': '☃', ':snowman_without_snow:': '⛄', ':soap:': '🧼', ':soccer_ball:': '⚽', ':socks:': '🧦', ':softball:': '🥎', ':soft_ice_cream:': '🍦', ':spade_suit:': '♠', ':spaghetti:': '🍝', ':sparkle:': '❇', ':sparkler:': '🎇', ':sparkles:': '✨', ':sparkling_heart:': '💖', ':speak-no-evil_monkey:': '🙊', ':speaker_high_volume:': '🔊', ':speaker_low_volume:': '🔈', ':speaker_medium_volume:': '🔉', ':speaking_head:': '🗣', ':speech_balloon:': '💬', ':speedboat:': '🚤', ':spider:': '🕷', ':spider_web:': '🕸', ':spiral_calendar:': '🗓', ':spiral_notepad:': '🗒', ':spiral_shell:': '🐚', ':spoon:': '🥄', ':sponge:': '🧽', ':sport_utility_vehicle:': '🚙', ':sports_medal:': '🏅', ':spouting_whale:': '🐳', ':squid:': '🦑', ':squinting_face_with_tongue:': '😝', ':stadium:': '🏟', ':star-struck:': '🤩', ':star_and_crescent:': '☪', ':star_of_David:': '✡', ':station:': '🚉', ':steaming_bowl:': '🍜', ':stethoscope:': '\\U0001fa7a', ':stop_button:': '⏹', ':stop_sign:': '🛑', ':stopwatch:': '⏱', ':straight_ruler:': '📏', ':strawberry:': '🍓', ':studio_microphone:': '🎙', ':stuffed_flatbread:': '🥙', ':sun:': '☀', ':sun_behind_cloud:': '⛅', ':sun_behind_large_cloud:': '🌥', ':sun_behind_rain_cloud:': '🌦', ':sun_behind_small_cloud:': '🌤', ':sun_with_face:': '🌞', ':sunflower:': '🌻', ':sunglasses:': '🕶', ':sunrise:': '🌅', ':sunrise_over_mountains:': '🌄', ':sunset:': '🌇', ':superhero:': '🦸', ':supervillain:': '🦹', ':sushi:': '🍣', ':suspension_railway:': '🚟', ':swan:': '🦢', ':sweat_droplets:': '💦', ':synagogue:': '🕍', ':syringe:': '💉', ':t-shirt:': '👕', ':taco:': '🌮', ':takeout_box:': '🥡', ':tanabata_tree:': '🎋', ':tangerine:': '🍊', ':taxi:': '🚕', ':teacup_without_handle:': '🍵', ':tear-off_calendar:': '📆', ':teddy_bear:': '🧸', ':telephone:': '☎', ':telephone_receiver:': '📞', ':telescope:': '🔭', ':television:': '📺', ':ten-thirty:': '🕥', ':ten_o’clock:': '🕙', ':tennis:': '🎾', ':tent:': '⛺', ':test_tube:': '🧪', ':thermometer:': '🌡', ':thinking_face:': '🤔', ':thought_balloon:': '💭', ':thread:': '🧵', ':three-thirty:': '🕞', ':three_o’clock:': '🕒', ':thumbs_down:': '👎', ':thumbs_down_dark_skin_tone:': '👎🏿', ':thumbs_down_light_skin_tone:': '👎🏻', ':thumbs_down_medium-dark_skin_tone:': '👎🏾', ':thumbs_down_medium-light_skin_tone:': '👎🏼', ':thumbs_down_medium_skin_tone:': '👎🏽', ':thumbs_up:': '👍', ':thumbs_up_dark_skin_tone:': '👍🏿', ':thumbs_up_light_skin_tone:': '👍🏻', ':thumbs_up_medium-dark_skin_tone:': '👍🏾', ':thumbs_up_medium-light_skin_tone:': '👍🏼', ':thumbs_up_medium_skin_tone:': '👍🏽', ':ticket:': '🎫', ':tiger:': '🐅', ':tiger_face:': '🐯', ':timer_clock:': '⏲', ':tired_face:': '😫', ':toolbox:': '🧰', ':toilet:': '🚽', ':tomato:': '🍅', ':tongue:': '👅', ':tooth:': '🦷', ':top_hat:': '🎩', ':tornado:': '🌪', ':trackball:': '🖲', ':tractor:': '🚜', ':trade_mark:': '™', ':train:': '🚆', ':tram:': '🚊', ':tram_car:': '🚋', ':triangular_flag:': '🚩', ':triangular_ruler:': '📐', ':trident_emblem:': '🔱', ':trolleybus:': '🚎', ':trophy:': '🏆', ':tropical_drink:': '🍹', ':tropical_fish:': '🐠', ':trumpet:': '🎺', ':tulip:': '🌷', ':tumbler_glass:': '🥃', ':turkey:': '🦃', ':turtle:': '🐢', ':twelve-thirty:': '🕧', ':twelve_o’clock:': '🕛', ':two-hump_camel:': '🐫', ':two-thirty:': '🕝', ':two_hearts:': '💕', ':two_men_holding_hands:': '👬', ':two_o’clock:': '🕑', ':two_women_holding_hands:': '👭', ':umbrella:': '☂', ':umbrella_on_ground:': '⛱', ':umbrella_with_rain_drops:': '☔', ':unamused_face:': '😒', ':unicorn_face:': '🦄', ':unlocked:': '🔓', ':up-down_arrow:': '↕', ':up-left_arrow:': '↖', ':up-right_arrow:': '↗', ':up_arrow:': '⬆', ':upside-down_face:': '🙃', ':upwards_button:': '🔼', ':vampire:': '🧛', ':vampire_dark_skin_tone:': '🧛🏿', ':vampire_light_skin_tone:': '🧛🏻', ':vampire_medium-dark_skin_tone:': '🧛🏾', ':vampire_medium-light_skin_tone:': '🧛🏼', ':vampire_medium_skin_tone:': '🧛🏽', ':vertical_traffic_light:': '🚦', ':vibration_mode:': '📳', ':victory_hand:': '✌', ':victory_hand_dark_skin_tone:': '✌🏿', ':victory_hand_light_skin_tone:': '✌🏻', ':victory_hand_medium-dark_skin_tone:': '✌🏾', ':victory_hand_medium-light_skin_tone:': '✌🏼', ':victory_hand_medium_skin_tone:': '✌🏽', ':video_camera:': '📹', ':video_game:': '🎮', ':videocassette:': '📼', ':violin:': '🎻', ':volcano:': '🌋', ':volleyball:': '🏐', ':vulcan_salute:': '🖖', ':vulcan_salute_dark_skin_tone:': '🖖🏿', ':vulcan_salute_light_skin_tone:': '🖖🏻', ':vulcan_salute_medium-dark_skin_tone:': '🖖🏾', ':vulcan_salute_medium-light_skin_tone:': '🖖🏼', ':vulcan_salute_medium_skin_tone:': '🖖🏽', ':waffle:': '\\U0001f9c7', ':waning_crescent_moon:': '🌘', ':waning_gibbous_moon:': '🌖', ':warning:': '⚠', ':wastebasket:': '🗑', ':watch:': '⌚', ':water_buffalo:': '🐃', ':water_closet:': '🚾', ':water_wave:': '🌊', ':watermelon:': '🍉', ':waving_hand:': '👋', ':waving_hand_dark_skin_tone:': '👋🏿', ':waving_hand_light_skin_tone:': '👋🏻', ':waving_hand_medium-dark_skin_tone:': '👋🏾', ':waving_hand_medium-light_skin_tone:': '👋🏼', ':waving_hand_medium_skin_tone:': '👋🏽', ':wavy_dash:': '〰', ':waxing_crescent_moon:': '🌒', ':waxing_gibbous_moon:': '🌔', ':weary_cat_face:': '🙀', ':weary_face:': '😩', ':wedding:': '💒', ':whale:': '🐋', ':wheel_of_dharma:': '☸', ':wheelchair_symbol:': '♿', ':white_circle:': '⚪', ':white_exclamation_mark:': '❕', ':white_flag:': '🏳', ':white_flower:': '💮', ':white_hair:': '🦳', ':white-haired_man:': '👨\\u200d🦳', ':white-haired_woman:': '👩\\u200d🦳', ':white_heart:': '\\U0001f90d', ':white_heavy_check_mark:': '✅', ':white_large_square:': '⬜', ':white_medium-small_square:': '◽', ':white_medium_square:': '◻', ':white_medium_star:': '⭐', ':white_question_mark:': '❔', ':white_small_square:': '▫', ':white_square_button:': '🔳', ':wilted_flower:': '🥀', ':wind_chime:': '🎐', ':wind_face:': '🌬', ':wine_glass:': '🍷', ':winking_face:': '😉', ':winking_face_with_tongue:': '😜', ':wolf_face:': '🐺', ':woman:': '👩', ':woman_artist:': '👩\\u200d🎨', ':woman_artist_dark_skin_tone:': '👩🏿\\u200d🎨', ':woman_artist_light_skin_tone:': '👩🏻\\u200d🎨', ':woman_artist_medium-dark_skin_tone:': '👩🏾\\u200d🎨', ':woman_artist_medium-light_skin_tone:': '👩🏼\\u200d🎨', ':woman_artist_medium_skin_tone:': '👩🏽\\u200d🎨', ':woman_astronaut:': '👩\\u200d🚀', ':woman_astronaut_dark_skin_tone:': '👩🏿\\u200d🚀', ':woman_astronaut_light_skin_tone:': '👩🏻\\u200d🚀', ':woman_astronaut_medium-dark_skin_tone:': '👩🏾\\u200d🚀', ':woman_astronaut_medium-light_skin_tone:': '👩🏼\\u200d🚀', ':woman_astronaut_medium_skin_tone:': '👩🏽\\u200d🚀', ':woman_biking:': '🚴\\u200d♀️', ':woman_biking_dark_skin_tone:': '🚴🏿\\u200d♀️', ':woman_biking_light_skin_tone:': '🚴🏻\\u200d♀️', ':woman_biking_medium-dark_skin_tone:': '🚴🏾\\u200d♀️', ':woman_biking_medium-light_skin_tone:': '🚴🏼\\u200d♀️', ':woman_biking_medium_skin_tone:': '🚴🏽\\u200d♀️', ':woman_bouncing_ball:': '⛹️\\u200d♀️', ':woman_bouncing_ball_dark_skin_tone:': '⛹🏿\\u200d♀️', ':woman_bouncing_ball_light_skin_tone:': '⛹🏻\\u200d♀️', ':woman_bouncing_ball_medium-dark_skin_tone:': '⛹🏾\\u200d♀️', ':woman_bouncing_ball_medium-light_skin_tone:': '⛹🏼\\u200d♀️', ':woman_bouncing_ball_medium_skin_tone:': '⛹🏽\\u200d♀️', ':woman_bowing:': '🙇\\u200d♀️', ':woman_bowing_dark_skin_tone:': '🙇🏿\\u200d♀️', ':woman_bowing_light_skin_tone:': '🙇🏻\\u200d♀️', ':woman_bowing_medium-dark_skin_tone:': '🙇🏾\\u200d♀️', ':woman_bowing_medium-light_skin_tone:': '🙇🏼\\u200d♀️', ':woman_bowing_medium_skin_tone:': '🙇🏽\\u200d♀️', ':woman_cartwheeling:': '🤸\\u200d♀️', ':woman_cartwheeling_dark_skin_tone:': '🤸🏿\\u200d♀️', ':woman_cartwheeling_light_skin_tone:': '🤸🏻\\u200d♀️', ':woman_cartwheeling_medium-dark_skin_tone:': '🤸🏾\\u200d♀️', ':woman_cartwheeling_medium-light_skin_tone:': '🤸🏼\\u200d♀️', ':woman_cartwheeling_medium_skin_tone:': '🤸🏽\\u200d♀️', ':woman_climbing:': '🧗\\u200d♀️', ':woman_climbing_dark_skin_tone:': '🧗🏿\\u200d♀️', ':woman_climbing_light_skin_tone:': '🧗🏻\\u200d♀️', ':woman_climbing_medium-dark_skin_tone:': '🧗🏾\\u200d♀️', ':woman_climbing_medium-light_skin_tone:': '🧗🏼\\u200d♀️', ':woman_climbing_medium_skin_tone:': '🧗🏽\\u200d♀️', ':woman_construction_worker:': '👷\\u200d♀️', ':woman_construction_worker_dark_skin_tone:': '👷🏿\\u200d♀️', ':woman_construction_worker_light_skin_tone:': '👷🏻\\u200d♀️', ':woman_construction_worker_medium-dark_skin_tone:': '👷🏾\\u200d♀️', ':woman_construction_worker_medium-light_skin_tone:': '👷🏼\\u200d♀️', ':woman_construction_worker_medium_skin_tone:': '👷🏽\\u200d♀️', ':woman_cook:': '👩\\u200d🍳', ':woman_cook_dark_skin_tone:': '👩🏿\\u200d🍳', ':woman_cook_light_skin_tone:': '👩🏻\\u200d🍳', ':woman_cook_medium-dark_skin_tone:': '👩🏾\\u200d🍳', ':woman_cook_medium-light_skin_tone:': '👩🏼\\u200d🍳', ':woman_cook_medium_skin_tone:': '👩🏽\\u200d🍳', ':woman_dancing:': '💃', ':woman_dancing_dark_skin_tone:': '💃🏿', ':woman_dancing_light_skin_tone:': '💃🏻', ':woman_dancing_medium-dark_skin_tone:': '💃🏾', ':woman_dancing_medium-light_skin_tone:': '💃🏼', ':woman_dancing_medium_skin_tone:': '💃🏽', ':woman_dark_skin_tone:': '👩🏿', ':woman_detective:': '🕵️\\u200d♀️', ':woman_detective_dark_skin_tone:': '🕵🏿\\u200d♀️', ':woman_detective_light_skin_tone:': '🕵🏻\\u200d♀️', ':woman_detective_medium-dark_skin_tone:': '🕵🏾\\u200d♀️', ':woman_detective_medium-light_skin_tone:': '🕵🏼\\u200d♀️', ':woman_detective_medium_skin_tone:': '🕵🏽\\u200d♀️', ':woman_elf:': '🧝\\u200d♀️', ':woman_elf_dark_skin_tone:': '🧝🏿\\u200d♀️', ':woman_elf_light_skin_tone:': '🧝🏻\\u200d♀️', ':woman_elf_medium-dark_skin_tone:': '🧝🏾\\u200d♀️', ':woman_elf_medium-light_skin_tone:': '🧝🏼\\u200d♀️', ':woman_elf_medium_skin_tone:': '🧝🏽\\u200d♀️', ':woman_facepalming:': '🤦\\u200d♀️', ':woman_facepalming_dark_skin_tone:': '🤦🏿\\u200d♀️', ':woman_facepalming_light_skin_tone:': '🤦🏻\\u200d♀️', ':woman_facepalming_medium-dark_skin_tone:': '🤦🏾\\u200d♀️', ':woman_facepalming_medium-light_skin_tone:': '🤦🏼\\u200d♀️', ':woman_facepalming_medium_skin_tone:': '🤦🏽\\u200d♀️', ':woman_factory_worker:': '👩\\u200d🏭', ':woman_factory_worker_dark_skin_tone:': '👩🏿\\u200d🏭', ':woman_factory_worker_light_skin_tone:': '👩🏻\\u200d🏭', ':woman_factory_worker_medium-dark_skin_tone:': '👩🏾\\u200d🏭', ':woman_factory_worker_medium-light_skin_tone:': '👩🏼\\u200d🏭', ':woman_factory_worker_medium_skin_tone:': '👩🏽\\u200d🏭', ':woman_fairy:': '🧚\\u200d♀️', ':woman_fairy_dark_skin_tone:': '🧚🏿\\u200d♀️', ':woman_fairy_light_skin_tone:': '🧚🏻\\u200d♀️', ':woman_fairy_medium-dark_skin_tone:': '🧚🏾\\u200d♀️', ':woman_fairy_medium-light_skin_tone:': '🧚🏼\\u200d♀️', ':woman_fairy_medium_skin_tone:': '🧚🏽\\u200d♀️', ':woman_farmer:': '👩\\u200d🌾', ':woman_farmer_dark_skin_tone:': '👩🏿\\u200d🌾', ':woman_farmer_light_skin_tone:': '👩🏻\\u200d🌾', ':woman_farmer_medium-dark_skin_tone:': '👩🏾\\u200d🌾', ':woman_farmer_medium-light_skin_tone:': '👩🏼\\u200d🌾', ':woman_farmer_medium_skin_tone:': '👩🏽\\u200d🌾', ':woman_firefighter:': '👩\\u200d🚒', ':woman_firefighter_dark_skin_tone:': '👩🏿\\u200d🚒', ':woman_firefighter_light_skin_tone:': '👩🏻\\u200d🚒', ':woman_firefighter_medium-dark_skin_tone:': '👩🏾\\u200d🚒', ':woman_firefighter_medium-light_skin_tone:': '👩🏼\\u200d🚒', ':woman_firefighter_medium_skin_tone:': '👩🏽\\u200d🚒', ':woman_frowning:': '🙍\\u200d♀️', ':woman_frowning_dark_skin_tone:': '🙍🏿\\u200d♀️', ':woman_frowning_light_skin_tone:': '🙍🏻\\u200d♀️', ':woman_frowning_medium-dark_skin_tone:': '🙍🏾\\u200d♀️', ':woman_frowning_medium-light_skin_tone:': '🙍🏼\\u200d♀️', ':woman_frowning_medium_skin_tone:': '🙍🏽\\u200d♀️', ':woman_genie:': '🧞\\u200d♀️', ':woman_gesturing_NO:': '🙅\\u200d♀️', ':woman_gesturing_NO_dark_skin_tone:': '🙅🏿\\u200d♀️', ':woman_gesturing_NO_light_skin_tone:': '🙅🏻\\u200d♀️', ':woman_gesturing_NO_medium-dark_skin_tone:': '🙅🏾\\u200d♀️', ':woman_gesturing_NO_medium-light_skin_tone:': '🙅🏼\\u200d♀️', ':woman_gesturing_NO_medium_skin_tone:': '🙅🏽\\u200d♀️', ':woman_gesturing_OK:': '🙆\\u200d♀️', ':woman_gesturing_OK_dark_skin_tone:': '🙆🏿\\u200d♀️', ':woman_gesturing_OK_light_skin_tone:': '🙆🏻\\u200d♀️', ':woman_gesturing_OK_medium-dark_skin_tone:': '🙆🏾\\u200d♀️', ':woman_gesturing_OK_medium-light_skin_tone:': '🙆🏼\\u200d♀️', ':woman_gesturing_OK_medium_skin_tone:': '🙆🏽\\u200d♀️', ':woman_getting_haircut:': '💇\\u200d♀️', ':woman_getting_haircut_dark_skin_tone:': '💇🏿\\u200d♀️', ':woman_getting_haircut_light_skin_tone:': '💇🏻\\u200d♀️', ':woman_getting_haircut_medium-dark_skin_tone:': '💇🏾\\u200d♀️', ':woman_getting_haircut_medium-light_skin_tone:': '💇🏼\\u200d♀️', ':woman_getting_haircut_medium_skin_tone:': '💇🏽\\u200d♀️', ':woman_getting_massage:': '💆\\u200d♀️', ':woman_getting_massage_dark_skin_tone:': '💆🏿\\u200d♀️', ':woman_getting_massage_light_skin_tone:': '💆🏻\\u200d♀️', ':woman_getting_massage_medium-dark_skin_tone:': '💆🏾\\u200d♀️', ':woman_getting_massage_medium-light_skin_tone:': '💆🏼\\u200d♀️', ':woman_getting_massage_medium_skin_tone:': '💆🏽\\u200d♀️', ':woman_golfing:': '🏌️\\u200d♀️', ':woman_golfing_dark_skin_tone:': '🏌🏿\\u200d♀️', ':woman_golfing_light_skin_tone:': '🏌🏻\\u200d♀️', ':woman_golfing_medium-dark_skin_tone:': '🏌🏾\\u200d♀️', ':woman_golfing_medium-light_skin_tone:': '🏌🏼\\u200d♀️', ':woman_golfing_medium_skin_tone:': '🏌🏽\\u200d♀️', ':woman_guard:': '💂\\u200d♀️', ':woman_guard_dark_skin_tone:': '💂🏿\\u200d♀️', ':woman_guard_light_skin_tone:': '💂🏻\\u200d♀️', ':woman_guard_medium-dark_skin_tone:': '💂🏾\\u200d♀️', ':woman_guard_medium-light_skin_tone:': '💂🏼\\u200d♀️', ':woman_guard_medium_skin_tone:': '💂🏽\\u200d♀️', ':woman_health_worker:': '👩\\u200d⚕️', ':woman_health_worker_dark_skin_tone:': '👩🏿\\u200d⚕️', ':woman_health_worker_light_skin_tone:': '👩🏻\\u200d⚕️', ':woman_health_worker_medium-dark_skin_tone:': '👩🏾\\u200d⚕️', ':woman_health_worker_medium-light_skin_tone:': '👩🏼\\u200d⚕️', ':woman_health_worker_medium_skin_tone:': '👩🏽\\u200d⚕️', ':woman_in_lotus_position:': '🧘\\u200d♀️', ':woman_in_lotus_position_dark_skin_tone:': '🧘🏿\\u200d♀️', ':woman_in_lotus_position_light_skin_tone:': '🧘🏻\\u200d♀️', ':woman_in_lotus_position_medium-dark_skin_tone:': '🧘🏾\\u200d♀️', ':woman_in_lotus_position_medium-light_skin_tone:': '🧘🏼\\u200d♀️', ':woman_in_lotus_position_medium_skin_tone:': '🧘🏽\\u200d♀️', ':woman_in_manual_wheelchair:': '👩\\u200d\\U0001f9bd', ':woman_in_motorized_wheelchair:': '👩\\u200d\\U0001f9bc', ':woman_in_steamy_room:': '🧖\\u200d♀️', ':woman_in_steamy_room_dark_skin_tone:': '🧖🏿\\u200d♀️', ':woman_in_steamy_room_light_skin_tone:': '🧖🏻\\u200d♀️', ':woman_in_steamy_room_medium-dark_skin_tone:': '🧖🏾\\u200d♀️', ':woman_in_steamy_room_medium-light_skin_tone:': '🧖🏼\\u200d♀️', ':woman_in_steamy_room_medium_skin_tone:': '🧖🏽\\u200d♀️', ':woman_judge:': '👩\\u200d⚖️', ':woman_judge_dark_skin_tone:': '👩🏿\\u200d⚖️', ':woman_judge_light_skin_tone:': '👩🏻\\u200d⚖️', ':woman_judge_medium-dark_skin_tone:': '👩🏾\\u200d⚖️', ':woman_judge_medium-light_skin_tone:': '👩🏼\\u200d⚖️', ':woman_judge_medium_skin_tone:': '👩🏽\\u200d⚖️', ':woman_juggling:': '🤹\\u200d♀️', ':woman_juggling_dark_skin_tone:': '🤹🏿\\u200d♀️', ':woman_juggling_light_skin_tone:': '🤹🏻\\u200d♀️', ':woman_juggling_medium-dark_skin_tone:': '🤹🏾\\u200d♀️', ':woman_juggling_medium-light_skin_tone:': '🤹🏼\\u200d♀️', ':woman_juggling_medium_skin_tone:': '🤹🏽\\u200d♀️', ':woman_lifting_weights:': '🏋️\\u200d♀️', ':woman_lifting_weights_dark_skin_tone:': '🏋🏿\\u200d♀️', ':woman_lifting_weights_light_skin_tone:': '🏋🏻\\u200d♀️', ':woman_lifting_weights_medium-dark_skin_tone:': '🏋🏾\\u200d♀️', ':woman_lifting_weights_medium-light_skin_tone:': '🏋🏼\\u200d♀️', ':woman_lifting_weights_medium_skin_tone:': '🏋🏽\\u200d♀️', ':woman_light_skin_tone:': '👩🏻', ':woman_mage:': '🧙\\u200d♀️', ':woman_mage_dark_skin_tone:': '🧙🏿\\u200d♀️', ':woman_mage_light_skin_tone:': '🧙🏻\\u200d♀️', ':woman_mage_medium-dark_skin_tone:': '🧙🏾\\u200d♀️', ':woman_mage_medium-light_skin_tone:': '🧙🏼\\u200d♀️', ':woman_mage_medium_skin_tone:': '🧙🏽\\u200d♀️', ':woman_mechanic:': '👩\\u200d🔧', ':woman_mechanic_dark_skin_tone:': '👩🏿\\u200d🔧', ':woman_mechanic_light_skin_tone:': '👩🏻\\u200d🔧', ':woman_mechanic_medium-dark_skin_tone:': '👩🏾\\u200d🔧', ':woman_mechanic_medium-light_skin_tone:': '👩🏼\\u200d🔧', ':woman_mechanic_medium_skin_tone:': '👩🏽\\u200d🔧', ':woman_medium-dark_skin_tone:': '👩🏾', ':woman_medium-light_skin_tone:': '👩🏼', ':woman_medium_skin_tone:': '👩🏽', ':woman_mountain_biking:': '🚵\\u200d♀️', ':woman_mountain_biking_dark_skin_tone:': '🚵🏿\\u200d♀️', ':woman_mountain_biking_light_skin_tone:': '🚵🏻\\u200d♀️', ':woman_mountain_biking_medium-dark_skin_tone:': '🚵🏾\\u200d♀️', ':woman_mountain_biking_medium-light_skin_tone:': '🚵🏼\\u200d♀️', ':woman_mountain_biking_medium_skin_tone:': '🚵🏽\\u200d♀️', ':woman_office_worker:': '👩\\u200d💼', ':woman_office_worker_dark_skin_tone:': '👩🏿\\u200d💼', ':woman_office_worker_light_skin_tone:': '👩🏻\\u200d💼', ':woman_office_worker_medium-dark_skin_tone:': '👩🏾\\u200d💼', ':woman_office_worker_medium-light_skin_tone:': '👩🏼\\u200d💼', ':woman_office_worker_medium_skin_tone:': '👩🏽\\u200d💼', ':woman_pilot:': '👩\\u200d✈️', ':woman_pilot_dark_skin_tone:': '👩🏿\\u200d✈️', ':woman_pilot_light_skin_tone:': '👩🏻\\u200d✈️', ':woman_pilot_medium-dark_skin_tone:': '👩🏾\\u200d✈️', ':woman_pilot_medium-light_skin_tone:': '👩🏼\\u200d✈️', ':woman_pilot_medium_skin_tone:': '👩🏽\\u200d✈️', ':woman_playing_handball:': '🤾\\u200d♀️', ':woman_playing_handball_dark_skin_tone:': '🤾🏿\\u200d♀️', ':woman_playing_handball_light_skin_tone:': '🤾🏻\\u200d♀️', ':woman_playing_handball_medium-dark_skin_tone:': '🤾🏾\\u200d♀️', ':woman_playing_handball_medium-light_skin_tone:': '🤾🏼\\u200d♀️', ':woman_playing_handball_medium_skin_tone:': '🤾🏽\\u200d♀️', ':woman_playing_water_polo:': '🤽\\u200d♀️', ':woman_playing_water_polo_dark_skin_tone:': '🤽🏿\\u200d♀️', ':woman_playing_water_polo_light_skin_tone:': '🤽🏻\\u200d♀️', ':woman_playing_water_polo_medium-dark_skin_tone:': '🤽🏾\\u200d♀️', ':woman_playing_water_polo_medium-light_skin_tone:': '🤽🏼\\u200d♀️', ':woman_playing_water_polo_medium_skin_tone:': '🤽🏽\\u200d♀️', ':woman_police_officer:': '👮\\u200d♀️', ':woman_police_officer_dark_skin_tone:': '👮🏿\\u200d♀️', ':woman_police_officer_light_skin_tone:': '👮🏻\\u200d♀️', ':woman_police_officer_medium-dark_skin_tone:': '👮🏾\\u200d♀️', ':woman_police_officer_medium-light_skin_tone:': '👮🏼\\u200d♀️', ':woman_police_officer_medium_skin_tone:': '👮🏽\\u200d♀️', ':woman_pouting:': '🙎\\u200d♀️', ':woman_pouting_dark_skin_tone:': '🙎🏿\\u200d♀️', ':woman_pouting_light_skin_tone:': '🙎🏻\\u200d♀️', ':woman_pouting_medium-dark_skin_tone:': '🙎🏾\\u200d♀️', ':woman_pouting_medium-light_skin_tone:': '🙎🏼\\u200d♀️', ':woman_pouting_medium_skin_tone:': '🙎🏽\\u200d♀️', ':woman_raising_hand:': '🙋\\u200d♀️', ':woman_raising_hand_dark_skin_tone:': '🙋🏿\\u200d♀️', ':woman_raising_hand_light_skin_tone:': '🙋🏻\\u200d♀️', ':woman_raising_hand_medium-dark_skin_tone:': '🙋🏾\\u200d♀️', ':woman_raising_hand_medium-light_skin_tone:': '🙋🏼\\u200d♀️', ':woman_raising_hand_medium_skin_tone:': '🙋🏽\\u200d♀️', ':woman_rowing_boat:': '🚣\\u200d♀️', ':woman_rowing_boat_dark_skin_tone:': '🚣🏿\\u200d♀️', ':woman_rowing_boat_light_skin_tone:': '🚣🏻\\u200d♀️', ':woman_rowing_boat_medium-dark_skin_tone:': '🚣🏾\\u200d♀️', ':woman_rowing_boat_medium-light_skin_tone:': '🚣🏼\\u200d♀️', ':woman_rowing_boat_medium_skin_tone:': '🚣🏽\\u200d♀️', ':woman_running:': '🏃\\u200d♀️', ':woman_running_dark_skin_tone:': '🏃🏿\\u200d♀️', ':woman_running_light_skin_tone:': '🏃🏻\\u200d♀️', ':woman_running_medium-dark_skin_tone:': '🏃🏾\\u200d♀️', ':woman_running_medium-light_skin_tone:': '🏃🏼\\u200d♀️', ':woman_running_medium_skin_tone:': '🏃🏽\\u200d♀️', ':woman_scientist:': '👩\\u200d🔬', ':woman_scientist_dark_skin_tone:': '👩🏿\\u200d🔬', ':woman_scientist_light_skin_tone:': '👩🏻\\u200d🔬', ':woman_scientist_medium-dark_skin_tone:': '👩🏾\\u200d🔬', ':woman_scientist_medium-light_skin_tone:': '👩🏼\\u200d🔬', ':woman_scientist_medium_skin_tone:': '👩🏽\\u200d🔬', ':woman_shrugging:': '🤷\\u200d♀️', ':woman_shrugging_dark_skin_tone:': '🤷🏿\\u200d♀️', ':woman_shrugging_light_skin_tone:': '🤷🏻\\u200d♀️', ':woman_shrugging_medium-dark_skin_tone:': '🤷🏾\\u200d♀️', ':woman_shrugging_medium-light_skin_tone:': '🤷🏼\\u200d♀️', ':woman_shrugging_medium_skin_tone:': '🤷🏽\\u200d♀️', ':woman_singer:': '👩\\u200d🎤', ':woman_singer_dark_skin_tone:': '👩🏿\\u200d🎤', ':woman_singer_light_skin_tone:': '👩🏻\\u200d🎤', ':woman_singer_medium-dark_skin_tone:': '👩🏾\\u200d🎤', ':woman_singer_medium-light_skin_tone:': '👩🏼\\u200d🎤', ':woman_singer_medium_skin_tone:': '👩🏽\\u200d🎤', ':woman_student:': '👩\\u200d🎓', ':woman_student_dark_skin_tone:': '👩🏿\\u200d🎓', ':woman_student_light_skin_tone:': '👩🏻\\u200d🎓', ':woman_student_medium-dark_skin_tone:': '👩🏾\\u200d🎓', ':woman_student_medium-light_skin_tone:': '👩🏼\\u200d🎓', ':woman_student_medium_skin_tone:': '👩🏽\\u200d🎓', ':woman_surfing:': '🏄\\u200d♀️', ':woman_surfing_dark_skin_tone:': '🏄🏿\\u200d♀️', ':woman_surfing_light_skin_tone:': '🏄🏻\\u200d♀️', ':woman_surfing_medium-dark_skin_tone:': '🏄🏾\\u200d♀️', ':woman_surfing_medium-light_skin_tone:': '🏄🏼\\u200d♀️', ':woman_surfing_medium_skin_tone:': '🏄🏽\\u200d♀️', ':woman_swimming:': '🏊\\u200d♀️', ':woman_swimming_dark_skin_tone:': '🏊🏿\\u200d♀️', ':woman_swimming_light_skin_tone:': '🏊🏻\\u200d♀️', ':woman_swimming_medium-dark_skin_tone:': '🏊🏾\\u200d♀️', ':woman_swimming_medium-light_skin_tone:': '🏊🏼\\u200d♀️', ':woman_swimming_medium_skin_tone:': '🏊🏽\\u200d♀️', ':woman_teacher:': '👩\\u200d🏫', ':woman_teacher_dark_skin_tone:': '👩🏿\\u200d🏫', ':woman_teacher_light_skin_tone:': '👩🏻\\u200d🏫', ':woman_teacher_medium-dark_skin_tone:': '👩🏾\\u200d🏫', ':woman_teacher_medium-light_skin_tone:': '👩🏼\\u200d🏫', ':woman_teacher_medium_skin_tone:': '👩🏽\\u200d🏫', ':woman_technologist:': '👩\\u200d💻', ':woman_technologist_dark_skin_tone:': '👩🏿\\u200d💻', ':woman_technologist_light_skin_tone:': '👩🏻\\u200d💻', ':woman_technologist_medium-dark_skin_tone:': '👩🏾\\u200d💻', ':woman_technologist_medium-light_skin_tone:': '👩🏼\\u200d💻', ':woman_technologist_medium_skin_tone:': '👩🏽\\u200d💻', ':woman_tipping_hand:': '💁\\u200d♀️', ':woman_tipping_hand_dark_skin_tone:': '💁🏿\\u200d♀️', ':woman_tipping_hand_light_skin_tone:': '💁🏻\\u200d♀️', ':woman_tipping_hand_medium-dark_skin_tone:': '💁🏾\\u200d♀️', ':woman_tipping_hand_medium-light_skin_tone:': '💁🏼\\u200d♀️', ':woman_tipping_hand_medium_skin_tone:': '💁🏽\\u200d♀️', ':woman_vampire:': '🧛\\u200d♀️', ':woman_vampire_dark_skin_tone:': '🧛🏿\\u200d♀️', ':woman_vampire_light_skin_tone:': '🧛🏻\\u200d♀️', ':woman_vampire_medium-dark_skin_tone:': '🧛🏾\\u200d♀️', ':woman_vampire_medium-light_skin_tone:': '🧛🏼\\u200d♀️', ':woman_vampire_medium_skin_tone:': '🧛🏽\\u200d♀️', ':woman_walking:': '🚶\\u200d♀️', ':woman_walking_dark_skin_tone:': '🚶🏿\\u200d♀️', ':woman_walking_light_skin_tone:': '🚶🏻\\u200d♀️', ':woman_walking_medium-dark_skin_tone:': '🚶🏾\\u200d♀️', ':woman_walking_medium-light_skin_tone:': '🚶🏼\\u200d♀️', ':woman_walking_medium_skin_tone:': '🚶🏽\\u200d♀️', ':woman_wearing_turban:': '👳\\u200d♀️', ':woman_wearing_turban_dark_skin_tone:': '👳🏿\\u200d♀️', ':woman_wearing_turban_light_skin_tone:': '👳🏻\\u200d♀️', ':woman_wearing_turban_medium-dark_skin_tone:': '👳🏾\\u200d♀️', ':woman_wearing_turban_medium-light_skin_tone:': '👳🏼\\u200d♀️', ':woman_wearing_turban_medium_skin_tone:': '👳🏽\\u200d♀️', ':woman_with_headscarf:': '🧕', ':woman_with_headscarf_dark_skin_tone:': '🧕🏿', ':woman_with_headscarf_light_skin_tone:': '🧕🏻', ':woman_with_headscarf_medium-dark_skin_tone:': '🧕🏾', ':woman_with_headscarf_medium-light_skin_tone:': '🧕🏼', ':woman_with_headscarf_medium_skin_tone:': '🧕🏽', ':woman_with_probing_cane:': '👩\\u200d\\U0001f9af', ':woman_zombie:': '🧟\\u200d♀️', ':woman’s_boot:': '👢', ':woman’s_clothes:': '👚', ':woman’s_hat:': '👒', ':woman’s_sandal:': '👡', ':women_with_bunny_ears:': '👯\\u200d♀️', ':women_wrestling:': '🤼\\u200d♀️', ':women’s_room:': '🚺', ':woozy_face:': '🥴', ':world_map:': '🗺', ':worried_face:': '😟', ':wrapped_gift:': '🎁', ':wrench:': '🔧', ':writing_hand:': '✍', ':writing_hand_dark_skin_tone:': '✍🏿', ':writing_hand_light_skin_tone:': '✍🏻', ':writing_hand_medium-dark_skin_tone:': '✍🏾', ':writing_hand_medium-light_skin_tone:': '✍🏼', ':writing_hand_medium_skin_tone:': '✍🏽', ':yarn:': '🧶', ':yawning_face:': '\\U0001f971', ':yellow_circle:': '\\U0001f7e1', ':yellow_heart:': '💛', ':yellow_square:': '\\U0001f7e8', ':yen_banknote:': '💴', ':yo-yo:': '\\U0001fa80', ':yin_yang:': '☯', ':zany_face:': '🤪', ':zebra:': '🦓', ':zipper-mouth_face:': '🤐', ':zombie:': '🧟', ':zzz:': '💤', ':Åland_Islands:': '🇦🇽', ':keycap_asterisk:': '*⃣', ':keycap_digit_eight:': '8⃣', ':keycap_digit_five:': '5⃣', ':keycap_digit_four:': '4⃣', ':keycap_digit_nine:': '9⃣', ':keycap_digit_one:': '1⃣', ':keycap_digit_seven:': '7⃣', ':keycap_digit_six:': '6⃣', ':keycap_digit_three:': '3⃣', ':keycap_digit_two:': '2⃣', ':keycap_digit_zero:': '0⃣', ':keycap_number_sign:': '#⃣', ':light_skin_tone:': '🏻', ':medium_light_skin_tone:': '🏼', ':medium_skin_tone:': '🏽', ':medium_dark_skin_tone:': '🏾', ':dark_skin_tone:': '🏿', ':regional_indicator_symbol_letter_a:': '🇦', ':regional_indicator_symbol_letter_b:': '🇧', ':regional_indicator_symbol_letter_c:': '🇨', ':regional_indicator_symbol_letter_d:': '🇩', ':regional_indicator_symbol_letter_e:': '🇪', ':regional_indicator_symbol_letter_f:': '🇫', ':regional_indicator_symbol_letter_g:': '🇬', ':regional_indicator_symbol_letter_h:': '🇭', ':regional_indicator_symbol_letter_i:': '🇮', ':regional_indicator_symbol_letter_j:': '🇯', ':regional_indicator_symbol_letter_k:': '🇰', ':regional_indicator_symbol_letter_l:': '🇱', ':regional_indicator_symbol_letter_m:': '🇲', ':regional_indicator_symbol_letter_n:': '🇳', ':regional_indicator_symbol_letter_o:': '🇴', ':regional_indicator_symbol_letter_p:': '🇵', ':regional_indicator_symbol_letter_q:': '🇶', ':regional_indicator_symbol_letter_r:': '🇷', ':regional_indicator_symbol_letter_s:': '🇸', ':regional_indicator_symbol_letter_t:': '🇹', ':regional_indicator_symbol_letter_u:': '🇺', ':regional_indicator_symbol_letter_v:': '🇻', ':regional_indicator_symbol_letter_w:': '🇼', ':regional_indicator_symbol_letter_x:': '🇽', ':regional_indicator_symbol_letter_y:': '🇾', ':regional_indicator_symbol_letter_z:': '🇿'}\n"
     ]
    }
   ],
   "source": [
    "import emoji\n",
    "print(emoji.EMOJI_UNICODE)"
   ]
  },
  {
   "cell_type": "code",
   "execution_count": 49,
   "metadata": {},
   "outputs": [],
   "source": [
    "emoji_dictionary = {\"0\" : \":winking_face_with_tongue:\",\n",
    "                    \"1\" : \":camera_with_flash:\",\n",
    "                    \"2\" : \":smiling_face_with_heart-eyes:\",\n",
    "                    \"3\" : \":face_with_tears_of_joy:\",\n",
    "                    \"4\" : \":winking_face:\",\n",
    "                    \"5\" : \":Christmas_tree:\",\n",
    "                    \"6\" : \":camera:\",\n",
    "                    \"7\" : \":fire:\",\n",
    "                    \"8\" : \":face_blowing_a_kiss:\",\n",
    "                    \"9\" : \":black_heart:\",\n",
    "                    \"10\" : \":beaming_face_with_smiling_eyes:\",\n",
    "                    \"11\" : \":United_States:\",\n",
    "                    \"12\" : \":sun:\",\n",
    "                    \"13\" : \":sparkles:\",\n",
    "                    \"14\" : \":blue_heart:\",\n",
    "                    \"15\" : \":two_hearts:\",\n",
    "                    \"16\" : \":smiling_face_with_sunglasses:\",\n",
    "                    \"17\" : \":smiling_face_with_smiling_eyes:\",\n",
    "                    \"18\" : \":purple_heart:\",\n",
    "                    \"19\" : \":hundred_points:\"\n",
    "                   }"
   ]
  },
  {
   "cell_type": "code",
   "execution_count": 50,
   "metadata": {},
   "outputs": [
    {
     "data": {
      "text/plain": [
       "'😘'"
      ]
     },
     "execution_count": 50,
     "metadata": {},
     "output_type": "execute_result"
    }
   ],
   "source": [
    "emoji.emojize(\":face_blowing_a_kiss:\")"
   ]
  },
  {
   "cell_type": "code",
   "execution_count": 51,
   "metadata": {},
   "outputs": [
    {
     "name": "stdout",
     "output_type": "stream",
     "text": [
      "😜\n",
      "📸\n",
      "😍\n",
      "😂\n",
      "😉\n",
      "🎄\n",
      "📷\n",
      "🔥\n",
      "😘\n",
      "🖤\n",
      "😁\n",
      "🇺🇸\n",
      "☀\n",
      "✨\n",
      "💙\n",
      "💕\n",
      "😎\n",
      "😊\n",
      "💜\n",
      "💯\n"
     ]
    }
   ],
   "source": [
    "for e in emoji_dictionary.values():\n",
    "    print(emoji.emojize(e))"
   ]
  },
  {
   "cell_type": "code",
   "execution_count": 52,
   "metadata": {},
   "outputs": [],
   "source": [
    "import pandas as pd\n",
    "import numpy as np"
   ]
  },
  {
   "cell_type": "code",
   "execution_count": 99,
   "metadata": {},
   "outputs": [],
   "source": [
    "train = pd.read_csv('train_emoji.csv',header=None)\n",
    "test = pd.read_csv('test_emoji.csv',header=None)"
   ]
  },
  {
   "cell_type": "code",
   "execution_count": 100,
   "metadata": {},
   "outputs": [
    {
     "data": {
      "text/html": [
       "<div>\n",
       "<style scoped>\n",
       "    .dataframe tbody tr th:only-of-type {\n",
       "        vertical-align: middle;\n",
       "    }\n",
       "\n",
       "    .dataframe tbody tr th {\n",
       "        vertical-align: top;\n",
       "    }\n",
       "\n",
       "    .dataframe thead th {\n",
       "        text-align: right;\n",
       "    }\n",
       "</style>\n",
       "<table border=\"1\" class=\"dataframe\">\n",
       "  <thead>\n",
       "    <tr style=\"text-align: right;\">\n",
       "      <th></th>\n",
       "      <th>0</th>\n",
       "      <th>1</th>\n",
       "      <th>2</th>\n",
       "      <th>3</th>\n",
       "      <th>4</th>\n",
       "      <th>5</th>\n",
       "      <th>6</th>\n",
       "    </tr>\n",
       "  </thead>\n",
       "  <tbody>\n",
       "    <tr>\n",
       "      <td>0</td>\n",
       "      <td>Vacation wasted ! #vacation2017 #photobomb #ti...</td>\n",
       "      <td>0</td>\n",
       "      <td>NaN</td>\n",
       "      <td>NaN</td>\n",
       "      <td>NaN</td>\n",
       "      <td>NaN</td>\n",
       "      <td>NaN</td>\n",
       "    </tr>\n",
       "    <tr>\n",
       "      <td>1</td>\n",
       "      <td>Oh Wynwood, you’re so funny! : @user #Wynwood ...</td>\n",
       "      <td>1</td>\n",
       "      <td>NaN</td>\n",
       "      <td>NaN</td>\n",
       "      <td>NaN</td>\n",
       "      <td>NaN</td>\n",
       "      <td>NaN</td>\n",
       "    </tr>\n",
       "    <tr>\n",
       "      <td>2</td>\n",
       "      <td>Been friends since 7th grade. Look at us now w...</td>\n",
       "      <td>2</td>\n",
       "      <td>NaN</td>\n",
       "      <td>NaN</td>\n",
       "      <td>NaN</td>\n",
       "      <td>NaN</td>\n",
       "      <td>NaN</td>\n",
       "    </tr>\n",
       "    <tr>\n",
       "      <td>3</td>\n",
       "      <td>This is what it looks like when someone loves ...</td>\n",
       "      <td>3</td>\n",
       "      <td>NaN</td>\n",
       "      <td>NaN</td>\n",
       "      <td>NaN</td>\n",
       "      <td>NaN</td>\n",
       "      <td>NaN</td>\n",
       "    </tr>\n",
       "    <tr>\n",
       "      <td>4</td>\n",
       "      <td>RT @user this white family was invited to a Bl...</td>\n",
       "      <td>3</td>\n",
       "      <td>NaN</td>\n",
       "      <td>NaN</td>\n",
       "      <td>NaN</td>\n",
       "      <td>NaN</td>\n",
       "      <td>NaN</td>\n",
       "    </tr>\n",
       "  </tbody>\n",
       "</table>\n",
       "</div>"
      ],
      "text/plain": [
       "                                                   0  1   2   3   4   5   6\n",
       "0  Vacation wasted ! #vacation2017 #photobomb #ti...  0 NaN NaN NaN NaN NaN\n",
       "1  Oh Wynwood, you’re so funny! : @user #Wynwood ...  1 NaN NaN NaN NaN NaN\n",
       "2  Been friends since 7th grade. Look at us now w...  2 NaN NaN NaN NaN NaN\n",
       "3  This is what it looks like when someone loves ...  3 NaN NaN NaN NaN NaN\n",
       "4  RT @user this white family was invited to a Bl...  3 NaN NaN NaN NaN NaN"
      ]
     },
     "execution_count": 100,
     "metadata": {},
     "output_type": "execute_result"
    }
   ],
   "source": [
    "train.head()"
   ]
  },
  {
   "cell_type": "code",
   "execution_count": 101,
   "metadata": {
    "scrolled": true
   },
   "outputs": [
    {
     "data": {
      "text/html": [
       "<div>\n",
       "<style scoped>\n",
       "    .dataframe tbody tr th:only-of-type {\n",
       "        vertical-align: middle;\n",
       "    }\n",
       "\n",
       "    .dataframe tbody tr th {\n",
       "        vertical-align: top;\n",
       "    }\n",
       "\n",
       "    .dataframe thead th {\n",
       "        text-align: right;\n",
       "    }\n",
       "</style>\n",
       "<table border=\"1\" class=\"dataframe\">\n",
       "  <thead>\n",
       "    <tr style=\"text-align: right;\">\n",
       "      <th></th>\n",
       "      <th>0</th>\n",
       "      <th>1</th>\n",
       "      <th>2</th>\n",
       "      <th>3</th>\n",
       "      <th>4</th>\n",
       "      <th>5</th>\n",
       "      <th>6</th>\n",
       "    </tr>\n",
       "  </thead>\n",
       "  <tbody>\n",
       "    <tr>\n",
       "      <td>0</td>\n",
       "      <td>Let’s be kind today ️.It costs nothing!...#bek...</td>\n",
       "      <td>9</td>\n",
       "      <td>NaN</td>\n",
       "      <td>NaN</td>\n",
       "      <td>NaN</td>\n",
       "      <td>NaN</td>\n",
       "      <td>NaN</td>\n",
       "    </tr>\n",
       "    <tr>\n",
       "      <td>1</td>\n",
       "      <td>Join me this Saturday in the #Midtown/#Downtow...</td>\n",
       "      <td>7</td>\n",
       "      <td>NaN</td>\n",
       "      <td>NaN</td>\n",
       "      <td>NaN</td>\n",
       "      <td>NaN</td>\n",
       "      <td>NaN</td>\n",
       "    </tr>\n",
       "    <tr>\n",
       "      <td>2</td>\n",
       "      <td>Another fun weekend in the books. Thanks, ladi...</td>\n",
       "      <td>8</td>\n",
       "      <td>NaN</td>\n",
       "      <td>NaN</td>\n",
       "      <td>NaN</td>\n",
       "      <td>NaN</td>\n",
       "      <td>NaN</td>\n",
       "    </tr>\n",
       "    <tr>\n",
       "      <td>3</td>\n",
       "      <td>She's my favorite little dweeb @ Clarksville E...</td>\n",
       "      <td>9</td>\n",
       "      <td>NaN</td>\n",
       "      <td>NaN</td>\n",
       "      <td>NaN</td>\n",
       "      <td>NaN</td>\n",
       "      <td>NaN</td>\n",
       "    </tr>\n",
       "    <tr>\n",
       "      <td>4</td>\n",
       "      <td>Hipster life #starbucks @ New Hope–Lambertvill...</td>\n",
       "      <td>3</td>\n",
       "      <td>NaN</td>\n",
       "      <td>NaN</td>\n",
       "      <td>NaN</td>\n",
       "      <td>NaN</td>\n",
       "      <td>NaN</td>\n",
       "    </tr>\n",
       "  </tbody>\n",
       "</table>\n",
       "</div>"
      ],
      "text/plain": [
       "                                                   0  1   2   3   4   5   6\n",
       "0  Let’s be kind today ️.It costs nothing!...#bek...  9 NaN NaN NaN NaN NaN\n",
       "1  Join me this Saturday in the #Midtown/#Downtow...  7 NaN NaN NaN NaN NaN\n",
       "2  Another fun weekend in the books. Thanks, ladi...  8 NaN NaN NaN NaN NaN\n",
       "3  She's my favorite little dweeb @ Clarksville E...  9 NaN NaN NaN NaN NaN\n",
       "4  Hipster life #starbucks @ New Hope–Lambertvill...  3 NaN NaN NaN NaN NaN"
      ]
     },
     "execution_count": 101,
     "metadata": {},
     "output_type": "execute_result"
    }
   ],
   "source": [
    "test.head()"
   ]
  },
  {
   "cell_type": "code",
   "execution_count": 102,
   "metadata": {},
   "outputs": [
    {
     "name": "stdout",
     "output_type": "stream",
     "text": [
      "(51643, 7)\n"
     ]
    }
   ],
   "source": [
    "data = train.values\n",
    "print(data.shape)"
   ]
  },
  {
   "cell_type": "code",
   "execution_count": 103,
   "metadata": {},
   "outputs": [],
   "source": [
    "X_train = np.asarray(train[0])\n",
    "Y_train = np.asarray(train[1])\n",
    "X_test = np.asarray(test[0]) \n",
    "Y_test = np.asarray(test[1])"
   ]
  },
  {
   "cell_type": "code",
   "execution_count": 104,
   "metadata": {},
   "outputs": [
    {
     "name": "stdout",
     "output_type": "stream",
     "text": [
      "['Vacation wasted ! #vacation2017 #photobomb #tired #vacationwasted #mcgar30 #miami @ Port of…'\n",
      " 'Oh Wynwood, you’re so funny! : @user #Wynwood #Art #ItWas3AM #Flowers #Vibes @ Wynwood…'\n",
      " 'Been friends since 7th grade. Look at us now we all following our dreams doing what we love and…'\n",
      " ...\n",
      " 'Churrasco con papistas. Dinner with my favorite person, my wife. #datenight #sandiegofoodie @user\\n'\n",
      " \"Don't forget to nominate your Igniter of the week! The time is now, who, why, and tag us…\\n\"\n",
      " 'Saturday night out with this handsome #Santana #theobservatory @ The Observatory Orange County\\n']\n"
     ]
    }
   ],
   "source": [
    "print(X_train)"
   ]
  },
  {
   "cell_type": "code",
   "execution_count": 105,
   "metadata": {},
   "outputs": [
    {
     "name": "stdout",
     "output_type": "stream",
     "text": [
      "Vacation wasted ! #vacation2017 #photobomb #tired #vacationwasted #mcgar30 #miami @ Port of… 0\n",
      "Oh Wynwood, you’re so funny! : @user #Wynwood #Art #ItWas3AM #Flowers #Vibes @ Wynwood… 1\n",
      "Been friends since 7th grade. Look at us now we all following our dreams doing what we love and… 2\n",
      "This is what it looks like when someone loves you unconditionally oh Puppy Brother. #htx…\n",
      " 3\n",
      "RT @user this white family was invited to a Black barbecue and i've never laughed so hard in my life\n",
      " 3\n"
     ]
    }
   ],
   "source": [
    "for i in range(5):\n",
    "    print(X_train[i],Y_train[i])"
   ]
  },
  {
   "cell_type": "code",
   "execution_count": 106,
   "metadata": {},
   "outputs": [
    {
     "name": "stdout",
     "output_type": "stream",
     "text": [
      "0\n"
     ]
    }
   ],
   "source": [
    "print(Y_train[0])"
   ]
  },
  {
   "cell_type": "code",
   "execution_count": 107,
   "metadata": {},
   "outputs": [
    {
     "name": "stdout",
     "output_type": "stream",
     "text": [
      "Vacation wasted ! #vacation2017 #photobomb #tired #vacationwasted #mcgar30 #miami @ Port of…\n"
     ]
    }
   ],
   "source": [
    "print(X_train[0])"
   ]
  },
  {
   "cell_type": "code",
   "execution_count": 108,
   "metadata": {},
   "outputs": [
    {
     "name": "stdout",
     "output_type": "stream",
     "text": [
      "Vacation wasted ! #vacation2017 #photobomb #tired #vacationwasted #mcgar30 #miami @ Port of… 😜\n",
      "Oh Wynwood, you’re so funny! : @user #Wynwood #Art #ItWas3AM #Flowers #Vibes @ Wynwood… 📸\n",
      "Been friends since 7th grade. Look at us now we all following our dreams doing what we love and… 😍\n",
      "This is what it looks like when someone loves you unconditionally oh Puppy Brother. #htx…\n",
      " 😂\n",
      "RT @user this white family was invited to a Black barbecue and i've never laughed so hard in my life\n",
      " 😂\n"
     ]
    }
   ],
   "source": [
    "for i in range(5):\n",
    "    print(X_train[i],emoji.emojize(emoji_dictionary[str(Y_train[i])]))"
   ]
  },
  {
   "cell_type": "code",
   "execution_count": 109,
   "metadata": {},
   "outputs": [
    {
     "name": "stdout",
     "output_type": "stream",
     "text": [
      "nan 40455\n",
      "nan 40456\n",
      "nan 40457\n",
      " New York 40458\n",
      " Alabama 40459\n",
      "nan 40460\n",
      "nan 40461\n"
     ]
    }
   ],
   "source": [
    "for i,j in enumerate(Y_train):\n",
    "    if j not in emoji_dictionary:\n",
    "        print(j,i)\n",
    "#         X_train=np.delete(X_train,i)"
   ]
  },
  {
   "cell_type": "code",
   "execution_count": 110,
   "metadata": {},
   "outputs": [],
   "source": [
    "remove = [0, 40455, 40456, 40457, 40458, 40459, 40460, 40461]\n",
    "Y_train = np.delete(Y_train,remove)\n",
    "X_train = np.delete(X_train,remove)"
   ]
  },
  {
   "cell_type": "code",
   "execution_count": 111,
   "metadata": {},
   "outputs": [
    {
     "name": "stdout",
     "output_type": "stream",
     "text": [
      "1\n"
     ]
    }
   ],
   "source": [
    "print(Y_train[0])"
   ]
  },
  {
   "cell_type": "code",
   "execution_count": 112,
   "metadata": {},
   "outputs": [
    {
     "name": "stderr",
     "output_type": "stream",
     "text": [
      "[nltk_data] Downloading package punkt to\n",
      "[nltk_data]     /Users/raghavjindal/nltk_data...\n",
      "[nltk_data]   Package punkt is already up-to-date!\n"
     ]
    }
   ],
   "source": [
    "#import fastText\n",
    "import sys\n",
    "import os\n",
    "import nltk\n",
    "nltk.download('punkt')\n",
    "import csv\n",
    "import datetime\n",
    "from bs4 import BeautifulSoup\n",
    "import re\n",
    "import itertools\n",
    "import emoji\n",
    "\n",
    "\n",
    "#####################################################################################\n",
    "#\n",
    "# DATA CLEANING\n",
    "#\n",
    "#####################################################################################\n",
    "\n",
    "# emoticons\n",
    "def load_dict_smileys():\n",
    "    \n",
    "    return {\n",
    "        \":‑)\":\"smiley\",\n",
    "        \":-]\":\"smiley\",\n",
    "        \":-3\":\"smiley\",\n",
    "        \":->\":\"smiley\",\n",
    "        \"8-)\":\"smiley\",\n",
    "        \":-}\":\"smiley\",\n",
    "        \":)\":\"smiley\",\n",
    "        \":]\":\"smiley\",\n",
    "        \":3\":\"smiley\",\n",
    "        \":>\":\"smiley\",\n",
    "        \"8)\":\"smiley\",\n",
    "        \":}\":\"smiley\",\n",
    "        \":o)\":\"smiley\",\n",
    "        \":c)\":\"smiley\",\n",
    "        \":^)\":\"smiley\",\n",
    "        \"=]\":\"smiley\",\n",
    "        \"=)\":\"smiley\",\n",
    "        \":-))\":\"smiley\",\n",
    "        \":‑D\":\"smiley\",\n",
    "        \"8‑D\":\"smiley\",\n",
    "        \"x‑D\":\"smiley\",\n",
    "        \"X‑D\":\"smiley\",\n",
    "        \":D\":\"smiley\",\n",
    "        \"8D\":\"smiley\",\n",
    "        \"xD\":\"smiley\",\n",
    "        \"XD\":\"smiley\",\n",
    "        \":‑(\":\"sad\",\n",
    "        \":‑c\":\"sad\",\n",
    "        \":‑<\":\"sad\",\n",
    "        \":‑[\":\"sad\",\n",
    "        \":(\":\"sad\",\n",
    "        \":c\":\"sad\",\n",
    "        \":<\":\"sad\",\n",
    "        \":[\":\"sad\",\n",
    "        \":-||\":\"sad\",\n",
    "        \">:[\":\"sad\",\n",
    "        \":{\":\"sad\",\n",
    "        \":@\":\"sad\",\n",
    "        \">:(\":\"sad\",\n",
    "        \":'‑(\":\"sad\",\n",
    "        \":'(\":\"sad\",\n",
    "        \":‑P\":\"playful\",\n",
    "        \"X‑P\":\"playful\",\n",
    "        \"x‑p\":\"playful\",\n",
    "        \":‑p\":\"playful\",\n",
    "        \":‑Þ\":\"playful\",\n",
    "        \":‑þ\":\"playful\",\n",
    "        \":‑b\":\"playful\",\n",
    "        \":P\":\"playful\",\n",
    "        \"XP\":\"playful\",\n",
    "        \"xp\":\"playful\",\n",
    "        \":p\":\"playful\",\n",
    "        \":Þ\":\"playful\",\n",
    "        \":þ\":\"playful\",\n",
    "        \":b\":\"playful\",\n",
    "        \"<3\":\"love\"\n",
    "        }\n",
    "\n",
    "# self defined contractions\n",
    "def load_dict_contractions():\n",
    "    \n",
    "    return {\n",
    "        \"ain't\":\"is not\",\n",
    "        \"amn't\":\"am not\",\n",
    "        \"aren't\":\"are not\",\n",
    "        \"can't\":\"cannot\",\n",
    "        \"'cause\":\"because\",\n",
    "        \"couldn't\":\"could not\",\n",
    "        \"couldn't've\":\"could not have\",\n",
    "        \"could've\":\"could have\",\n",
    "        \"daren't\":\"dare not\",\n",
    "        \"daresn't\":\"dare not\",\n",
    "        \"dasn't\":\"dare not\",\n",
    "        \"didn't\":\"did not\",\n",
    "        \"doesn't\":\"does not\",\n",
    "        \"don't\":\"do not\",\n",
    "        \"e'er\":\"ever\",\n",
    "        \"em\":\"them\",\n",
    "        \"everyone's\":\"everyone is\",\n",
    "        \"finna\":\"fixing to\",\n",
    "        \"gimme\":\"give me\",\n",
    "        \"gonna\":\"going to\",\n",
    "        \"gon't\":\"go not\",\n",
    "        \"gotta\":\"got to\",\n",
    "        \"hadn't\":\"had not\",\n",
    "        \"hasn't\":\"has not\",\n",
    "        \"haven't\":\"have not\",\n",
    "        \"he'd\":\"he would\",\n",
    "        \"he'll\":\"he will\",\n",
    "        \"he's\":\"he is\",\n",
    "        \"he've\":\"he have\",\n",
    "        \"how'd\":\"how would\",\n",
    "        \"how'll\":\"how will\",\n",
    "        \"how're\":\"how are\",\n",
    "        \"how's\":\"how is\",\n",
    "        \"I'd\":\"I would\",\n",
    "        \"I'll\":\"I will\",\n",
    "        \"I'm\":\"I am\",\n",
    "        \"I'm'a\":\"I am about to\",\n",
    "        \"I'm'o\":\"I am going to\",\n",
    "        \"isn't\":\"is not\",\n",
    "        \"it'd\":\"it would\",\n",
    "        \"it'll\":\"it will\",\n",
    "        \"it's\":\"it is\",\n",
    "        \"I've\":\"I have\",\n",
    "        \"kinda\":\"kind of\",\n",
    "        \"let's\":\"let us\",\n",
    "        \"mayn't\":\"may not\",\n",
    "        \"may've\":\"may have\",\n",
    "        \"mightn't\":\"might not\",\n",
    "        \"might've\":\"might have\",\n",
    "        \"mustn't\":\"must not\",\n",
    "        \"mustn't've\":\"must not have\",\n",
    "        \"must've\":\"must have\",\n",
    "        \"needn't\":\"need not\",\n",
    "        \"ne'er\":\"never\",\n",
    "        \"o'\":\"of\",\n",
    "        \"o'er\":\"over\",\n",
    "        \"ol'\":\"old\",\n",
    "        \"oughtn't\":\"ought not\",\n",
    "        \"shalln't\":\"shall not\",\n",
    "        \"shan't\":\"shall not\",\n",
    "        \"she'd\":\"she would\",\n",
    "        \"she'll\":\"she will\",\n",
    "        \"she's\":\"she is\",\n",
    "        \"shouldn't\":\"should not\",\n",
    "        \"shouldn't've\":\"should not have\",\n",
    "        \"should've\":\"should have\",\n",
    "        \"somebody's\":\"somebody is\",\n",
    "        \"someone's\":\"someone is\",\n",
    "        \"something's\":\"something is\",\n",
    "        \"that'd\":\"that would\",\n",
    "        \"that'll\":\"that will\",\n",
    "        \"that're\":\"that are\",\n",
    "        \"that's\":\"that is\",\n",
    "        \"there'd\":\"there would\",\n",
    "        \"there'll\":\"there will\",\n",
    "        \"there're\":\"there are\",\n",
    "        \"there's\":\"there is\",\n",
    "        \"these're\":\"these are\",\n",
    "        \"they'd\":\"they would\",\n",
    "        \"they'll\":\"they will\",\n",
    "        \"they're\":\"they are\",\n",
    "        \"they've\":\"they have\",\n",
    "        \"this's\":\"this is\",\n",
    "        \"those're\":\"those are\",\n",
    "        \"'tis\":\"it is\",\n",
    "        \"'twas\":\"it was\",\n",
    "        \"wanna\":\"want to\",\n",
    "        \"wasn't\":\"was not\",\n",
    "        \"we'd\":\"we would\",\n",
    "        \"we'd've\":\"we would have\",\n",
    "        \"we'll\":\"we will\",\n",
    "        \"we're\":\"we are\",\n",
    "        \"weren't\":\"were not\",\n",
    "        \"we've\":\"we have\",\n",
    "        \"what'd\":\"what did\",\n",
    "        \"what'll\":\"what will\",\n",
    "        \"what're\":\"what are\",\n",
    "        \"what's\":\"what is\",\n",
    "        \"what've\":\"what have\",\n",
    "        \"when's\":\"when is\",\n",
    "        \"where'd\":\"where did\",\n",
    "        \"where're\":\"where are\",\n",
    "        \"where's\":\"where is\",\n",
    "        \"where've\":\"where have\",\n",
    "        \"which's\":\"which is\",\n",
    "        \"who'd\":\"who would\",\n",
    "        \"who'd've\":\"who would have\",\n",
    "        \"who'll\":\"who will\",\n",
    "        \"who're\":\"who are\",\n",
    "        \"who's\":\"who is\",\n",
    "        \"who've\":\"who have\",\n",
    "        \"why'd\":\"why did\",\n",
    "        \"why're\":\"why are\",\n",
    "        \"why's\":\"why is\",\n",
    "        \"won't\":\"will not\",\n",
    "        \"wouldn't\":\"would not\",\n",
    "        \"would've\":\"would have\",\n",
    "        \"y'all\":\"you all\",\n",
    "        \"you'd\":\"you would\",\n",
    "        \"you'll\":\"you will\",\n",
    "        \"you're\":\"you are\",\n",
    "        \"you've\":\"you have\",\n",
    "        \"Whatcha\":\"What are you\",\n",
    "        \"luv\":\"love\",\n",
    "        \"sux\":\"sucks\"\n",
    "        }\n",
    "\n",
    "\n",
    "def tweet_cleaning_for_sentiment_analysis(tweet):    \n",
    "    \n",
    "    #Escaping HTML characters\n",
    "    tweet = BeautifulSoup(tweet).get_text()\n",
    "   \n",
    "    #Special case not handled previously.\n",
    "    tweet = tweet.replace('\\x92',\"'\")\n",
    "    \n",
    "    #Removal of hastags/account\n",
    "    tweet = ' '.join(re.sub(\"(@[A-Za-z0-9]+)|(#[A-Za-z0-9]+)\", \" \", tweet).split())\n",
    "    \n",
    "    #Removal of address\n",
    "    tweet = ' '.join(re.sub(\"(\\w+:\\/\\/\\S+)\", \" \", tweet).split())\n",
    "    \n",
    "    #Removal of Punctuation\n",
    "    tweet = ' '.join(re.sub(\"[\\.\\,\\!\\?\\:\\;\\-\\=]\", \" \", tweet).split())\n",
    "    \n",
    "    #Lower case\n",
    "    tweet = tweet.lower()\n",
    "    \n",
    "    #CONTRACTIONS source: https://en.wikipedia.org/wiki/Contraction_%28grammar%29\n",
    "    CONTRACTIONS = load_dict_contractions()\n",
    "    tweet = tweet.replace(\"’\",\"'\")\n",
    "    words = tweet.split()\n",
    "    reformed = [CONTRACTIONS[word] if word in CONTRACTIONS else word for word in words]\n",
    "    tweet = \" \".join(reformed)\n",
    "    \n",
    "    # Standardizing words\n",
    "    tweet = ''.join(''.join(s)[:2] for _, s in itertools.groupby(tweet))\n",
    "    \n",
    "    #Deal with emoticons source: https://en.wikipedia.org/wiki/List_of_emoticons\n",
    "    SMILEY = load_dict_smileys()  \n",
    "    words = tweet.split()\n",
    "    reformed = [SMILEY[word] if word in SMILEY else word for word in words]\n",
    "    tweet = \" \".join(reformed)\n",
    "    \n",
    "    return tweet"
   ]
  },
  {
   "cell_type": "code",
   "execution_count": 113,
   "metadata": {},
   "outputs": [],
   "source": [
    "for i,j in enumerate(X_train):\n",
    "    X_train[i]=tweet_cleaning_for_sentiment_analysis(j)"
   ]
  },
  {
   "cell_type": "code",
   "execution_count": 114,
   "metadata": {},
   "outputs": [
    {
     "name": "stdout",
     "output_type": "stream",
     "text": [
      "['Let’s be kind today ️.It costs nothing!...#bekind #love #spreadlove #quotestoliveby…\\n'\n",
      " 'Join me this Saturday in the #Midtown/#Downtown area @user #Houston #DJlife…\\n'\n",
      " 'Another fun weekend in the books. Thanks, ladies @ Downtown Frederick, Maryland\\n'\n",
      " ...\n",
      " \"16/50 yet.... How long to cover state of the United States ? We'll find out.#wanderlust…\"\n",
      " '#nomorelittlewhitegloves\"we have to start teaching our daughters to be somebodies and not…\\n'\n",
      " 'Pewee longway x back to cali\\n']\n"
     ]
    }
   ],
   "source": [
    "print(X_test)"
   ]
  },
  {
   "cell_type": "code",
   "execution_count": 115,
   "metadata": {},
   "outputs": [],
   "source": [
    "for i,j in enumerate(X_test):\n",
    "    X_test[i]=tweet_cleaning_for_sentiment_analysis(j)"
   ]
  },
  {
   "cell_type": "code",
   "execution_count": 116,
   "metadata": {},
   "outputs": [
    {
     "name": "stdout",
     "output_type": "stream",
     "text": [
      "['let us be kind today ️ it costs nothing …'\n",
      " 'join me this saturday in the / area …'\n",
      " 'another fun weekend in the books thanks ladies @ downtown frederick maryland'\n",
      " ...\n",
      " '16/50 yet how long to cover state of the united states we will find out …'\n",
      " '\"we have to start teaching our daughters to be somebodies and not…'\n",
      " 'pewee longway x back to cali']\n"
     ]
    }
   ],
   "source": [
    "print(X_test)"
   ]
  },
  {
   "cell_type": "code",
   "execution_count": 117,
   "metadata": {},
   "outputs": [
    {
     "name": "stdout",
     "output_type": "stream",
     "text": [
      "['1' '2' '3' ... '10' '7' '4']\n"
     ]
    }
   ],
   "source": [
    "print(Y_train)"
   ]
  },
  {
   "cell_type": "code",
   "execution_count": 118,
   "metadata": {},
   "outputs": [],
   "source": [
    "f = open('glove.6B.50D.txt',encoding='utf-8')"
   ]
  },
  {
   "cell_type": "code",
   "execution_count": 119,
   "metadata": {},
   "outputs": [],
   "source": [
    "embeddings_index = {}\n",
    "for line in f:\n",
    "   values = line.split()\n",
    "   word = values[0]\n",
    "   coefs = np.asarray(values[1:],dtype='float')\n",
    "   embeddings_index[word] = coefs\n",
    "f.close()"
   ]
  },
  {
   "cell_type": "code",
   "execution_count": 120,
   "metadata": {},
   "outputs": [
    {
     "name": "stdout",
     "output_type": "stream",
     "text": [
      "50\n"
     ]
    }
   ],
   "source": [
    "emb_dim = embeddings_index['eat'].shape[0]\n",
    "print(emb_dim)\n",
    "df=pd.read_csv(\"train_emoji.csv\")\n",
    "m=0\n",
    "for s in X_train:\n",
    "    maxLen=max(len(s),m)"
   ]
  },
  {
   "cell_type": "code",
   "execution_count": 121,
   "metadata": {},
   "outputs": [
    {
     "data": {
      "text/plain": [
       "69"
      ]
     },
     "execution_count": 121,
     "metadata": {},
     "output_type": "execute_result"
    }
   ],
   "source": [
    "maxLen"
   ]
  },
  {
   "cell_type": "code",
   "execution_count": 122,
   "metadata": {},
   "outputs": [
    {
     "name": "stdout",
     "output_type": "stream",
     "text": [
      "['oh wynwood you are so funny @ wynwood…'\n",
      " 'been friends since 7th grade look at us now we all following our dreams doing what we love and…'\n",
      " 'this is what it looks like when someone loves you unconditionally oh puppy brother …'\n",
      " ... 'churrasco con papistas dinner with my favorite person my wife'\n",
      " 'do not forget to nominate your igniter of the week the time is now who why and tag us…'\n",
      " 'saturday night out with this handsome @ the observatory orange county']\n"
     ]
    }
   ],
   "source": [
    "print(X_train)"
   ]
  },
  {
   "cell_type": "code",
   "execution_count": 123,
   "metadata": {},
   "outputs": [],
   "source": [
    "def embedding_output(X):\n",
    "    embedding_out = np.zeros((X.shape[0],maxLen,emb_dim))\n",
    "    for ix in range(X.shape[0]):\n",
    "        X[ix] = X[ix].split()\n",
    "        \n",
    "        for ij in range(len(X[ix])):\n",
    "            try:\n",
    "                embedding_out[ix][ij] = embeddings_index[X[ix][ij].lower()]\n",
    "            except:\n",
    "                embedding_out[ix][ij] = np.zeros((50,))\n",
    "    return embedding_out"
   ]
  },
  {
   "cell_type": "code",
   "execution_count": 124,
   "metadata": {},
   "outputs": [],
   "source": [
    "embeddings_matrix_train = embedding_output(X_train)\n",
    "embeddings_matrix_test = embedding_output(X_test)"
   ]
  },
  {
   "cell_type": "code",
   "execution_count": 125,
   "metadata": {},
   "outputs": [
    {
     "name": "stdout",
     "output_type": "stream",
     "text": [
      "['oh', 'wynwood', 'you', 'are', 'so', 'funny', '@', 'wynwood…']\n",
      "8\n"
     ]
    }
   ],
   "source": [
    "print(X_train[0])\n",
    "print(len(X_train[0]))"
   ]
  },
  {
   "cell_type": "code",
   "execution_count": 126,
   "metadata": {},
   "outputs": [
    {
     "name": "stdout",
     "output_type": "stream",
     "text": [
      "(51635, 69, 50)\n",
      "(13891, 69, 50)\n"
     ]
    }
   ],
   "source": [
    "print(embeddings_matrix_train.shape)\n",
    "print(embeddings_matrix_test.shape)"
   ]
  },
  {
   "cell_type": "code",
   "execution_count": 127,
   "metadata": {},
   "outputs": [],
   "source": [
    "from keras.models import Sequential\n",
    "from keras.layers import *\n",
    "from keras.utils import to_categorical"
   ]
  },
  {
   "cell_type": "code",
   "execution_count": 128,
   "metadata": {
    "scrolled": true
   },
   "outputs": [
    {
     "name": "stdout",
     "output_type": "stream",
     "text": [
      "(51635,)\n",
      "(51635,)\n"
     ]
    }
   ],
   "source": [
    "print(Y_train.shape)\n",
    "print(X_train.shape)"
   ]
  },
  {
   "cell_type": "code",
   "execution_count": 129,
   "metadata": {},
   "outputs": [
    {
     "name": "stdout",
     "output_type": "stream",
     "text": [
      "(51635, 20)\n",
      "[0. 1. 0. 0. 0. 0. 0. 0. 0. 0. 0. 0. 0. 0. 0. 0. 0. 0. 0. 0.]\n"
     ]
    }
   ],
   "source": [
    "Y_train = to_categorical(Y_train,num_classes=20)\n",
    "Y_test = to_categorical(Y_test,num_classes=20)\n",
    "print(Y_train.shape)\n",
    "print(Y_train[0])"
   ]
  },
  {
   "cell_type": "code",
   "execution_count": 130,
   "metadata": {},
   "outputs": [
    {
     "name": "stdout",
     "output_type": "stream",
     "text": [
      "Model: \"sequential_2\"\n",
      "_________________________________________________________________\n",
      "Layer (type)                 Output Shape              Param #   \n",
      "=================================================================\n",
      "lstm_3 (LSTM)                (None, 69, 64)            29440     \n",
      "_________________________________________________________________\n",
      "dropout_3 (Dropout)          (None, 69, 64)            0         \n",
      "_________________________________________________________________\n",
      "lstm_4 (LSTM)                (None, 64)                33024     \n",
      "_________________________________________________________________\n",
      "dropout_4 (Dropout)          (None, 64)                0         \n",
      "_________________________________________________________________\n",
      "dense_2 (Dense)              (None, 20)                1300      \n",
      "_________________________________________________________________\n",
      "activation_2 (Activation)    (None, 20)                0         \n",
      "=================================================================\n",
      "Total params: 63,764\n",
      "Trainable params: 63,764\n",
      "Non-trainable params: 0\n",
      "_________________________________________________________________\n"
     ]
    }
   ],
   "source": [
    "model=Sequential()\n",
    "model.add((LSTM(64,input_shape=(maxLen,50),return_sequences=True)))\n",
    "model.add(Dropout(0.5))\n",
    "model.add(LSTM(64,return_sequences=False))\n",
    "model.add(Dropout(0.5))\n",
    "model.add(Dense(20))\n",
    "model.add(Activation('softmax'))\n",
    "model.compile(loss='categorical_crossentropy',optimizer='adam',metrics=['accuracy'])\n",
    "model.summary()"
   ]
  },
  {
   "cell_type": "code",
   "execution_count": 135,
   "metadata": {},
   "outputs": [
    {
     "name": "stdout",
     "output_type": "stream",
     "text": [
      "Train on 41308 samples, validate on 10327 samples\n",
      "Epoch 1/100\n",
      "41308/41308 [==============================] - 110s 3ms/step - loss: 2.7379 - accuracy: 0.2137 - val_loss: 2.6782 - val_accuracy: 0.2142\n",
      "Epoch 2/100\n",
      "41308/41308 [==============================] - 106s 3ms/step - loss: 2.6814 - accuracy: 0.2210 - val_loss: 2.6735 - val_accuracy: 0.2148\n",
      "Epoch 3/100\n",
      "41308/41308 [==============================] - 104s 3ms/step - loss: 2.6535 - accuracy: 0.2341 - val_loss: 2.6751 - val_accuracy: 0.2336\n",
      "Epoch 4/100\n",
      "41308/41308 [==============================] - 103s 2ms/step - loss: 2.6363 - accuracy: 0.2374 - val_loss: 2.6256 - val_accuracy: 0.2382\n",
      "Epoch 5/100\n",
      "41308/41308 [==============================] - 106s 3ms/step - loss: 2.6201 - accuracy: 0.2434 - val_loss: 2.6150 - val_accuracy: 0.2411\n",
      "Epoch 6/100\n",
      "41308/41308 [==============================] - 102s 2ms/step - loss: 2.6091 - accuracy: 0.2451 - val_loss: 2.6142 - val_accuracy: 0.2420\n",
      "Epoch 7/100\n",
      "41308/41308 [==============================] - 102s 2ms/step - loss: 2.5955 - accuracy: 0.2471 - val_loss: 2.5878 - val_accuracy: 0.2477\n",
      "Epoch 8/100\n",
      "41308/41308 [==============================] - 102s 2ms/step - loss: 2.5657 - accuracy: 0.2546 - val_loss: 2.5535 - val_accuracy: 0.2541\n",
      "Epoch 9/100\n",
      "41308/41308 [==============================] - 103s 2ms/step - loss: 2.5353 - accuracy: 0.2587 - val_loss: 2.5641 - val_accuracy: 0.2520\n",
      "Epoch 10/100\n",
      "41308/41308 [==============================] - 107s 3ms/step - loss: 2.5170 - accuracy: 0.2616 - val_loss: 2.5272 - val_accuracy: 0.2567\n",
      "Epoch 11/100\n",
      "41308/41308 [==============================] - 101s 2ms/step - loss: 2.4998 - accuracy: 0.2675 - val_loss: 2.5347 - val_accuracy: 0.2552\n",
      "Epoch 12/100\n",
      "41308/41308 [==============================] - 101s 2ms/step - loss: 2.4873 - accuracy: 0.2727 - val_loss: 2.5473 - val_accuracy: 0.2640\n",
      "Epoch 13/100\n",
      "41308/41308 [==============================] - 101s 2ms/step - loss: 2.4698 - accuracy: 0.2829 - val_loss: 2.5093 - val_accuracy: 0.2776\n",
      "Epoch 14/100\n",
      "41308/41308 [==============================] - 101s 2ms/step - loss: 2.4546 - accuracy: 0.2907 - val_loss: 2.4986 - val_accuracy: 0.2762\n",
      "Epoch 15/100\n",
      "41308/41308 [==============================] - 101s 2ms/step - loss: 2.4471 - accuracy: 0.2912 - val_loss: 2.4996 - val_accuracy: 0.2776\n",
      "Epoch 16/100\n",
      "41308/41308 [==============================] - 103s 2ms/step - loss: 2.4274 - accuracy: 0.2976 - val_loss: 2.4982 - val_accuracy: 0.2789\n",
      "Epoch 17/100\n",
      "41308/41308 [==============================] - 1933s 47ms/step - loss: 2.4189 - accuracy: 0.2995 - val_loss: 2.4998 - val_accuracy: 0.2795\n",
      "Epoch 18/100\n",
      "41308/41308 [==============================] - 138s 3ms/step - loss: 2.4078 - accuracy: 0.3037 - val_loss: 2.4886 - val_accuracy: 0.2877\n",
      "Epoch 19/100\n",
      "41308/41308 [==============================] - 184s 4ms/step - loss: 2.3941 - accuracy: 0.3082 - val_loss: 2.5004 - val_accuracy: 0.2842\n",
      "Epoch 20/100\n",
      "41308/41308 [==============================] - 194s 5ms/step - loss: 2.3823 - accuracy: 0.3096 - val_loss: 2.4904 - val_accuracy: 0.2862\n",
      "Epoch 21/100\n",
      "41308/41308 [==============================] - 193s 5ms/step - loss: 2.3764 - accuracy: 0.3106 - val_loss: 2.4873 - val_accuracy: 0.2890\n",
      "Epoch 22/100\n",
      "41308/41308 [==============================] - 194s 5ms/step - loss: 2.3664 - accuracy: 0.3130 - val_loss: 2.4901 - val_accuracy: 0.2842\n",
      "Epoch 23/100\n",
      "41308/41308 [==============================] - 124s 3ms/step - loss: 2.3547 - accuracy: 0.3179 - val_loss: 2.4990 - val_accuracy: 0.2863\n",
      "Epoch 24/100\n",
      "41308/41308 [==============================] - 102s 2ms/step - loss: 2.3452 - accuracy: 0.3183 - val_loss: 2.4843 - val_accuracy: 0.2855\n",
      "Epoch 25/100\n",
      "41308/41308 [==============================] - 101s 2ms/step - loss: 2.3374 - accuracy: 0.3211 - val_loss: 2.4808 - val_accuracy: 0.2893\n",
      "Epoch 26/100\n",
      "41308/41308 [==============================] - 102s 2ms/step - loss: 2.3251 - accuracy: 0.3237 - val_loss: 2.4967 - val_accuracy: 0.2888\n",
      "Epoch 27/100\n",
      "41308/41308 [==============================] - 102s 2ms/step - loss: 2.3182 - accuracy: 0.3263 - val_loss: 2.4970 - val_accuracy: 0.2909\n",
      "Epoch 28/100\n",
      "41308/41308 [==============================] - 101s 2ms/step - loss: 2.3075 - accuracy: 0.3290 - val_loss: 2.5001 - val_accuracy: 0.2925\n",
      "Epoch 29/100\n",
      "41308/41308 [==============================] - 2328s 56ms/step - loss: 2.2987 - accuracy: 0.3305 - val_loss: 2.4848 - val_accuracy: 0.2908\n",
      "Epoch 30/100\n",
      "41308/41308 [==============================] - 110s 3ms/step - loss: 2.2883 - accuracy: 0.3337 - val_loss: 2.4817 - val_accuracy: 0.2928\n",
      "Epoch 31/100\n",
      "41308/41308 [==============================] - 120s 3ms/step - loss: 2.2858 - accuracy: 0.3341 - val_loss: 2.5081 - val_accuracy: 0.2870\n",
      "Epoch 32/100\n",
      "41308/41308 [==============================] - 124s 3ms/step - loss: 2.2687 - accuracy: 0.3382 - val_loss: 2.5070 - val_accuracy: 0.2870\n",
      "Epoch 33/100\n",
      "41308/41308 [==============================] - 131s 3ms/step - loss: 2.2575 - accuracy: 0.3417 - val_loss: 2.5091 - val_accuracy: 0.2863\n",
      "Epoch 34/100\n",
      "41308/41308 [==============================] - 147s 4ms/step - loss: 2.2512 - accuracy: 0.3429 - val_loss: 2.4964 - val_accuracy: 0.2852\n",
      "Epoch 35/100\n",
      "41308/41308 [==============================] - 151s 4ms/step - loss: 2.2469 - accuracy: 0.3432 - val_loss: 2.5129 - val_accuracy: 0.2874\n",
      "Epoch 36/100\n",
      "41308/41308 [==============================] - 154s 4ms/step - loss: 2.2349 - accuracy: 0.3468 - val_loss: 2.5479 - val_accuracy: 0.2835\n",
      "Epoch 37/100\n",
      "41308/41308 [==============================] - 151s 4ms/step - loss: 2.2291 - accuracy: 0.3479 - val_loss: 2.5138 - val_accuracy: 0.2872\n",
      "Epoch 38/100\n",
      "41308/41308 [==============================] - 154s 4ms/step - loss: 2.2194 - accuracy: 0.3510 - val_loss: 2.5204 - val_accuracy: 0.2845\n",
      "Epoch 39/100\n",
      "41308/41308 [==============================] - 152s 4ms/step - loss: 2.2056 - accuracy: 0.3562 - val_loss: 2.5478 - val_accuracy: 0.2867\n",
      "Epoch 40/100\n",
      "41308/41308 [==============================] - 154s 4ms/step - loss: 2.2052 - accuracy: 0.3544 - val_loss: 2.5432 - val_accuracy: 0.2864\n",
      "Epoch 41/100\n",
      "41308/41308 [==============================] - 156s 4ms/step - loss: 2.1974 - accuracy: 0.3569 - val_loss: 2.5507 - val_accuracy: 0.2861\n",
      "Epoch 42/100\n",
      "41308/41308 [==============================] - 158s 4ms/step - loss: 2.1846 - accuracy: 0.3594 - val_loss: 2.5383 - val_accuracy: 0.2828\n",
      "Epoch 43/100\n",
      "41308/41308 [==============================] - 159s 4ms/step - loss: 2.1778 - accuracy: 0.3607 - val_loss: 2.5545 - val_accuracy: 0.2784\n",
      "Epoch 44/100\n",
      "41308/41308 [==============================] - 160s 4ms/step - loss: 2.1871 - accuracy: 0.3593 - val_loss: 2.5412 - val_accuracy: 0.2877\n",
      "Epoch 45/100\n",
      "41308/41308 [==============================] - 619s 15ms/step - loss: 2.1786 - accuracy: 0.3615 - val_loss: 2.5368 - val_accuracy: 0.2812\n",
      "Epoch 46/100\n",
      "41308/41308 [==============================] - 836s 20ms/step - loss: 2.1600 - accuracy: 0.3647 - val_loss: 2.5465 - val_accuracy: 0.2842\n",
      "Epoch 47/100\n",
      "41308/41308 [==============================] - 807s 20ms/step - loss: 2.1511 - accuracy: 0.3696 - val_loss: 2.5901 - val_accuracy: 0.2852\n",
      "Epoch 48/100\n",
      "41308/41308 [==============================] - 678s 16ms/step - loss: 2.1420 - accuracy: 0.3700 - val_loss: 2.5769 - val_accuracy: 0.2883\n",
      "Epoch 49/100\n",
      "41308/41308 [==============================] - 786s 19ms/step - loss: 2.1399 - accuracy: 0.3708 - val_loss: 2.5758 - val_accuracy: 0.2814\n",
      "Epoch 50/100\n",
      "41308/41308 [==============================] - 757s 18ms/step - loss: 2.1341 - accuracy: 0.3727 - val_loss: 2.5736 - val_accuracy: 0.2872\n",
      "Epoch 51/100\n",
      "41308/41308 [==============================] - 688s 17ms/step - loss: 2.1212 - accuracy: 0.3744 - val_loss: 2.5991 - val_accuracy: 0.2785\n",
      "Epoch 52/100\n",
      "41308/41308 [==============================] - 950s 23ms/step - loss: 2.1136 - accuracy: 0.3762 - val_loss: 2.5784 - val_accuracy: 0.2811\n",
      "Epoch 53/100\n",
      "41308/41308 [==============================] - 705s 17ms/step - loss: 2.1126 - accuracy: 0.3767 - val_loss: 2.6023 - val_accuracy: 0.2791\n",
      "Epoch 54/100\n",
      "41308/41308 [==============================] - 741s 18ms/step - loss: 2.1102 - accuracy: 0.3791 - val_loss: 2.5908 - val_accuracy: 0.2788\n",
      "Epoch 55/100\n"
     ]
    },
    {
     "name": "stdout",
     "output_type": "stream",
     "text": [
      "41308/41308 [==============================] - 798s 19ms/step - loss: 2.1033 - accuracy: 0.3782 - val_loss: 2.6191 - val_accuracy: 0.2831\n",
      "Epoch 56/100\n",
      "41308/41308 [==============================] - 828s 20ms/step - loss: 2.0918 - accuracy: 0.3824 - val_loss: 2.6203 - val_accuracy: 0.2793\n",
      "Epoch 57/100\n",
      "41308/41308 [==============================] - 792s 19ms/step - loss: 2.0885 - accuracy: 0.3830 - val_loss: 2.6127 - val_accuracy: 0.2798\n",
      "Epoch 58/100\n",
      "41308/41308 [==============================] - 748s 18ms/step - loss: 2.0806 - accuracy: 0.3852 - val_loss: 2.6117 - val_accuracy: 0.2742\n",
      "Epoch 59/100\n",
      "41308/41308 [==============================] - 695s 17ms/step - loss: 2.0757 - accuracy: 0.3875 - val_loss: 2.6427 - val_accuracy: 0.2821\n",
      "Epoch 60/100\n",
      "41308/41308 [==============================] - 109s 3ms/step - loss: 2.0822 - accuracy: 0.3855 - val_loss: 2.6172 - val_accuracy: 0.2789\n",
      "Epoch 61/100\n",
      "41308/41308 [==============================] - 1018s 25ms/step - loss: 2.0667 - accuracy: 0.3889 - val_loss: 2.6136 - val_accuracy: 0.2752\n",
      "Epoch 62/100\n",
      "41308/41308 [==============================] - 816s 20ms/step - loss: 2.0538 - accuracy: 0.3911 - val_loss: 2.6623 - val_accuracy: 0.2776\n",
      "Epoch 63/100\n",
      "41308/41308 [==============================] - 979s 24ms/step - loss: 2.0584 - accuracy: 0.3916 - val_loss: 2.6547 - val_accuracy: 0.2798\n",
      "Epoch 64/100\n",
      "41308/41308 [==============================] - 672s 16ms/step - loss: 2.0485 - accuracy: 0.3957 - val_loss: 2.6665 - val_accuracy: 0.2770\n",
      "Epoch 65/100\n",
      "41308/41308 [==============================] - 691s 17ms/step - loss: 2.0527 - accuracy: 0.3924 - val_loss: 2.6501 - val_accuracy: 0.2805\n",
      "Epoch 66/100\n",
      "41308/41308 [==============================] - 539s 13ms/step - loss: 2.0327 - accuracy: 0.3975 - val_loss: 2.6514 - val_accuracy: 0.2766\n",
      "Epoch 67/100\n",
      "41308/41308 [==============================] - 1099s 27ms/step - loss: 2.0328 - accuracy: 0.3990 - val_loss: 2.6735 - val_accuracy: 0.2719\n",
      "Epoch 68/100\n",
      "41308/41308 [==============================] - 1169s 28ms/step - loss: 2.0272 - accuracy: 0.3968 - val_loss: 2.6689 - val_accuracy: 0.2780\n",
      "Epoch 69/100\n",
      "41308/41308 [==============================] - 757s 18ms/step - loss: 2.0205 - accuracy: 0.4005 - val_loss: 2.6647 - val_accuracy: 0.2706\n",
      "Epoch 70/100\n",
      "41308/41308 [==============================] - 887s 21ms/step - loss: 2.0180 - accuracy: 0.4009 - val_loss: 2.6584 - val_accuracy: 0.2706\n",
      "Epoch 71/100\n",
      "41308/41308 [==============================] - 1221s 30ms/step - loss: 2.0178 - accuracy: 0.4020 - val_loss: 2.7020 - val_accuracy: 0.2736\n",
      "Epoch 72/100\n",
      "41308/41308 [==============================] - 115s 3ms/step - loss: 2.0188 - accuracy: 0.3999 - val_loss: 2.7127 - val_accuracy: 0.2706\n",
      "Epoch 73/100\n",
      "41308/41308 [==============================] - 107s 3ms/step - loss: 2.0056 - accuracy: 0.4052 - val_loss: 2.6977 - val_accuracy: 0.2729\n",
      "Epoch 74/100\n",
      "41308/41308 [==============================] - 100s 2ms/step - loss: 2.0051 - accuracy: 0.4040 - val_loss: 2.6905 - val_accuracy: 0.2778\n",
      "Epoch 75/100\n",
      "41308/41308 [==============================] - 100s 2ms/step - loss: 2.0137 - accuracy: 0.4021 - val_loss: 2.6822 - val_accuracy: 0.2725\n",
      "Epoch 76/100\n",
      "41308/41308 [==============================] - 99s 2ms/step - loss: 1.9959 - accuracy: 0.4061 - val_loss: 2.7361 - val_accuracy: 0.2680\n",
      "Epoch 77/100\n",
      "41308/41308 [==============================] - 494s 12ms/step - loss: 1.9777 - accuracy: 0.4095 - val_loss: 2.7163 - val_accuracy: 0.2681\n",
      "Epoch 78/100\n",
      "41308/41308 [==============================] - 115s 3ms/step - loss: 1.9838 - accuracy: 0.4068 - val_loss: 2.7641 - val_accuracy: 0.2722\n",
      "Epoch 79/100\n",
      "41308/41308 [==============================] - 100s 2ms/step - loss: 1.9838 - accuracy: 0.4084 - val_loss: 2.7121 - val_accuracy: 0.2761\n",
      "Epoch 80/100\n",
      "41308/41308 [==============================] - 100s 2ms/step - loss: 1.9782 - accuracy: 0.4117 - val_loss: 2.7481 - val_accuracy: 0.2745\n",
      "Epoch 81/100\n",
      "41308/41308 [==============================] - 99s 2ms/step - loss: 1.9715 - accuracy: 0.4113 - val_loss: 2.7552 - val_accuracy: 0.2704\n",
      "Epoch 82/100\n",
      "41308/41308 [==============================] - 100s 2ms/step - loss: 1.9615 - accuracy: 0.4130 - val_loss: 2.7522 - val_accuracy: 0.2711\n",
      "Epoch 83/100\n",
      "41308/41308 [==============================] - 100s 2ms/step - loss: 1.9558 - accuracy: 0.4144 - val_loss: 2.7376 - val_accuracy: 0.2730\n",
      "Epoch 84/100\n",
      "41308/41308 [==============================] - 100s 2ms/step - loss: 1.9565 - accuracy: 0.4150 - val_loss: 2.7803 - val_accuracy: 0.2671\n",
      "Epoch 85/100\n",
      "41308/41308 [==============================] - 100s 2ms/step - loss: 1.9577 - accuracy: 0.4144 - val_loss: 2.7825 - val_accuracy: 0.2654\n",
      "Epoch 86/100\n",
      "41308/41308 [==============================] - 101s 2ms/step - loss: 1.9514 - accuracy: 0.4159 - val_loss: 2.7682 - val_accuracy: 0.2714\n",
      "Epoch 87/100\n",
      "41308/41308 [==============================] - 127s 3ms/step - loss: 1.9412 - accuracy: 0.4183 - val_loss: 2.7769 - val_accuracy: 0.2708\n",
      "Epoch 88/100\n",
      "41308/41308 [==============================] - 112s 3ms/step - loss: 1.9428 - accuracy: 0.4191 - val_loss: 2.7621 - val_accuracy: 0.2636\n",
      "Epoch 89/100\n",
      "41308/41308 [==============================] - 108s 3ms/step - loss: 1.9346 - accuracy: 0.4217 - val_loss: 2.7842 - val_accuracy: 0.2683\n",
      "Epoch 90/100\n",
      "41308/41308 [==============================] - 106s 3ms/step - loss: 1.9328 - accuracy: 0.4219 - val_loss: 2.8001 - val_accuracy: 0.2620\n",
      "Epoch 91/100\n",
      "41308/41308 [==============================] - 100s 2ms/step - loss: 1.9275 - accuracy: 0.4231 - val_loss: 2.7735 - val_accuracy: 0.2645\n",
      "Epoch 92/100\n",
      "41308/41308 [==============================] - 100s 2ms/step - loss: 1.9351 - accuracy: 0.4224 - val_loss: 2.7438 - val_accuracy: 0.2659\n",
      "Epoch 93/100\n",
      "41308/41308 [==============================] - 101s 2ms/step - loss: 1.9184 - accuracy: 0.4256 - val_loss: 2.8261 - val_accuracy: 0.2623\n",
      "Epoch 94/100\n",
      "41308/41308 [==============================] - 100s 2ms/step - loss: 1.9212 - accuracy: 0.4246 - val_loss: 2.8144 - val_accuracy: 0.2608\n",
      "Epoch 95/100\n",
      "41308/41308 [==============================] - 99s 2ms/step - loss: 1.9125 - accuracy: 0.4264 - val_loss: 2.8223 - val_accuracy: 0.2661\n",
      "Epoch 96/100\n",
      "41308/41308 [==============================] - 99s 2ms/step - loss: 1.9145 - accuracy: 0.4272 - val_loss: 2.8111 - val_accuracy: 0.2668\n",
      "Epoch 97/100\n",
      "41308/41308 [==============================] - 99s 2ms/step - loss: 1.9195 - accuracy: 0.4253 - val_loss: 2.7867 - val_accuracy: 0.2620\n",
      "Epoch 98/100\n",
      "41308/41308 [==============================] - 99s 2ms/step - loss: 1.9066 - accuracy: 0.4293 - val_loss: 2.8109 - val_accuracy: 0.2623\n",
      "Epoch 99/100\n",
      "41308/41308 [==============================] - 99s 2ms/step - loss: 1.8948 - accuracy: 0.4322 - val_loss: 2.8693 - val_accuracy: 0.2563\n",
      "Epoch 100/100\n",
      "41308/41308 [==============================] - 106s 3ms/step - loss: 1.8946 - accuracy: 0.4324 - val_loss: 2.8391 - val_accuracy: 0.2571\n"
     ]
    }
   ],
   "source": [
    "from keras.callbacks import EarlyStopping\n",
    "from keras.callbacks import ModelCheckpoint\n",
    "\n",
    "checkpoint = ModelCheckpoint(\"best_model.h5\",monitor='val_loss',save_best_only=True)\n",
    "earlystop=EarlyStopping(monitor='val_acc',patience=10)\n",
    "hist=model.fit(embeddings_matrix_train,Y_train,epochs=100,batch_size=64,shuffle=True,validation_split=0.2)"
   ]
  },
  {
   "cell_type": "code",
   "execution_count": 138,
   "metadata": {},
   "outputs": [],
   "source": [
    "model.save(\"lstm_model.h5\")"
   ]
  },
  {
   "cell_type": "code",
   "execution_count": 140,
   "metadata": {},
   "outputs": [],
   "source": [
    "model.load_weights(\"lstm_model.h5\")"
   ]
  },
  {
   "cell_type": "code",
   "execution_count": 153,
   "metadata": {},
   "outputs": [],
   "source": [
    "pred= model.predict_classes(embeddings_matrix_test)"
   ]
  },
  {
   "cell_type": "code",
   "execution_count": 154,
   "metadata": {},
   "outputs": [
    {
     "name": "stdout",
     "output_type": "stream",
     "text": [
      "[ 3  3 13 ... 11  2  7]\n"
     ]
    }
   ],
   "source": [
    "print(pred)"
   ]
  },
  {
   "cell_type": "code",
   "execution_count": 155,
   "metadata": {},
   "outputs": [],
   "source": [
    "#model.load_weights(\"best_model.h5\")"
   ]
  },
  {
   "cell_type": "code",
   "execution_count": 159,
   "metadata": {},
   "outputs": [
    {
     "name": "stdout",
     "output_type": "stream",
     "text": [
      "51635/51635 [==============================] - 50s 968us/step\n"
     ]
    },
    {
     "data": {
      "text/plain": [
       "[2.001079704482846, 0.4139052927494049]"
      ]
     },
     "execution_count": 159,
     "metadata": {},
     "output_type": "execute_result"
    }
   ],
   "source": [
    "model.evaluate(embeddings_matrix_train,Y_train)"
   ]
  },
  {
   "cell_type": "code",
   "execution_count": 157,
   "metadata": {},
   "outputs": [],
   "source": [
    "#pred=model.predict_classes(embeddings_matrix_train)"
   ]
  },
  {
   "cell_type": "code",
   "execution_count": 167,
   "metadata": {},
   "outputs": [
    {
     "name": "stdout",
     "output_type": "stream",
     "text": [
      "let us be kind today ️ it costs nothing …\n",
      "🖤\n",
      "😂\n",
      "join me this saturday in the / area …\n",
      "🔥\n",
      "😂\n",
      "another fun weekend in the books thanks ladies @ downtown frederick maryland\n",
      "😘\n",
      "✨\n",
      "she is my favorite little dweeb @ clarksville elite gymnastics center\n",
      "🖤\n",
      "🖤\n",
      "hipster life @ new hope–lambertville bridge\n",
      "😂\n",
      "😍\n",
      "our time lapse video of from @ rosecrans memorial airport\n",
      "😎\n",
      "📸\n",
      "tomorrow night i'm back at for my monthly residency w/ special guest\n",
      "🔥\n",
      "✨\n",
      "love spending time with my fam and love weekend trips to vegas @ las vegas nevada\n",
      "😎\n",
      "🖤\n",
      "just married …\n",
      "🖤\n",
      "😍\n",
      "i am loving boulder walked around this pretty town fall air & street fair feeling fine &…\n",
      "🖤\n",
      "🖤\n",
      "from the east coast to the west coast wishing you all a very merry christmas with abundant…\n",
      "✨\n",
      "🎄\n",
      "@ foothill farms california\n",
      "😁\n",
      "😂\n",
      "pesto & sausage mac'n cheese'in me crazy at gordonbennettbk~ …\n",
      "😜\n",
      "🖤\n",
      "take a dive with our maldives brief @ hollywood\n",
      "📸\n",
      "🖤\n",
      "2nd attempt at concocting a dupe my first attempt…\n",
      "😜\n",
      "😂\n",
      "you all know i'm a mess right the founders of…\n",
      "😂\n",
      "😂\n",
      "~everything good by the weekend~see u guys soon @ sugarloaf country…\n",
      "💕\n",
      "😂\n",
      "me some sunsets (at stoplight) …\n",
      "🖤\n",
      "☀\n",
      "i like you sometimes @ nashua new hampshire\n",
      "💕\n",
      "😍\n",
      "f o r e s t b a t h i n g 森林浴 shinrin yoku the japanese term is finally seeing its glory in…\n",
      "✨\n",
      "😉\n",
      "feelin good feelin great giving all thanks to the most high for another opportunity to bless…\n",
      "😁\n",
      "✨\n",
      "living the artist roadie life today @ c2e2\n",
      "😂\n",
      "😍\n",
      "date night is theright time for football w/ i …\n",
      "🖤\n",
      "😍\n",
      "s/o to the homie \"who you my nigga\" new single o d s on…\n",
      "🔥\n",
      "🔥\n",
      "purple haze was lit with my babes @ pi kapp\n",
      "🔥\n",
      "🔥\n",
      "justa lil grilled earlier this summer u see the ️ glistening off those bones\n",
      "☀\n",
      "😂\n",
      "need very little reason to go shopping when the says there is a meeting tonight and…\n",
      "😎\n",
      "🔥\n",
      "dapper day @ disney's magic kingdom\n",
      "✨\n",
      "😍\n",
      "maisha @ city of compton\n",
      "😘\n",
      "🖤\n",
      "new work \\\\ danni nichols …\n",
      "📷\n",
      "😍\n",
      "i actually hate birds @ aquarium of the pacific\n",
      "😂\n",
      "🖤\n",
      "what a great way to spend a tuesday night @ new york new york\n",
      "😍\n",
      "✨\n",
      "sunshine in the rain when it is pouring @ whittamore's farm\n",
      "📷\n",
      "☀\n",
      "life reflect back to us what is already within our minds sacred morning mediation on…\n",
      "✨\n",
      "🖤\n",
      "introducing the pokénut got to catch them while supplies last limited run tomorrow chocolate…\n",
      "🔥\n",
      "🔥\n",
      "off to downtown again\n",
      "😍\n",
      "🖤\n",
      "i see the hispanics here wear team jordans & jordan flight too huh\n",
      "😂\n",
      "😂\n",
      "that nitro brew tho …\n",
      "🔥\n",
      "😂\n",
      "heading to (@ san diego station (san) in san diego ca)\n",
      "😁\n",
      "🖤\n",
      "in @ fort bragg glass beach\n",
      "🖤\n",
      "😂\n",
      "i've never been so in love ️ @ williams on the lake\n",
      "🖤\n",
      "🖤\n",
      "i'd walk to you if i had no other way @ dr phillips high school\n",
      "🖤\n",
      "😍\n",
      "a little food for thought @ kelli's bodyshop\n",
      "😉\n",
      "😂\n",
      "girl time @ times square new york city\n",
      "🖤\n",
      "✨\n",
      "best place to be atm @ copernicus center\n",
      "😍\n",
      "🖤\n",
      "caitiehawthorne lookin soo fine wearing my first spray painted tee in front of my…\n",
      "✨\n",
      "📸\n",
      "one legged x escapes a whole new series has been uploaded last week on our website …\n",
      "🔥\n",
      "🖤\n",
      "getting tea with my girls at bubble hut …\n",
      "😁\n",
      "😍\n",
      "happy birthday @ the cheesecake factory\n",
      "😘\n",
      "🖤\n",
      "@ soho lower…\n",
      "🖤\n",
      "😂\n",
      "i was supposed to be dd but that shit did not happen\n",
      "😂\n",
      "😂\n",
      "i love asparagus and i love recipe for it @ west des moines iowa\n",
      "😍\n",
      "😍\n",
      "️ @ iatse ballroom by anthony's caterers\n",
      "🖤\n",
      "😂\n",
      "awesome dinner with awesome friends ️ @ wicked weed brewing\n",
      "🖤\n",
      "🖤\n",
      "on wednesday's we wear pink @ pure raw juice towson\n",
      "💕\n",
      "💕\n",
      "fresh off da plane and i run into tha brozay grayson wes @ olympix fitness\n",
      "😎\n",
      "🖤\n",
      "finally got one of just us love her with all my heart her friendship has changed me in so…\n",
      "😍\n",
      "🖤\n",
      "this shot of in the thanks to for capturing ・・ …\n",
      "💕\n",
      "📸\n",
      "thanks for being the best date @ sanford pentagon\n",
      "🖤\n",
      "🖤\n",
      "6 looks with tiffany da silvamodel positiph …\n",
      "📷\n",
      "📸\n",
      "brothers @ san pedro california\n",
      "🖤\n",
      "🖤\n",
      "a picnic @ garcia bend park\n",
      "💙\n",
      "😎\n",
      "first workout of the year is done (@ train for life in chicopee ma)\n",
      "😁\n",
      "😍\n",
      "would not want to wake up at 5am and drive four hours to watch anyone else compete @ doane…\n",
      "💕\n",
      "🖤\n",
      "where is bubba …\n",
      "💙\n",
      "😂\n",
      "last night was so amazing thank you so much for putting on an awesome show @ badlands\n",
      "😍\n",
      "💕\n",
      "you are only as good as the people you have around you from my session…\n",
      "📷\n",
      "🖤\n",
      "@ museum of ice cream\n",
      "💕\n",
      "🇺🇸\n",
      "haha i've exposed paddy to the wonders of being a starbucks white girl i'm a pretty good…\n",
      "🖤\n",
      "✨\n",
      "midnight snowstorms @ williamsburg brooklyn\n",
      "😍\n",
      "🖤\n",
      "hbd to my ️ @ dumbo brooklyn\n",
      "🖤\n",
      "🖤\n",
      "san diego padres baseball is coming …\n",
      "😂\n",
      "😂\n",
      "it is a stormy beach morning i it @ oceanfront 34th & atlantic va beach\n",
      "🖤\n",
      "😂\n",
      "we are here for you @ the orchard\n",
      "💙\n",
      "💕\n",
      "curious george @ stones place\n",
      "😘\n",
      "📸\n",
      "i love shopping its tomorrow but who said i cannot start early @ buckhead…\n",
      "😂\n",
      "😍\n",
      "your mcm's wcw @ charlotte north carolina\n",
      "😜\n",
      "😂\n",
      "movie date with my boys ️ @ movie tavern at roswell\n",
      "🖤\n",
      "🖤\n",
      "molly meatlog and furpapa @ toronto ontario\n",
      "💕\n",
      "🖤\n",
      "omg first day in la has been a success lisa vanderpump's was amazing these are…\n",
      "😍\n",
      "😍\n",
      "just because i rarely take pictures with my grandparents they are literally my second parents ️…\n",
      "🖤\n",
      "🖤\n",
      "it is a gorgeous day on @ downtown…\n",
      "☀\n",
      "😎\n",
      "hey i do not remember giving u pizza do not tell\n",
      "😂\n",
      "😍\n",
      "it was a pleasure meet you both we cannot wait to hear what you think of the…\n",
      "💕\n",
      "😂\n",
      "it is looking back like where did the weekend go …\n",
      "📸\n",
      "😍\n",
      "️ ️ ️ in our new \"lilly\" top available now at…\n",
      "🖤\n",
      "🖤\n",
      "two types of sunshine mimosas and cheese @ diamond jim's grill\n",
      "☀\n",
      "🖤\n",
      "thank god it is finally spring @ tempe arizona\n",
      "☀\n",
      "☀\n",
      "(@ larios on the beach in miami beach fl)\n",
      "😎\n",
      "😎\n",
      "it is not crab season but the heart wants what it wants …\n",
      "😍\n",
      "😂\n",
      "just one idaho vandal wall at sutton ranch dedicated alumni @ midvale idaho\n",
      "😍\n",
      "😍\n",
      "loub'd and ready to go @ garden district new orleans\n",
      "📸\n",
      "✨\n",
      "just the 3 of us\n",
      "🖤\n",
      "🖤\n",
      "wb breakfast date with my boy this morning @ wrightsville beach n c\n",
      "💙\n",
      "☀\n",
      "good morning from auto integrity llc @ auto integrity llc\n",
      "😁\n",
      "📸\n",
      "talk about a spoiled @ denver…\n",
      "😂\n",
      "😂\n",
      "it was a cool night on bourbon st @ maison bourbon\n",
      "😎\n",
      "😍\n",
      "he going off again let us go general_reezy repost from general_reezy using repostregramapp …\n",
      "🔥\n",
      "🖤\n",
      "today was such a beautiful experience grateful for all these opportunities @ roosevelt island\n",
      "✨\n",
      "🖤\n",
      "visiting paulishaa so happy she is in town (@ the standard east village in new york ny)\n",
      "🖤\n",
      "😂\n"
     ]
    }
   ],
   "source": [
    "import random as rd\n",
    "for i in range(100):\n",
    "    print(' '.join(X_test[i]))\n",
    "    print(emoji.emojize(emoji_dictionary[str(np.argmax(Y_test[i]))]))\n",
    "    print(emoji.emojize(emoji_dictionary[str(pred[i])]))"
   ]
  },
  {
   "cell_type": "code",
   "execution_count": null,
   "metadata": {},
   "outputs": [],
   "source": []
  }
 ],
 "metadata": {
  "kernelspec": {
   "display_name": "Python 3",
   "language": "python",
   "name": "python3"
  },
  "language_info": {
   "codemirror_mode": {
    "name": "ipython",
    "version": 3
   },
   "file_extension": ".py",
   "mimetype": "text/x-python",
   "name": "python",
   "nbconvert_exporter": "python",
   "pygments_lexer": "ipython3",
   "version": "3.7.4"
  }
 },
 "nbformat": 4,
 "nbformat_minor": 2
}
